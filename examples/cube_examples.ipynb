{
 "cells": [
  {
   "cell_type": "code",
   "execution_count": 2,
   "metadata": {},
   "outputs": [
    {
     "name": "stdout",
     "output_type": "stream",
     "text": [
      "DO_FOLDER = /Users/oblinger/ob/proj/sv/algorithms2/do\n",
      "The loadables are added to the '/Users/oblinger/ob/proj/sv/algorithms2/do/hello' folder\n",
      "Do module's do folder: '/Users/oblinger/ob/proj/sv/algorithms2/do'\n",
      "WARNING: DO_folder for jupyter = {DO_FOLDER} does not match {_DO_FOLDER}\n",
      "\n",
      "\n",
      "\n",
      "\n",
      "\n"
     ]
    }
   ],
   "source": [
    "import os\n",
    "\n",
    "# setup stuff.  The cell just supports the workbook, you can ignore it\n",
    "\n",
    "\n",
    "DO_FOLDER = os.path.abspath(f\"{os.getcwd()}/../do/hello/cube_examples\")\n",
    "FILE_CONTENTS = '''\n",
    "hello_world.py\n",
    "def hello_world():\n",
    "    print(\"   hello world!\")\n",
    "---\n",
    "hello_again.py\n",
    "def hello_again():\n",
    "    print(\"   Hello World again!\")\n",
    "\n",
    "\n",
    "def hella():\n",
    "    print(\"   HELLA Hello World!!!  Hello world again.\")\n",
    "\n",
    "\n",
    "def salutation(name=\"Hello\", *, emphasis=False, lucky_number=999):\n",
    "    line = F\"   {name}, My lucky number is {lucky_number}\"\n",
    "    print(F\"{line.upper()}!\" if emphasis else line)\n",
    "    return lucky_number\n",
    "'''\n",
    "\n",
    "def add_loadable(name, *, show=True):\n",
    "    at, contents = FILES[name]\n",
    "    path = os.path.join(DO_FOLDER, at)\n",
    "    if not os.path.exists(p := os.path.dirname(path)):\n",
    "        os.makedirs(p)\n",
    "    with open(path, 'w') as f:\n",
    "        f.write(contents)\n",
    "    with_bar = \"\\n  | \".join(contents.split(\"\\n\"))\n",
    "    if show:\n",
    "        print(F\"\\n### ADDED LOADABLE {'do/'+at!r}\\n  | {with_bar}\\n\\n\")\n",
    "\n",
    "def add_all_loadables():\n",
    "    for name in FILES.keys():\n",
    "        add_loadable(name, show=False)\n",
    "        \n",
    "def cleanup_loadables():\n",
    "    for suffix in FILES.keys():\n",
    "        path = os.path.join(DO_FOLDER, at)\n",
    "        if os.path.exists(path):\n",
    "            os.remove(path)\n",
    "\n",
    "def run_do(*args, **kwargs):\n",
    "    parts = [repr(x) for x in args] + [F\"{k}={v!r}\" for k, v in kwargs.items()]\n",
    "    print(F\"do({', '.join(parts)})\")\n",
    "    result = do(*args, **kwargs)\n",
    "    print(F\"--> {result!r}\")\n",
    "    print()\n",
    "\n",
    "\n",
    "FILES = {}\n",
    "for f in map(str.strip, FILE_CONTENTS.split('---')):\n",
    "    lines = f.split('\\n')  \n",
    "    FILES[lines[0]] = (lines[0], '\\n'.join(lines[1:]))\n",
    "    add_loadable(lines[0], show=False)\n",
    "    \n",
    "\n",
    "# add_all_loadables()\n",
    "from utils.do import do, load, _DO_FOLDER  # Add all loadables BEFORE loading this module\n",
    "print(F\"The loadables are added to the {DO_FOLDER!r} folder\")\n",
    "print(F\"Do module's do folder: {_DO_FOLDER!r}\")\n",
    "if DO_FOLDER != _DO_FOLDER:\n",
    "    print(\"WARNING: DO_folder for jupyter = {DO_FOLDER} does not match {_DO_FOLDER}\")\n",
    "if not os.path.exists(DO_FOLDER):\n",
    "    input(f\"WARNING: Do folder {DO_FOLDER} not found.\")\n",
    "    os.makedirs(DO_FOLDER)\n",
    "print(\"\\n\\n\\n\\n\")\n",
    "\n",
    "\n"
   ]
  },
  {
   "attachments": {},
   "cell_type": "raw",
   "metadata": {},
   "source": [
    "# CUBE\n",
    "\n",
    "Demonstrates and test\n",
    "\n",
    "A Cube encodes data as a list of data points that are each encoded as a dict with key-value pairs indicating both indicies of the data as well as values of the data within the data cube.\n",
    "The Cube class applies a set of \n",
    "\n",
    "The do function provides efficient access to dynamically searched and loaded python functions:\n",
    "1. that are referenced by a naming string\n",
    "2. that are dynmaically loaded from a python module\n",
    "3. that accept fixed & keyword arguments and return results as any function does\n",
    "\n",
    ".\n",
    "## EXAMPLE -- A SIMPLEST \"DO\" CALL\n",
    "This \"do\" loads hello_world.py and runs the function hello_world from it."
   ]
  },
  {
   "cell_type": "code",
   "execution_count": 3,
   "metadata": {},
   "outputs": [
    {
     "name": "stdout",
     "output_type": "stream",
     "text": [
      "\n",
      "### ADDED LOADABLE 'do/hello_world.py'\n",
      "  | def hello_world():\n",
      "  |     print(\"   hello world!\")\n",
      "\n",
      "\n"
     ]
    }
   ],
   "source": [
    "add_loadable(\"hello_world.py\")"
   ]
  },
  {
   "cell_type": "code",
   "execution_count": 4,
   "metadata": {},
   "outputs": [
    {
     "data": {
      "text/plain": [
       "'/Users/oblinger/ob/proj/sv/algorithms2/do'"
      ]
     },
     "execution_count": 4,
     "metadata": {},
     "output_type": "execute_result"
    }
   ],
   "source": [
    "from utils.do import _DO_FOLDER\n",
    "_DO_FOLDER"
   ]
  },
  {
   "cell_type": "code",
   "execution_count": 5,
   "metadata": {},
   "outputs": [
    {
     "name": "stdout",
     "output_type": "stream",
     "text": [
      "   hello world!\n"
     ]
    }
   ],
   "source": [
    "do(\"hello_world\")"
   ]
  },
  {
   "cell_type": "markdown",
   "metadata": {},
   "source": [
    ".\n",
    "## EXAMPLE -- MULTIPLE DO FUNCTIONS DEFINED IN ONE MODULE\n",
    "One can put multiple do functions in one file and reference them with a dot notion as shown here."
   ]
  },
  {
   "cell_type": "code",
   "execution_count": 6,
   "metadata": {},
   "outputs": [
    {
     "name": "stdout",
     "output_type": "stream",
     "text": [
      "\n",
      "### ADDED LOADABLE 'do/hello_again.py'\n",
      "  | def hello_again():\n",
      "  |     print(\"   Hello World again!\")\n",
      "  | \n",
      "  | \n",
      "  | def hella():\n",
      "  |     print(\"   HELLA Hello World!!!  Hello world again.\")\n",
      "  | \n",
      "  | \n",
      "  | def salutation(name=\"Hello\", *, emphasis=False, lucky_number=999):\n",
      "  |     line = F\"   {name}, My lucky number is {lucky_number}\"\n",
      "  |     print(F\"{line.upper()}!\" if emphasis else line)\n",
      "  |     return lucky_number\n",
      "\n",
      "\n"
     ]
    }
   ],
   "source": [
    "add_loadable(\"hello_again.py\")"
   ]
  },
  {
   "cell_type": "code",
   "execution_count": 7,
   "metadata": {},
   "outputs": [
    {
     "name": "stdout",
     "output_type": "stream",
     "text": [
      "   HELLA Hello World!!!  Hello world again.\n"
     ]
    }
   ],
   "source": [
    "do(\"hello_again.hella\")"
   ]
  },
  {
   "cell_type": "markdown",
   "metadata": {},
   "source": [
    ".\n",
    "## EXAMPLE -- PASSING ARGS AND RESULTS\n",
    "Here we see fixed and keyword args being forwarded by do to the underlying function.\n",
    "And likewise its result is forward back to be the result of the do call."
   ]
  },
  {
   "cell_type": "code",
   "execution_count": 8,
   "metadata": {},
   "outputs": [
    {
     "name": "stdout",
     "output_type": "stream",
     "text": [
      "   MICHAEL, MY LUCKY NUMBER IS 999!\n"
     ]
    },
    {
     "data": {
      "text/plain": [
       "999"
      ]
     },
     "execution_count": 8,
     "metadata": {},
     "output_type": "execute_result"
    }
   ],
   "source": [
    "do(\"hello_again.salutation\", \"Michael\", emphasis=True)"
   ]
  },
  {
   "cell_type": "markdown",
   "metadata": {},
   "source": [
    ".\n",
    "## EXAMPLE -- ALL SUB-FOLDERS ARE SCANNED FOR \"DO\" FUNCTION\n",
    "Here we see \"deep_hello\" is called even when it occurs deeply within the folder tree."
   ]
  },
  {
   "cell_type": "code",
   "execution_count": 9,
   "metadata": {},
   "outputs": [
    {
     "name": "stdout",
     "output_type": "stream",
     "text": [
      "\n",
      "### ADDED LOADABLE 'do/deep/deep/deep/deep_hello.py'\n",
      "  | def deep_hello():\n",
      "  |     print(\"hello echoing out from deep in the filesystem!\")\n",
      "\n",
      "\n"
     ]
    }
   ],
   "source": [
    "add_loadable(\"deep/deep/deep/deep_hello.py\")"
   ]
  },
  {
   "cell_type": "code",
   "execution_count": 10,
   "metadata": {},
   "outputs": [
    {
     "name": "stdout",
     "output_type": "stream",
     "text": [
      "hello echoing out from deep in the filesystem!\n"
     ]
    }
   ],
   "source": [
    "do(\"deep_hello\")"
   ]
  },
  {
   "cell_type": "markdown",
   "metadata": {},
   "source": [
    ".\n",
    ".\n",
    "# >>> CALLING A CONFIGURATION <<<\n",
    "In addition to invoking a simple function, \"do\" can also invoke a configuration dict.\n",
    "In this case:\n",
    "1. The dict is expanded by recursively looking up \"main.base\" and using its values tree as defaults\n",
    "2. Then finally calling the function associated with \"main.do\"\n",
    "3. The expanded dict is passed as the first arg followed by args passed to do"
   ]
  },
  {
   "cell_type": "markdown",
   "metadata": {},
   "source": [
    ".\n",
    "## EXAMPLE -- CALLING A CONFIG\n",
    "Here 'hello_config' loads a json file instead of a python function.\n",
    "In this case the \"main.do\" value of \"hello config action\" is loaded and called."
   ]
  },
  {
   "cell_type": "code",
   "execution_count": 11,
   "metadata": {},
   "outputs": [
    {
     "name": "stdout",
     "output_type": "stream",
     "text": [
      "\n",
      "### ADDED LOADABLE 'do/hello_config.json'\n",
      "  | {\n",
      "  |     \"main\": {\n",
      "  |         \"do\": \"configurable_salutation\"\n",
      "  |     },\n",
      "  |     \"name\": \"Hello\",\n",
      "  |     \"lucky_number\": 7,\n",
      "  |     \"emphasis\": false\n",
      "  | }\n",
      "\n",
      "\n"
     ]
    }
   ],
   "source": [
    "add_loadable(\"hello_config.json\")"
   ]
  },
  {
   "cell_type": "code",
   "execution_count": 12,
   "metadata": {},
   "outputs": [
    {
     "name": "stdout",
     "output_type": "stream",
     "text": [
      "\n",
      "### ADDED LOADABLE 'do/configurable_salutation.py'\n",
      "  | def configurable_salutation(spec, name=None, *, emphasis=False, lucky_number=None):\n",
      "  |     name = spec.get(\"name\") if name is None else name\n",
      "  |     emphasis = spec.get(\"emphasis\")\n",
      "  |     lucky_number = spec.get(\"lucky_number\")\n",
      "  |     line = F\"   {name}, My lucky number is {lucky_number}\"\n",
      "  |     print(F\"{line.upper()}!\" if emphasis else line)\n",
      "  |     return lucky_number\n",
      "\n",
      "\n"
     ]
    }
   ],
   "source": [
    "add_loadable(\"configurable_salutation.py\")"
   ]
  },
  {
   "cell_type": "code",
   "execution_count": 13,
   "metadata": {},
   "outputs": [
    {
     "name": "stdout",
     "output_type": "stream",
     "text": [
      "   Martin, My lucky number is 7\n"
     ]
    },
    {
     "data": {
      "text/plain": [
       "7"
      ]
     },
     "execution_count": 13,
     "metadata": {},
     "output_type": "execute_result"
    }
   ],
   "source": [
    "do(\"hello_config\", \"Martin\")"
   ]
  },
  {
   "cell_type": "markdown",
   "metadata": {},
   "source": [
    ".\n",
    "## EXAMPLE -- CONFIG INHERITANCE\n",
    "Here 'hello_shadowing_config' sets lucky_number to 777 and inherits function to call and other parameters from 'hello_config'."
   ]
  },
  {
   "cell_type": "code",
   "execution_count": 14,
   "metadata": {},
   "outputs": [
    {
     "name": "stdout",
     "output_type": "stream",
     "text": [
      "\n",
      "### ADDED LOADABLE 'do/hello_shadowed_config.json'\n",
      "  | {\n",
      "  |   \"main\": {\n",
      "  |     \"base\": \"hello_config\" },\n",
      "  |   \"lucky_number\":  777\n",
      "  | }\n",
      "\n",
      "\n"
     ]
    }
   ],
   "source": [
    "add_loadable(\"hello_shadowed_config.json\")"
   ]
  },
  {
   "cell_type": "code",
   "execution_count": 15,
   "metadata": {},
   "outputs": [
    {
     "name": "stdout",
     "output_type": "stream",
     "text": [
      "   Hello, My lucky number is 777\n"
     ]
    },
    {
     "data": {
      "text/plain": [
       "777"
      ]
     },
     "execution_count": 15,
     "metadata": {},
     "output_type": "execute_result"
    }
   ],
   "source": [
    "do(\"hello_shadowed_config\")"
   ]
  },
  {
   "cell_type": "markdown",
   "metadata": {},
   "source": [
    "_\n",
    "## EXAMPLE -- COMBINING CONFIGS AND CODE\n",
    "Complex tools (including nearly a visualizers/report generators) naturally have simple config info best expressed as a config dict,\n",
    "and complex config best expressed in python.  Forcing these to be separate loadables will generate confusing sea of many tiny \n",
    "separate 2-line loadable files.\n",
    "\n",
    "To address this \"do\" allows config data (normally stored in .json) to be stored in a variable in a .py file.  This allows that\n",
    "config info to be bundled with functions that are referenced by that same config in the same module.  \n",
    "\n",
    "The example below shows a silly complex tool that applies a sequence to text transformation rules to a sequence of letters.\n",
    "The first loadable provides a config with the base parameters and the rule engine itself.  The second loadable configures the tool and \n",
    "provides a couple of small python rule functions that are used by the configuration all nicely wrapped up in a single .py file."
   ]
  },
  {
   "cell_type": "code",
   "execution_count": 16,
   "metadata": {},
   "outputs": [
    {
     "name": "stdout",
     "output_type": "stream",
     "text": [
      "\n",
      "### ADDED LOADABLE 'do/letterator.py'\n",
      "  | from utils.do import load\n",
      "  | \n",
      "  | \"\"\"Silly configurable tool for applying rules to a sequence of letters.\"\"\"\n",
      "  | letterator = {\n",
      "  |     \"main\": {\n",
      "  |       \"do\": \"letterator.run\",      # example of a complex tool config\n",
      "  |       \"title\": \"The Letterator\"\n",
      "  |     },   \n",
      "  |     \"start\": 48,\n",
      "  |     \"end\": 122\n",
      "  | }\n",
      "  | \n",
      "  | def run(spec):\n",
      "  |     results = []\n",
      "  |     for idx in range(spec[\"start\"], spec[\"end\"]):\n",
      "  |         text = chr(idx)\n",
      "  |         for step, rule_name in spec[\"rules\"]:\n",
      "  |             fn = load(rule_name)\n",
      "  |             if idx % step == 0:\n",
      "  |                 text = fn(idx, text)\n",
      "  |         results.append(text)\n",
      "  |     print(spec[\"main\"][\"title\"])\n",
      "  |     return \"  \".join(results)\n",
      "\n",
      "\n"
     ]
    }
   ],
   "source": [
    "add_loadable(\"letterator.py\")"
   ]
  },
  {
   "cell_type": "code",
   "execution_count": 17,
   "metadata": {},
   "outputs": [
    {
     "name": "stdout",
     "output_type": "stream",
     "text": [
      "\n",
      "### ADDED LOADABLE 'do/my_letters.py'\n",
      "  | my_letters = {\n",
      "  |   \"main\": {\"base\": \"letterator\"},\n",
      "  |   \"start\": 97,\n",
      "  |   \"rules\": [\n",
      "  |     (7, \"my_letters.jackpot\"),\n",
      "  |     (3, \"my_letters.triple_it\"),\n",
      "  |     (5, \"my_letters.all_caps_it\")]\n",
      "  | }\n",
      "  | \n",
      "  | def triple_it(idx, text):\n",
      "  |     return F\"{text}{text}{text}\"\n",
      "  | \n",
      "  | def all_caps_it(idx, text):\n",
      "  |     return text.upper()\n",
      "  | \n",
      "  | def jackpot(idx, text):\n",
      "  |     return \"jackpot \"\n",
      "\n",
      "\n"
     ]
    }
   ],
   "source": [
    "add_loadable(\"my_letters.py\")"
   ]
  },
  {
   "cell_type": "code",
   "execution_count": 18,
   "metadata": {},
   "outputs": [
    {
     "name": "stdout",
     "output_type": "stream",
     "text": [
      "The Letterator\n"
     ]
    },
    {
     "data": {
      "text/plain": [
       "'a  jackpot   ccc  D  e  fff  g  h  JACKPOT JACKPOT JACKPOT   j  k  lll  m  N  ooo  jackpot   q  rrr  S  t  uuu  v  jackpot   XXX  y'"
      ]
     },
     "execution_count": 18,
     "metadata": {},
     "output_type": "execute_result"
    }
   ],
   "source": [
    "do(\"my_letters\")"
   ]
  },
  {
   "cell_type": "markdown",
   "metadata": {},
   "source": [
    ".\n",
    ".\n",
    "# USE CASE - SELF DOCUMENTING PROCESSES\n",
    "When possible we can use simple verisoned object to help us execute coding processes, and \n",
    "track/maintain those processes.  "
   ]
  },
  {
   "cell_type": "markdown",
   "metadata": {},
   "source": [
    ".\n",
    "## EXAMPLE -- Loadable constant\n",
    "Here we show that a loadable can be any python constant data value.\n",
    "In this example we have a set of named lists that are used to track \n",
    "our supported dataset, metrics, and tools.\n",
    "\n",
    "This versioned data structure is used as input by the 'naughtly_list' script that scans\n",
    "supported components to see that each has (1) a doc string, both quick and full regression tests, etc.\n"
   ]
  },
  {
   "cell_type": "code",
   "execution_count": 19,
   "metadata": {},
   "outputs": [
    {
     "name": "stdout",
     "output_type": "stream",
     "text": [
      "\n",
      "### ADDED LOADABLE 'do/supported.yaml'\n",
      "  | datasets:\n",
      "  | - regression_games # Any game referenced by any regression test MUST be listed here\n",
      "  | - baller10  # Default dataset use by all basketball metrics\n",
      "  | - volley10\n",
      "  | - arron4    # Examples of higher resolution games\n",
      "  | metrics:\n",
      "  | - team_highlight.money  # Jason agreed money metric for team highlights \n",
      "  | - team_highlight.precision # Just the precision portion of this metric\n",
      "  | - player_highlight.money # Jason agreed, include player ID\n",
      "  | - basket_stats.money # Jason agree, metric for points, player, make-miss stats\n",
      "  | - p_metric # used in 2022\n",
      "\n",
      "\n"
     ]
    }
   ],
   "source": [
    "add_loadable(\"supported.yaml\")"
   ]
  },
  {
   "cell_type": "code",
   "execution_count": 20,
   "metadata": {},
   "outputs": [
    {
     "name": "stdout",
     "output_type": "stream",
     "text": [
      "\n",
      "### ADDED LOADABLE 'do/team_highlight.py'\n",
      "  | \"\"\"\n",
      "  | Team highlight money is the F1 where correctness is tied to correctly assessing shot \n",
      "  | attempt and make-miss, without consideration of player-ID nor number of points scored.\n",
      "  | \n",
      "  | This is the Jason approved metric associated with our team highlights product, and we\n",
      "  | have agreed 80% is the minimum approved threshold required for product ship.\n",
      "  | \"\"\"\n",
      "  | \n",
      "  | from inst import Inst\n",
      "  | \n",
      "  | def reg_quick_test():\n",
      "  |     run_result = Inst.load(\"reg1_latest\")   # Reg1 is the pickle for a special 5-min game snipit\n",
      "  |     assert do(\"team_highlight_money\", run_result) > .65\n",
      "  | \n",
      "  | reg_full_test = \"std_full1\"  # indicates full regression testing is part of 'std_full1'\n",
      "  | \n",
      "  | def money(run_result: Inst) -> float:\n",
      "  |     return -1 # implementation goes here\n",
      "  | \n",
      "  |     \n",
      "  | def precision(run_result: Inst) -> float:\n",
      "  |     return -1 # implementation goes here\n",
      "\n",
      "\n"
     ]
    }
   ],
   "source": [
    "add_loadable(\"team_highlight.py\")"
   ]
  },
  {
   "cell_type": "code",
   "execution_count": 21,
   "metadata": {},
   "outputs": [
    {
     "name": "stdout",
     "output_type": "stream",
     "text": [
      "\n",
      "### ADDED LOADABLE 'do/naughty_list.py'\n",
      "  | \"\"\"\n",
      "  | The \"naughty list\" scans all supported datasets, metrics, visualization/debugging tools \n",
      "  | and verifies they are (1) properly documented, (2) they execute their full regressions, \n",
      "  | (3) The continue to run against representative games, metrics, tools.\n",
      "  | \n",
      "  | Any metric, tool, dataset that is not fully compliant is indicated on the naugthy list.\n",
      "  | \"\"\"\n",
      "  | \n",
      "  | from do import load\n",
      "  | \n",
      "  | def naughty_list():\n",
      "  |     # this double for loop checks docs exist, regression test exists, and passes etc.\n",
      "  |     for section, supported_insts in load(\"supported\").items():\n",
      "  |         for name in supported_insts:\n",
      "  |             try:\n",
      "  |                 inst = load(name)\n",
      "  |                 if not hasattr(inst, \"__DOC__\"):\n",
      "  |                     print(F\"   {section} {name} does not have a valid doc string\")\n",
      "  |                 if not hasattr(inst, ):\n",
      "  |                     print(F\"   {section} {name} does not have a valid doc string\")\n",
      "  |                 if not hasattr(inst, \"reg_quick_test\"):\n",
      "  |                     print(F\"   {section} {name} does not have a valid quick regression test\")\n",
      "  |                 if not hasattr(inst, \"reg_full_test\"):\n",
      "  |                     print(F\"   {section} {name} does not have a valid full regression test\")\n",
      "  |             except:\n",
      "  |                 print(F\"Could not find {name!r} loadable.\")\n",
      "\n",
      "\n"
     ]
    }
   ],
   "source": [
    "add_loadable(\"naughty_list.py\")"
   ]
  },
  {
   "cell_type": "code",
   "execution_count": 22,
   "metadata": {},
   "outputs": [
    {
     "ename": "ModuleNotFoundError",
     "evalue": "No module named 'src'",
     "output_type": "error",
     "traceback": [
      "\u001b[0;31m---------------------------------------------------------------------------\u001b[0m",
      "\u001b[0;31mModuleNotFoundError\u001b[0m                       Traceback (most recent call last)",
      "Cell \u001b[0;32mIn[22], line 2\u001b[0m\n\u001b[1;32m      1\u001b[0m \u001b[38;5;66;03m# Note this code cannot run since\u001b[39;00m\n\u001b[0;32m----> 2\u001b[0m \u001b[38;5;28;01mfrom\u001b[39;00m \u001b[38;5;21;01minst\u001b[39;00m \u001b[38;5;28;01mimport\u001b[39;00m Inst\n\u001b[1;32m      3\u001b[0m \u001b[38;5;28;01mfrom\u001b[39;00m \u001b[38;5;21;01mdo\u001b[39;00m \u001b[38;5;28;01mimport\u001b[39;00m load\n\u001b[1;32m      5\u001b[0m reg1_name \u001b[38;5;241m=\u001b[39m load(\u001b[38;5;124m\"\u001b[39m\u001b[38;5;124msupported\u001b[39m\u001b[38;5;124m\"\u001b[39m)[\u001b[38;5;124m\"\u001b[39m\u001b[38;5;124mdatasets\u001b[39m\u001b[38;5;124m\"\u001b[39m][\u001b[38;5;241m0\u001b[39m]   \u001b[38;5;66;03m# Gets then name of a mcproc result to use\u001b[39;00m\n",
      "File \u001b[0;32m~/ob/proj/sv/algorithms2/src/inst/__init__.py:3\u001b[0m\n\u001b[1;32m      1\u001b[0m \u001b[38;5;28;01mfrom\u001b[39;00m \u001b[38;5;21;01m.\u001b[39;00m\u001b[38;5;21;01minst\u001b[39;00m \u001b[38;5;28;01mimport\u001b[39;00m Inst, InstContainer, DataState\n\u001b[0;32m----> 3\u001b[0m \u001b[38;5;28;01mfrom\u001b[39;00m \u001b[38;5;21;01m.\u001b[39;00m \u001b[38;5;28;01mimport\u001b[39;00m builtins\n",
      "File \u001b[0;32m~/ob/proj/sv/algorithms2/src/inst/builtins/__init__.py:1\u001b[0m\n\u001b[0;32m----> 1\u001b[0m \u001b[38;5;28;01mfrom\u001b[39;00m \u001b[38;5;21;01m.\u001b[39;00m\u001b[38;5;21;01mgame\u001b[39;00m \u001b[38;5;28;01mimport\u001b[39;00m Game\n\u001b[1;32m      2\u001b[0m \u001b[38;5;28;01mfrom\u001b[39;00m \u001b[38;5;21;01m.\u001b[39;00m\u001b[38;5;21;01mmcproc_run\u001b[39;00m \u001b[38;5;28;01mimport\u001b[39;00m MCProcRun\n",
      "File \u001b[0;32m~/ob/proj/sv/algorithms2/src/inst/builtins/game.py:4\u001b[0m\n\u001b[1;32m      1\u001b[0m \u001b[38;5;28;01mfrom\u001b[39;00m \u001b[38;5;21;01mpathlib\u001b[39;00m \u001b[38;5;28;01mimport\u001b[39;00m Path\n\u001b[1;32m      2\u001b[0m \u001b[38;5;28;01mfrom\u001b[39;00m \u001b[38;5;21;01mtyping\u001b[39;00m \u001b[38;5;28;01mimport\u001b[39;00m Dict, List, Literal, Union\n\u001b[0;32m----> 4\u001b[0m \u001b[38;5;28;01mfrom\u001b[39;00m \u001b[38;5;21;01msrc\u001b[39;00m\u001b[38;5;21;01m.\u001b[39;00m\u001b[38;5;21;01minst\u001b[39;00m\u001b[38;5;21;01m.\u001b[39;00m\u001b[38;5;21;01minst\u001b[39;00m \u001b[38;5;28;01mimport\u001b[39;00m DataState, Inst\n\u001b[1;32m      5\u001b[0m \u001b[38;5;28;01mfrom\u001b[39;00m \u001b[38;5;21;01msrc\u001b[39;00m\u001b[38;5;21;01m.\u001b[39;00m\u001b[38;5;21;01mutils\u001b[39;00m\u001b[38;5;21;01m.\u001b[39;00m\u001b[38;5;21;01mannotations\u001b[39;00m\u001b[38;5;21;01m.\u001b[39;00m\u001b[38;5;21;01mannotations\u001b[39;00m \u001b[38;5;28;01mimport\u001b[39;00m GTShotAnnotations, TruthErrorAnnotations\n\u001b[1;32m      8\u001b[0m \u001b[38;5;28;01mclass\u001b[39;00m \u001b[38;5;21;01mGame\u001b[39;00m(Inst):\n",
      "\u001b[0;31mModuleNotFoundError\u001b[0m: No module named 'src'"
     ]
    }
   ],
   "source": [
    "# Note this code cannot run since\n",
    "from inst import Inst\n",
    "from do import load\n",
    "\n",
    "reg1_name = load(\"supported\")[\"datasets\"][0]   # Gets then name of a mcproc result to use\n",
    "reg1 = Inst(spec={}, path=\".\")     # This should be Inst.load(reg1) but that inst does not exist here\n",
    "score = do(\"team_highlight.money\", reg1)  # computes money metric on reg1\n",
    "\n",
    "do(\"naughty_list\")   # runs our checking code"
   ]
  },
  {
   "cell_type": "markdown",
   "metadata": {},
   "source": [
    ".\n",
    ".\n",
    "# USING DO FROM THE COMMAND LINE\n",
    "Do encapsulates execution as a self describing building block.  The do function is designed to be easily \n",
    "embedded within larger execution scripts.  In some cases it is convenient for a user to directly invoke do\n",
    "as a toplevel command.  The do commandline interface provide command line support \"for free\" for any such \n",
    "do function. It defines a simple mapping from expected --arguments and -a argument onto Python fixed and kwargs.\n",
    "This probably best shown using a series of examples:"
   ]
  },
  {
   "cell_type": "markdown",
   "metadata": {},
   "source": [
    ".\n",
    "### EXAMPLE -- Showing default usage command for "
   ]
  },
  {
   "cell_type": "code",
   "execution_count": 23,
   "metadata": {},
   "outputs": [
    {
     "name": "stdout",
     "output_type": "stream",
     "text": [
      "zsh:1: no such file or directory: ./do\n"
     ]
    }
   ],
   "source": [
    "!./do --usage"
   ]
  },
  {
   "cell_type": "markdown",
   "metadata": {},
   "source": [
    ".\n",
    "### EXAMPLE -- INVOKING A DO FUNCTION FROM THE COMMAND LINE\n",
    "Earlier we had hello salutation that took fixed and keyword args.\n",
    "Without additonal configuration we can invoke it from the command line\n",
    "using UNIX style args and flags as shown here:"
   ]
  },
  {
   "cell_type": "code",
   "execution_count": 24,
   "metadata": {},
   "outputs": [
    {
     "name": "stdout",
     "output_type": "stream",
     "text": [
      "zsh:1: no such file or directory: ./do\n"
     ]
    }
   ],
   "source": [
    "!../do hello_again.salutation Maxim --emphasis"
   ]
  },
  {
   "cell_type": "markdown",
   "metadata": {},
   "source": [
    ".\n",
    "### EXAMPLE -- INVOKING A CONFIGURED TOOL FROM THE COMMAND LINE\n",
    "In this example we show one also can invoke a do configuration from the command line as well.\n",
    "Here we have the same configurable \"letterator\" tool invoked as a do function above:"
   ]
  },
  {
   "cell_type": "code",
   "execution_count": 38,
   "metadata": {},
   "outputs": [
    {
     "name": "stdout",
     "output_type": "stream",
     "text": [
      "\n",
      "### ADDED LOADABLE 'do/my_letters.py'\n",
      "  | my_letters = {\n",
      "  |   \"main\": {\"base\": \"letterator\"},\n",
      "  |   \"start\": 97,\n",
      "  |   \"rules\": [\n",
      "  |     (7, \"my_letters.jackpot\"),\n",
      "  |     (3, \"my_letters.triple_it\"),\n",
      "  |     (5, \"my_letters.all_caps_it\")]\n",
      "  | }\n",
      "  | \n",
      "  | def triple_it(idx, text):\n",
      "  |     return F\"{text}{text}{text}\"\n",
      "  | \n",
      "  | def all_caps_it(idx, text):\n",
      "  |     return text.upper()\n",
      "  | \n",
      "  | def jackpot(idx, text):\n",
      "  |     return \"jackpot \"\n",
      "\n",
      "\n"
     ]
    }
   ],
   "source": [
    "add_loadable(\"my_letters.py\")"
   ]
  },
  {
   "cell_type": "code",
   "execution_count": 63,
   "metadata": {},
   "outputs": [
    {
     "name": "stdout",
     "output_type": "stream",
     "text": [
      "The Letterator\n",
      "a  jackpot   ccc  D  e  fff  g  h  JACKPOT JACKPOT JACKPOT   j  k  lll  m  N  ooo  jackpot   q  rrr  S  t  uuu  v  jackpot   XXX  y\n"
     ]
    }
   ],
   "source": [
    "!./do my_letters"
   ]
  },
  {
   "cell_type": "markdown",
   "metadata": {},
   "source": [
    "### EXAMPLE -- TWEAK CONFIG FROM COMMANDLINE\n",
    "Often we script and configure a complex test, but then we want to tweak one or two parameters over and over and check our results.\n",
    "(This becomes especially powerful when intermediate results are cached, so retesting is fast.)"
   ]
  },
  {
   "cell_type": "code",
   "execution_count": 62,
   "metadata": {},
   "outputs": [
    {
     "name": "stdout",
     "output_type": "stream",
     "text": [
      "Re-configured letterator\n",
      "a  bbb  c  ddd  e  fff  g  hhh  i  jjj  k  lll  m  nnn  o  ppp  q  rrr  s  ttt  u  vvv  w  xxx  y\n"
     ]
    }
   ],
   "source": [
    "!./do my_letters --set main.title \"Re-configured letterator\" --json rules '[[2, \"my_letters.triple_it\"]]'"
   ]
  },
  {
   "cell_type": "markdown",
   "metadata": {},
   "source": [
    ".\n",
    "### EXAMPLE -- SETTING MULTIPLE PARAMETERS AT ONCE\n",
    "The --sets keyword can perform multiple simple assigments at once"
   ]
  },
  {
   "cell_type": "code",
   "execution_count": 67,
   "metadata": {},
   "outputs": [
    {
     "name": "stdout",
     "output_type": "stream",
     "text": [
      "Quickie\n",
      "D  e  fff  g  h  JACKPOT JACKPOT JACKPOT   j  k  lll  m\n"
     ]
    }
   ],
   "source": [
    "!./do my_letters --sets main.title=Quickie,start=100,end=110"
   ]
  },
  {
   "cell_type": "markdown",
   "metadata": {},
   "source": [
    "# CLEANUP\n",
    "Removes loadable files created by this example script"
   ]
  },
  {
   "cell_type": "code",
   "execution_count": null,
   "metadata": {},
   "outputs": [],
   "source": [
    "cleanup_loadables()"
   ]
  }
 ],
 "metadata": {
  "kernelspec": {
   "display_name": "Python 3 (ipykernel)",
   "language": "python",
   "name": "python3"
  },
  "language_info": {
   "codemirror_mode": {
    "name": "ipython",
    "version": 3
   },
   "file_extension": ".py",
   "mimetype": "text/x-python",
   "name": "python",
   "nbconvert_exporter": "python",
   "pygments_lexer": "ipython3",
   "version": "3.12.1"
  }
 },
 "nbformat": 4,
 "nbformat_minor": 4
}
