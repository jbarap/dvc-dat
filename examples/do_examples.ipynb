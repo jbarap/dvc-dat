{
 "cells": [
  {
   "cell_type": "code",
   "metadata": {
    "ExecuteTime": {
     "end_time": "2024-05-26T02:30:10.653947Z",
     "start_time": "2024-05-26T02:30:10.330979Z"
    }
   },
   "source": [
    "import os\n",
    "import sys\n",
    "sys.path.append(os.path.dirname(os.path.dirname(os.getcwd())))\n",
    "\n",
    "# Setup stuff.  The cell just supports the workbook, you can ignore it\n",
    "EXAMPLE_DO_FOLDER = os.path.join(os.getcwd(), \"example_do_folder\")\n",
    "INSERTION_FOLDER = EXAMPLE_DO_FOLDER\n",
    "\n",
    "def show_loadable(at):\n",
    "    with open(os.path.join(INSERTION_FOLDER, at)) as file:\n",
    "        contents = file.read()\n",
    "    with_bar = \"\\n  | \".join(contents.split(\"\\n\"))\n",
    "    print(F\"\\n### SHOWING MODULE {'.../'+at!r}\\n  | {with_bar}\\n\\n\")\n",
    "\n",
    "def run_do(*args, **kwargs):\n",
    "    parts = [repr(x) for x in args] + [F\"{k}={v!r}\" for k, v in kwargs.items()]\n",
    "    print(F\"do({', '.join(parts)})\")\n",
    "    result = do(*args, **kwargs)\n",
    "    print(F\"--> {result!r}\")\n",
    "    print()\n",
    "\n",
    "\n",
    "print(F\"### INSERTION FOLDER        = {INSERTION_FOLDER!r}\")\n",
    "print(F\"### DO FOLDER (in Jupyter)  = {EXAMPLE_DO_FOLDER}\")\n",
    "sys.path.append(os.path.dirname(os.path.dirname(EXAMPLE_DO_FOLDER)))\n",
    "from dvc_dat import do, dat_config   # Add all loadables BEFORE loading this module\n",
    "if not os.path.exists(INSERTION_FOLDER):\n",
    "    input(f\"WARNING: INSERTION_FOLDER {INSERTION_FOLDER!r} not found.\")\n",
    "    os.makedirs(INSERTION_FOLDER)\n",
    "print(\"\\n\\n\\n\\n\")\n",
    "\n",
    "\n"
   ],
   "outputs": [
    {
     "name": "stdout",
     "output_type": "stream",
     "text": [
      "### INSERTION FOLDER        = '/Users/oblinger/ob/proj/dvc-dat/examples/example_do_folder'\n",
      "### DO FOLDER (in Jupyter)  = /Users/oblinger/ob/proj/dvc-dat/examples/example_do_folder\n",
      "\n",
      "\n",
      "\n",
      "\n",
      "\n"
     ]
    }
   ],
   "execution_count": 1
  },
  {
   "cell_type": "markdown",
   "source": [],
   "metadata": {
    "collapsed": false
   }
  },
  {
   "cell_type": "markdown",
   "source": [
    "<style>\n",
    ".output_scroll {\n",
    "    height: 1500px !important; /* You can change 500px to your desired height */\n",
    "}\n",
    "</style>"
   ],
   "metadata": {
    "collapsed": false
   }
  },
  {
   "cell_type": "markdown",
   "metadata": {
    "collapsed": false,
    "jupyter": {
     "outputs_hidden": false
    }
   },
   "source": [
    "# Mapping dotted-strings to python source code objects.\n",
    "The \"do.load\" function provides a simple way to load functions and data directly from\n",
    "python source modules.\n"
   ]
  },
  {
   "cell_type": "markdown",
   "metadata": {},
   "source": [
    "### Registering and accessing python objects"
   ]
  },
  {
   "cell_type": "code",
   "metadata": {
    "ExecuteTime": {
     "end_time": "2024-05-26T02:30:11.813157Z",
     "start_time": "2024-05-26T02:30:11.811050Z"
    }
   },
   "source": "do.mount(at=\"foo.bar.baz\", value=[11, \"two\"])",
   "outputs": [],
   "execution_count": 2
  },
  {
   "cell_type": "code",
   "metadata": {
    "ExecuteTime": {
     "end_time": "2024-05-26T02:30:11.994949Z",
     "start_time": "2024-05-26T02:30:11.991344Z"
    }
   },
   "source": [
    "do.load(\"foo.bar.baz\")"
   ],
   "outputs": [
    {
     "data": {
      "text/plain": [
       "[11, 'two']"
      ]
     },
     "execution_count": 3,
     "metadata": {},
     "output_type": "execute_result"
    }
   ],
   "execution_count": 3
  },
  {
   "cell_type": "markdown",
   "metadata": {},
   "source": [
    ".\n",
    "##### And you can see semantically this is just a dict-tree of values:"
   ]
  },
  {
   "cell_type": "code",
   "metadata": {
    "ExecuteTime": {
     "end_time": "2024-05-26T02:30:12.348276Z",
     "start_time": "2024-05-26T02:30:12.346749Z"
    }
   },
   "source": [
    "# Code needs to be refactored for this to work:\n",
    "# do.load(\"foo.bar\")   "
   ],
   "outputs": [],
   "execution_count": 4
  },
  {
   "cell_type": "markdown",
   "metadata": {},
   "source": [
    "### Registering python modules\n",
    "Here we register a python module, then load data a functions from it via dotted.names."
   ]
  },
  {
   "cell_type": "code",
   "metadata": {
    "ExecuteTime": {
     "end_time": "2024-05-26T02:30:12.693650Z",
     "start_time": "2024-05-26T02:30:12.691109Z"
    }
   },
   "source": [
    "path = f\"{EXAMPLE_DO_FOLDER}/some_python_file.py\"\n",
    "print(f\"here we are registering 'params' as {path!r}.\")\n",
    "do.mount(at=\"params\", file=path)"
   ],
   "outputs": [
    {
     "name": "stdout",
     "output_type": "stream",
     "text": [
      "here we are registering 'params' as '/Users/oblinger/ob/proj/dvc-dat/examples/example_do_folder/some_python_file.py'.\n"
     ]
    }
   ],
   "execution_count": 5
  },
  {
   "cell_type": "code",
   "source": [
    "show_loadable(\"some_python_file.py\")"
   ],
   "metadata": {
    "collapsed": false,
    "ExecuteTime": {
     "end_time": "2024-05-26T02:30:12.866832Z",
     "start_time": "2024-05-26T02:30:12.864730Z"
    }
   },
   "outputs": [
    {
     "name": "stdout",
     "output_type": "stream",
     "text": [
      "\n",
      "### SHOWING MODULE '.../some_python_file.py'\n",
      "  | \n",
      "  | def a_function():\n",
      "  |     return \"Hello from a function in a python file\"\n",
      "  | \n",
      "  | \n",
      "  | a_value = {\n",
      "  |     \"alpha\": 111\n",
      "  | }\n",
      "  | \n",
      "\n",
      "\n"
     ]
    }
   ],
   "execution_count": 6
  },
  {
   "cell_type": "code",
   "metadata": {
    "ExecuteTime": {
     "end_time": "2024-05-26T02:30:13.038895Z",
     "start_time": "2024-05-26T02:30:13.035982Z"
    }
   },
   "source": [
    "do.load(\"params.a_value\")"
   ],
   "outputs": [
    {
     "data": {
      "text/plain": [
       "{'alpha': 111}"
      ]
     },
     "execution_count": 7,
     "metadata": {},
     "output_type": "execute_result"
    }
   ],
   "execution_count": 7
  },
  {
   "cell_type": "code",
   "metadata": {
    "ExecuteTime": {
     "end_time": "2024-05-26T02:30:13.188977Z",
     "start_time": "2024-05-26T02:30:13.186559Z"
    }
   },
   "source": [
    "fn = do.load(\"params.a_function\")\n",
    "fn()"
   ],
   "outputs": [
    {
     "data": {
      "text/plain": [
       "'Hello from a function in a python file'"
      ]
     },
     "execution_count": 8,
     "metadata": {},
     "output_type": "execute_result"
    }
   ],
   "execution_count": 8
  },
  {
   "cell_type": "code",
   "metadata": {
    "ExecuteTime": {
     "end_time": "2024-05-26T02:30:13.368297Z",
     "start_time": "2024-05-26T02:30:13.366056Z"
    }
   },
   "source": [
    "# And we can see that the do function is just a wrapper around the do.load.  This performs the same function as the above cell.\n",
    "do(\"params.a_function\")"
   ],
   "outputs": [
    {
     "data": {
      "text/plain": [
       "'Hello from a function in a python file'"
      ]
     },
     "execution_count": 9,
     "metadata": {},
     "output_type": "execute_result"
    }
   ],
   "execution_count": 9
  },
  {
   "cell_type": "markdown",
   "metadata": {
    "collapsed": false,
    "jupyter": {
     "outputs_hidden": false
    }
   },
   "source": [
    "### DATCONFIG - Implicitly registered modules\n",
    "'Do' will scan from CWD to find '.datconfig' and use the do_folder it specifies.  At load time this folder tree is scanned and all .py .json and .yaml files found are implicitly registered according to the basename of each file."
   ]
  },
  {
   "cell_type": "code",
   "metadata": {
    "ExecuteTime": {
     "end_time": "2024-05-26T02:30:13.698716Z",
     "start_time": "2024-05-26T02:30:13.696588Z"
    }
   },
   "source": [
    "show_loadable(\"../.datconfig\")"
   ],
   "outputs": [
    {
     "name": "stdout",
     "output_type": "stream",
     "text": [
      "\n",
      "### SHOWING MODULE '.../../.datconfig'\n",
      "  | {\n",
      "  |     \"dat_data_folder\": \"example_dat_data_folder\",\n",
      "  |     \"mount_commands\": [\n",
      "  |         {\"add_do_folder\": \"example_do_folder\"}\n",
      "  |     ]\n",
      "  | }\n",
      "  | \n",
      "\n",
      "\n"
     ]
    }
   ],
   "execution_count": 10
  },
  {
   "cell_type": "code",
   "metadata": {
    "collapsed": false,
    "jupyter": {
     "outputs_hidden": false
    },
    "ExecuteTime": {
     "end_time": "2024-05-26T02:30:13.877193Z",
     "start_time": "2024-05-26T02:30:13.875033Z"
    }
   },
   "source": [
    "show_loadable(\"hello/do_examples/my_data.py\")\n"
   ],
   "outputs": [
    {
     "name": "stdout",
     "output_type": "stream",
     "text": [
      "\n",
      "### SHOWING MODULE '.../hello/do_examples/my_data.py'\n",
      "  | from dvc_dat import do\n",
      "  | \n",
      "  | main = [111, 222, 333]\n",
      "  | message = \"Hello from my_data!\"\n",
      "  | def my_function():\n",
      "  |     print(\"Hello from my_function!\")\n",
      "  |     return 123\n",
      "  | a_tree = {\n",
      "  |     \"a\": do.load(\"my_yaml_data\"),\n",
      "  |     \"b\": 2,\n",
      "  |     \"c\": {\n",
      "  |         \"d\": my_function,\n",
      "  |         \"e\": 4,\n",
      "  |         \"f\": {\n",
      "  |             \"g\": 5,\n",
      "  |             \"h\": 6,\n",
      "  |             \"i\": 7  } } }\n",
      "  | \n",
      "\n",
      "\n"
     ]
    }
   ],
   "execution_count": 11
  },
  {
   "cell_type": "markdown",
   "metadata": {},
   "source": [
    "#### Loading from implicitly defined modules\n",
    "These values are all loaded from python and yaml files implicitly registered since they are contained under the do_folder."
   ]
  },
  {
   "cell_type": "code",
   "metadata": {
    "collapsed": false,
    "jupyter": {
     "outputs_hidden": false
    },
    "ExecuteTime": {
     "end_time": "2024-05-26T02:30:14.217661Z",
     "start_time": "2024-05-26T02:30:14.212482Z"
    }
   },
   "source": [
    "do.load(\"my_data.message\")    # Returns the global variable 'message' from the my_data.py file."
   ],
   "outputs": [
    {
     "data": {
      "text/plain": [
       "'Hello from my_data!'"
      ]
     },
     "execution_count": 12,
     "metadata": {},
     "output_type": "execute_result"
    }
   ],
   "execution_count": 12
  },
  {
   "cell_type": "code",
   "metadata": {
    "collapsed": false,
    "jupyter": {
     "outputs_hidden": false
    },
    "ExecuteTime": {
     "end_time": "2024-05-26T02:30:14.385515Z",
     "start_time": "2024-05-26T02:30:14.383427Z"
    }
   },
   "source": [
    "do.load(\"my_data.a_tree.b\")   # Returns the value of the nested variable 'b' from the 'a_tree' dictionary in my_data.py"
   ],
   "outputs": [
    {
     "data": {
      "text/plain": [
       "2"
      ]
     },
     "execution_count": 13,
     "metadata": {},
     "output_type": "execute_result"
    }
   ],
   "execution_count": 13
  },
  {
   "cell_type": "code",
   "metadata": {
    "ExecuteTime": {
     "end_time": "2024-05-26T02:30:14.579995Z",
     "start_time": "2024-05-26T02:30:14.577688Z"
    }
   },
   "source": [
    "#\n",
    "# But under the covers, this tree of values is really still just data contained in some python module.  This module can be accessed directly if needed:\n",
    "do.load(\"my_data\")"
   ],
   "outputs": [
    {
     "data": {
      "text/plain": [
       "[111, 222, 333]"
      ]
     },
     "execution_count": 14,
     "metadata": {},
     "output_type": "execute_result"
    }
   ],
   "execution_count": 14
  },
  {
   "cell_type": "code",
   "metadata": {
    "collapsed": false,
    "jupyter": {
     "outputs_hidden": false
    },
    "ExecuteTime": {
     "end_time": "2024-05-26T02:30:14.730408Z",
     "start_time": "2024-05-26T02:30:14.728389Z"
    }
   },
   "source": [
    "show_loadable(\"hello/do_examples/my_yaml_data.yaml\")"
   ],
   "outputs": [
    {
     "name": "stdout",
     "output_type": "stream",
     "text": [
      "\n",
      "### SHOWING MODULE '.../hello/do_examples/my_yaml_data.yaml'\n",
      "  | one:\n",
      "  |   - alpha\n",
      "  |   - beta\n",
      "  | two:\n",
      "  |   - gamma\n",
      "  |   - delta\n",
      "  | \n",
      "\n",
      "\n"
     ]
    }
   ],
   "execution_count": 15
  },
  {
   "cell_type": "code",
   "metadata": {
    "ExecuteTime": {
     "end_time": "2024-05-26T02:30:14.902069Z",
     "start_time": "2024-05-26T02:30:14.899947Z"
    }
   },
   "source": [
    "do.load(\"my_yaml_data.two\")   # loading within a substructure"
   ],
   "outputs": [
    {
     "data": {
      "text/plain": [
       "['gamma', 'delta']"
      ]
     },
     "execution_count": 16,
     "metadata": {},
     "output_type": "execute_result"
    }
   ],
   "execution_count": 16
  },
  {
   "cell_type": "code",
   "metadata": {
    "ExecuteTime": {
     "end_time": "2024-05-26T02:30:15.077255Z",
     "start_time": "2024-05-26T02:30:15.075386Z"
    }
   },
   "source": [
    "do.load(\"my_data.a_tree.a.two\")  # Same data included in to another structure"
   ],
   "outputs": [
    {
     "data": {
      "text/plain": [
       "['gamma', 'delta']"
      ]
     },
     "execution_count": 17,
     "metadata": {},
     "output_type": "execute_result"
    }
   ],
   "execution_count": 17
  },
  {
   "cell_type": "markdown",
   "metadata": {},
   "source": [
    "# CORE \"DO\" FUNCTIONALITY -- Dynamically Loaded Function\n",
    "\n",
    "The do function provides efficient access to dynamically searched and loaded python functions:\n",
    "1. that are referenced by a naming string\n",
    "2. that are dynmaically loaded from a python module\n",
    "3. that accept fixed & keyword arguments and return results as any function does"
   ]
  },
  {
   "cell_type": "markdown",
   "metadata": {},
   "source": [
    ".\n",
    "## EXAMPLE -- A SIMPLEST \"DO\" CALL\n",
    "This \"do\" loads hello_world.py and runs the function hello_world from it."
   ]
  },
  {
   "cell_type": "code",
   "metadata": {
    "ExecuteTime": {
     "end_time": "2024-05-26T02:30:15.603378Z",
     "start_time": "2024-05-26T02:30:15.600519Z"
    }
   },
   "source": [
    "show_loadable(\"hello/do_examples/hello_world.py\")"
   ],
   "outputs": [
    {
     "name": "stdout",
     "output_type": "stream",
     "text": [
      "\n",
      "### SHOWING MODULE '.../hello/do_examples/hello_world.py'\n",
      "  | def main():\n",
      "  |     print(\"   hello world!\")\n",
      "  | \n",
      "\n",
      "\n"
     ]
    }
   ],
   "execution_count": 18
  },
  {
   "cell_type": "code",
   "metadata": {
    "ExecuteTime": {
     "end_time": "2024-05-26T02:30:15.757476Z",
     "start_time": "2024-05-26T02:30:15.754909Z"
    }
   },
   "source": [
    "do(\"hello_world\")"
   ],
   "outputs": [
    {
     "name": "stdout",
     "output_type": "stream",
     "text": [
      "   hello world!\n"
     ]
    }
   ],
   "execution_count": 19
  },
  {
   "cell_type": "markdown",
   "metadata": {},
   "source": [
    ".\n",
    "## EXAMPLE -- MULTIPLE DO FUNCTIONS DEFINED IN ONE MODULE\n",
    "One can put multiple do functions in one file and reference them with a dot notion as shown here."
   ]
  },
  {
   "cell_type": "code",
   "metadata": {
    "ExecuteTime": {
     "end_time": "2024-05-26T02:30:16.759605Z",
     "start_time": "2024-05-26T02:30:16.756669Z"
    }
   },
   "source": [
    "show_loadable(\"hello/do_examples/hello_again.py\")"
   ],
   "outputs": [
    {
     "name": "stdout",
     "output_type": "stream",
     "text": [
      "\n",
      "### SHOWING MODULE '.../hello/do_examples/hello_again.py'\n",
      "  | def main():\n",
      "  |     print(\"   Hello World again!\")\n",
      "  | \n",
      "  | \n",
      "  | def hella():\n",
      "  |     print(\"   HELLA Hello World!!!  Hello world again.\")\n",
      "  | \n",
      "  | \n",
      "  | def salutation(name=\"Hello\", *, emphasis=False, lucky_number=999):\n",
      "  |     line = F\"   {name}, My lucky number is {lucky_number}\"\n",
      "  |     print(F\"{line.upper()}!\" if emphasis else line)\n",
      "  |     return lucky_number\n",
      "  | \n",
      "\n",
      "\n"
     ]
    }
   ],
   "execution_count": 20
  },
  {
   "cell_type": "code",
   "metadata": {
    "ExecuteTime": {
     "end_time": "2024-05-26T02:30:17.199941Z",
     "start_time": "2024-05-26T02:30:17.197016Z"
    }
   },
   "source": [
    "do(\"hello_again.hella\")"
   ],
   "outputs": [
    {
     "name": "stdout",
     "output_type": "stream",
     "text": [
      "   HELLA Hello World!!!  Hello world again.\n"
     ]
    }
   ],
   "execution_count": 21
  },
  {
   "cell_type": "markdown",
   "metadata": {},
   "source": [
    ".\n",
    "## EXAMPLE -- PASSING ARGS AND RESULTS\n",
    "Here we see fixed and keyword args being forwarded by do to the underlying function.\n",
    "And likewise its result is forward back to be the result of the do call."
   ]
  },
  {
   "cell_type": "code",
   "metadata": {
    "ExecuteTime": {
     "end_time": "2024-05-26T02:30:17.656810Z",
     "start_time": "2024-05-26T02:30:17.654376Z"
    }
   },
   "source": [
    "do(\"hello_again.salutation\", \"Michael\", emphasis=True)"
   ],
   "outputs": [
    {
     "name": "stdout",
     "output_type": "stream",
     "text": [
      "   MICHAEL, MY LUCKY NUMBER IS 999!\n"
     ]
    },
    {
     "data": {
      "text/plain": [
       "999"
      ]
     },
     "execution_count": 22,
     "metadata": {},
     "output_type": "execute_result"
    }
   ],
   "execution_count": 22
  },
  {
   "cell_type": "markdown",
   "metadata": {},
   "source": [
    ".\n",
    "## EXAMPLE -- ALL SUB-FOLDERS OF A DO_FOLDER ARE SCANNED AND ADDED TO THE ROOT OF THE DO NAMESPACE\n",
    "Here we see \"deep_hello\" is called even when it occurs deeply within the folder tree."
   ]
  },
  {
   "cell_type": "code",
   "metadata": {
    "ExecuteTime": {
     "end_time": "2024-05-26T02:30:18.009685Z",
     "start_time": "2024-05-26T02:30:18.007007Z"
    }
   },
   "source": [
    "show_loadable(\"hello/do_examples/deep/deep/deep/deep_hello.py\")"
   ],
   "outputs": [
    {
     "name": "stdout",
     "output_type": "stream",
     "text": [
      "\n",
      "### SHOWING MODULE '.../hello/do_examples/deep/deep/deep/deep_hello.py'\n",
      "  | def main():\n",
      "  |     print(\"hello echoing out from deep in the filesystem!\")\n",
      "  | \n",
      "\n",
      "\n"
     ]
    }
   ],
   "execution_count": 23
  },
  {
   "cell_type": "code",
   "metadata": {
    "ExecuteTime": {
     "end_time": "2024-05-26T02:30:18.202715Z",
     "start_time": "2024-05-26T02:30:18.200451Z"
    }
   },
   "source": [
    "do(\"deep_hello\")"
   ],
   "outputs": [
    {
     "name": "stdout",
     "output_type": "stream",
     "text": [
      "hello echoing out from deep in the filesystem!\n"
     ]
    }
   ],
   "execution_count": 24
  },
  {
   "cell_type": "markdown",
   "metadata": {},
   "source": [
    ".\n",
    ".\n",
    "# >>> CALLING A CONFIGURATION <<<\n",
    "In addition to invoking a simple function, \"do\" can also invoke a configuration dict.\n",
    "In this case:\n",
    "1. The dict is expanded by recursively looking up \"main.base\" and using its values tree as defaults\n",
    "2. Then finally calling the function associated with \"main.do\"\n",
    "3. The expanded dict is passed as the first arg followed by args passed to do"
   ]
  },
  {
   "cell_type": "markdown",
   "metadata": {},
   "source": [
    ".\n",
    "## EXAMPLE -- CALLING A CONFIG\n",
    "Here 'hello_config' loads a json file instead of a python function.\n",
    "In this case the \"main.do\" value of \"hello config action\" is loaded and called."
   ]
  },
  {
   "cell_type": "code",
   "metadata": {
    "ExecuteTime": {
     "end_time": "2024-05-26T02:30:19.283251Z",
     "start_time": "2024-05-26T02:30:19.280515Z"
    }
   },
   "source": [
    "show_loadable(\"hello/do_examples/configurable_salutation.py\")"
   ],
   "outputs": [
    {
     "name": "stdout",
     "output_type": "stream",
     "text": [
      "\n",
      "### SHOWING MODULE '.../hello/do_examples/configurable_salutation.py'\n",
      "  | def main(dat, name=None, *, emphasis=False, lucky_number=None):\n",
      "  |     spec = dat.get_spec()\n",
      "  |     name = spec.get(\"name\") if name is None else name\n",
      "  |     emphasis = spec.get(\"emphasis\") or emphasis\n",
      "  |     lucky_number = spec.get(\"lucky_number\") or lucky_number\n",
      "  |     line = F\"   {name}, My lucky number is {lucky_number}\"\n",
      "  |     print(F\"{line.upper()}!\" if emphasis else line)\n",
      "  |     return lucky_number\n",
      "  | \n",
      "\n",
      "\n"
     ]
    }
   ],
   "execution_count": 25
  },
  {
   "cell_type": "code",
   "source": [
    "show_loadable(\"hello/do_examples/hello_config.json\")"
   ],
   "metadata": {
    "collapsed": false,
    "ExecuteTime": {
     "end_time": "2024-05-26T02:30:19.727232Z",
     "start_time": "2024-05-26T02:30:19.724589Z"
    }
   },
   "outputs": [
    {
     "name": "stdout",
     "output_type": "stream",
     "text": [
      "\n",
      "### SHOWING MODULE '.../hello/do_examples/hello_config.json'\n",
      "  | {\n",
      "  |     \"main\": {\n",
      "  |         \"do\": \"configurable_salutation\"\n",
      "  |     },\n",
      "  |     \"name\": \"Hello\",\n",
      "  |     \"lucky_number\": 7,\n",
      "  |     \"emphasis\": false\n",
      "  | }\n",
      "  | \n",
      "\n",
      "\n"
     ]
    }
   ],
   "execution_count": 26
  },
  {
   "cell_type": "code",
   "metadata": {
    "ExecuteTime": {
     "end_time": "2024-05-26T02:30:20.609049Z",
     "start_time": "2024-05-26T02:30:20.603019Z"
    }
   },
   "source": [
    "do(\"hello_config\", \"Martin\")"
   ],
   "outputs": [
    {
     "name": "stdout",
     "output_type": "stream",
     "text": [
      "   Martin, My lucky number is 7\n"
     ]
    },
    {
     "data": {
      "text/plain": [
       "7"
      ]
     },
     "execution_count": 27,
     "metadata": {},
     "output_type": "execute_result"
    }
   ],
   "execution_count": 27
  },
  {
   "cell_type": "markdown",
   "metadata": {},
   "source": [
    ".\n",
    "## EXAMPLE -- CONFIG INHERITANCE\n",
    "Here 'hello_shadowing_config' sets lucky_number to 777 and inherits function to call and other parameters from 'hello_config'."
   ]
  },
  {
   "cell_type": "code",
   "metadata": {
    "ExecuteTime": {
     "end_time": "2024-05-26T02:30:22.162809Z",
     "start_time": "2024-05-26T02:30:22.159754Z"
    }
   },
   "source": [
    "show_loadable(\"hello/do_examples/hello_shadowed_config.json\")"
   ],
   "outputs": [
    {
     "name": "stdout",
     "output_type": "stream",
     "text": [
      "\n",
      "### SHOWING MODULE '.../hello/do_examples/hello_shadowed_config.json'\n",
      "  | {\n",
      "  |   \"main\": {\n",
      "  |     \"base\": \"hello_config\" },\n",
      "  |   \"lucky_number\":  777\n",
      "  | }\n",
      "  | \n",
      "\n",
      "\n"
     ]
    }
   ],
   "execution_count": 28
  },
  {
   "cell_type": "code",
   "metadata": {
    "ExecuteTime": {
     "end_time": "2024-05-26T02:30:22.840026Z",
     "start_time": "2024-05-26T02:30:22.834601Z"
    }
   },
   "source": [
    "do(\"hello_shadowed_config\")"
   ],
   "outputs": [
    {
     "name": "stdout",
     "output_type": "stream",
     "text": [
      "   Hello, My lucky number is 777\n"
     ]
    },
    {
     "data": {
      "text/plain": [
       "777"
      ]
     },
     "execution_count": 29,
     "metadata": {},
     "output_type": "execute_result"
    }
   ],
   "execution_count": 29
  },
  {
   "cell_type": "markdown",
   "metadata": {},
   "source": [
    "_\n",
    "## EXAMPLE -- COMBINING CONFIGS AND CODE\n",
    "Complex tools (including nearly a visualizers/report generators) naturally have simple config info best expressed as a config dict,\n",
    "and complex config best expressed in python.  Forcing these to be separate loadables will generate confusing sea of many tiny \n",
    "separate 2-line loadable files.\n",
    "\n",
    "To address this \"do\" allows config data (normally stored in .json) to be stored in a variable in a .py file.  This allows that\n",
    "config info to be bundled with functions that are referenced by that same config in the same module.  \n",
    "\n",
    "The example below shows a silly complex tool that applies a sequence to text transformation rules to a sequence of letters.\n",
    "The first loadable provides a config with the base parameters and the rule engine itself.  The second loadable configures the tool and \n",
    "provides a couple of small python rule functions that are used by the configuration all nicely wrapped up in a single .py file."
   ]
  },
  {
   "cell_type": "code",
   "metadata": {
    "ExecuteTime": {
     "end_time": "2024-05-26T02:30:25.225737Z",
     "start_time": "2024-05-26T02:30:25.222723Z"
    }
   },
   "source": [
    "show_loadable(\"hello/do_examples/letterator.py\")"
   ],
   "outputs": [
    {
     "name": "stdout",
     "output_type": "stream",
     "text": [
      "\n",
      "### SHOWING MODULE '.../hello/do_examples/letterator.py'\n",
      "  | from dvc_dat import do\n",
      "  | \n",
      "  | \"\"\"Silly configurable tool for applying rules to a sequence of letters.\"\"\"\n",
      "  | main = {\n",
      "  |     \"main\": {\n",
      "  |       \"do\": \"letterator.run\",      # example of a complex tool config\n",
      "  |       \"title\": \"The Letterator\"\n",
      "  |     },   \n",
      "  |     \"start\": 48,\n",
      "  |     \"end\": 122\n",
      "  | }\n",
      "  | \n",
      "  | \n",
      "  | def run(dat):\n",
      "  |     spec = dat.get_spec()\n",
      "  |     results = []\n",
      "  |     for idx in range(spec[\"start\"], spec[\"end\"]):\n",
      "  |         text = chr(idx)\n",
      "  |         for step, rule_name in spec[\"rules\"]:\n",
      "  |             fn = do.load(rule_name)\n",
      "  |             if idx % step == 0:\n",
      "  |                 text = fn(idx, text)\n",
      "  |         results.append(text)\n",
      "  |     print(spec[\"main\"][\"title\"])\n",
      "  |     return \"  \".join(results)\n",
      "  | \n",
      "\n",
      "\n"
     ]
    }
   ],
   "execution_count": 30
  },
  {
   "cell_type": "code",
   "metadata": {
    "ExecuteTime": {
     "end_time": "2024-05-26T02:30:28.353463Z",
     "start_time": "2024-05-26T02:30:28.350876Z"
    }
   },
   "source": [
    "show_loadable(\"hello/do_examples/my_letters.py\")"
   ],
   "outputs": [
    {
     "name": "stdout",
     "output_type": "stream",
     "text": [
      "\n",
      "### SHOWING MODULE '.../hello/do_examples/my_letters.py'\n",
      "  | main = {\n",
      "  |   \"main\": {\"base\": \"letterator\"},\n",
      "  |   \"start\": 97,\n",
      "  |   \"rules\": [\n",
      "  |     (7, \"my_letters.jackpot\"),\n",
      "  |     (3, \"my_letters.triple_it\"),\n",
      "  |     (5, \"my_letters.all_caps_it\")]\n",
      "  | }\n",
      "  | \n",
      "  | def triple_it(_idx, text):\n",
      "  |     return F\"{text}{text}{text}\"\n",
      "  | \n",
      "  | def all_caps_it(_idx, text):\n",
      "  |     return text.upper()\n",
      "  | \n",
      "  | def jackpot(_idx, _text):\n",
      "  |     return \"jackpot \"\n",
      "  | \n",
      "\n",
      "\n"
     ]
    }
   ],
   "execution_count": 31
  },
  {
   "cell_type": "code",
   "metadata": {
    "ExecuteTime": {
     "end_time": "2024-05-26T02:30:29.794525Z",
     "start_time": "2024-05-26T02:30:29.788749Z"
    }
   },
   "source": [
    "do(\"my_letters\")"
   ],
   "outputs": [
    {
     "name": "stdout",
     "output_type": "stream",
     "text": [
      "The Letterator\n"
     ]
    },
    {
     "data": {
      "text/plain": [
       "'a  jackpot   ccc  D  e  fff  g  h  JACKPOT JACKPOT JACKPOT   j  k  lll  m  N  ooo  jackpot   q  rrr  S  t  uuu  v  jackpot   XXX  y'"
      ]
     },
     "execution_count": 32,
     "metadata": {},
     "output_type": "execute_result"
    }
   ],
   "execution_count": 32
  },
  {
   "cell_type": "markdown",
   "metadata": {},
   "source": [
    ".\n",
    ".\n",
    "# USE CASE - SELF DOCUMENTING PROCESSES\n",
    "When possible we can use simple verisoned object to help us execute coding processes, and \n",
    "track/maintain those processes.  "
   ]
  },
  {
   "cell_type": "markdown",
   "metadata": {},
   "source": [
    ".\n",
    "## EXAMPLE -- Loadable constant\n",
    "Here we show that a loadable can be any python constant data value.\n",
    "In this example we have a set of named lists that are used to track \n",
    "our supported dataset, metrics, and tools.\n",
    "\n",
    "This versioned data structure is used as input by the 'naughtly_list' script that scans\n",
    "supported components to see that each has (1) a doc string, both quick and full regression tests, etc.\n"
   ]
  },
  {
   "cell_type": "code",
   "metadata": {
    "ExecuteTime": {
     "end_time": "2024-05-26T02:30:48.715766Z",
     "start_time": "2024-05-26T02:30:48.711887Z"
    }
   },
   "source": [
    "show_loadable(\"hello/do_examples/supported.yaml\")"
   ],
   "outputs": [
    {
     "name": "stdout",
     "output_type": "stream",
     "text": [
      "\n",
      "### SHOWING MODULE '.../hello/do_examples/supported.yaml'\n",
      "  | datasets:\n",
      "  | - regression_games # Any game referenced by any regression test MUST be listed here\n",
      "  | - baller10  # Default dataset use by all basketball metrics\n",
      "  | - volley10\n",
      "  | - arron4    # Examples of higher resolution games\n",
      "  | metrics:\n",
      "  | - team_highlight.money  # Jason agreed money metric for team highlights \n",
      "  | - team_highlight.precision # Just the precision portion of this metric\n",
      "  | - player_highlight.money # Jason agreed, include player ID\n",
      "  | - basket_stats.money # Jason agree, metric for points, player, make-miss stats\n",
      "  | - p_metric # used in 2022\n",
      "  | \n",
      "\n",
      "\n"
     ]
    }
   ],
   "execution_count": 33
  },
  {
   "cell_type": "code",
   "metadata": {
    "ExecuteTime": {
     "end_time": "2024-05-26T02:30:49.950042Z",
     "start_time": "2024-05-26T02:30:49.947597Z"
    }
   },
   "source": [
    "show_loadable(\"hello/do_examples/team_highlight.py\")"
   ],
   "outputs": [
    {
     "name": "stdout",
     "output_type": "stream",
     "text": [
      "\n",
      "### SHOWING MODULE '.../hello/do_examples/team_highlight.py'\n",
      "  | \"\"\"\n",
      "  | Team highlight money is the F1 where correctness is tied to correctly assessing shot \n",
      "  | attempt and make-miss, without consideration of player-ID nor number of points scored.\n",
      "  | \n",
      "  | This is the Jason approved metric associated with our team highlights product, and we\n",
      "  | have agreed 80% is the minimum approved threshold required for product ship.\n",
      "  | \"\"\"\n",
      "  | \n",
      "  | from dvc_dat import do, Dat\n",
      "  | \n",
      "  | \n",
      "  | def reg_quick_test():\n",
      "  |     run_result = Dat.load(\"reg1_latest\")   # Reg1 pickle for a special 5-min snipit\n",
      "  |     assert do(\"team_highlight_money\", run_result) > .65\n",
      "  | \n",
      "  | \n",
      "  | reg_full_test = \"std_full1\"  # indicates full regression testing is part of 'std_full1'\n",
      "  | \n",
      "  | \n",
      "  | def money(_run_result: Dat) -> float:\n",
      "  |     return -1  # implementation goes here\n",
      "  | \n",
      "  |     \n",
      "  | def precision(_run_result: Dat) -> float:\n",
      "  |     return -1  # implementation goes here\n",
      "  | \n",
      "\n",
      "\n"
     ]
    }
   ],
   "execution_count": 34
  },
  {
   "cell_type": "code",
   "metadata": {
    "ExecuteTime": {
     "end_time": "2024-05-26T02:31:40.721578Z",
     "start_time": "2024-05-26T02:31:40.718798Z"
    }
   },
   "source": [
    "show_loadable(\"hello/do_examples/naughty_list.py\")"
   ],
   "outputs": [
    {
     "name": "stdout",
     "output_type": "stream",
     "text": [
      "\n",
      "### SHOWING MODULE '.../hello/do_examples/naughty_list.py'\n",
      "  | \"\"\"\n",
      "  | The \"naughty list\" scans all supported datasets, metrics, visualization/debugging tools \n",
      "  | and verifies they are (1) properly documented, (2) they execute their full regressions, \n",
      "  | (3) The continue to run against representative games, metrics, tools.\n",
      "  | \n",
      "  | Any metric, tool, dataset that is not fully compliant is indicated on the naughty list.\n",
      "  | \"\"\"\n",
      "  | \n",
      "  | from dvc_dat import do\n",
      "  | \n",
      "  | \n",
      "  | def main():\n",
      "  |     # this double for loop checks docs exist, regression test exists, and passes etc.\n",
      "  |     for section, supported_dats in do.load(\"supported\").items():\n",
      "  |         for name in supported_dats:\n",
      "  |             dat = do.load(name, default=None)\n",
      "  |             if dat is None:\n",
      "  |                 print(F\"   {section} {name} does not exist\")\n",
      "  |                 continue\n",
      "  |             if not hasattr(dat, \"__DOC__\"):\n",
      "  |                 print(F\"   {section} {name} does not have a valid doc string\")\n",
      "  |             # if not hasattr(dat, ):\n",
      "  |             #     print(F\"   {section} {name} does not have a valid doc string\")\n",
      "  |             if not hasattr(dat, \"reg_quick_test\"):\n",
      "  |                 print(F\"   {section} {name} doesn't have a valid quick regression test\")\n",
      "  |             if not hasattr(dat, \"reg_full_test\"):\n",
      "  |                 print(F\"   {section} {name} doesn't have a valid full regression test\")\n",
      "  | \n",
      "\n",
      "\n"
     ]
    }
   ],
   "execution_count": 37
  },
  {
   "cell_type": "code",
   "metadata": {
    "ExecuteTime": {
     "end_time": "2024-05-26T02:31:41.520959Z",
     "start_time": "2024-05-26T02:31:41.515369Z"
    }
   },
   "source": [
    "# Note this code presently does not run\n",
    "\n",
    "\n",
    "from dvc_dat import Dat, do\n",
    "\n",
    "reg1_name = do.load(\"supported\")[\"datasets\"][0]   # Gets then name of a mcproc result to use\n",
    "reg1 = Dat.create(spec={})     # This should be Dat.load(reg1) but that dat does not exist here\n",
    "score = do(\"team_highlight.money\", reg1)  # computes money metric on reg1\n",
    "\n",
    "do(\"naughty_list\")   # runs our checking code"
   ],
   "outputs": [
    {
     "name": "stdout",
     "output_type": "stream",
     "text": [
      "   datasets regression_games does not exist\n",
      "   datasets baller10 does not exist\n",
      "   datasets volley10 does not exist\n",
      "   datasets arron4 does not exist\n",
      "   metrics team_highlight.money does not have a valid doc string\n",
      "   metrics team_highlight.money doesn't have a valid quick regression test\n",
      "   metrics team_highlight.money doesn't have a valid full regression test\n",
      "   metrics team_highlight.precision does not have a valid doc string\n",
      "   metrics team_highlight.precision doesn't have a valid quick regression test\n",
      "   metrics team_highlight.precision doesn't have a valid full regression test\n",
      "   metrics player_highlight.money does not exist\n",
      "   metrics basket_stats.money does not exist\n",
      "   metrics p_metric does not exist\n"
     ]
    }
   ],
   "execution_count": 38
  },
  {
   "cell_type": "markdown",
   "metadata": {},
   "source": [
    ".\n",
    ".\n",
    "# USING DO FROM THE COMMAND LINE\n",
    "Do encapsulates execution as a self describing building block.  The do function is designed to be easily \n",
    "embedded within larger execution scripts.  In some cases it is convenient for a user to directly invoke do\n",
    "as a toplevel command.  The do commandline interface provide command line support \"for free\" for any such \n",
    "do function. It defines a simple mapping from expected --arguments and -a argument onto Python fixed and kwargs.\n",
    "This probably best shown using a series of examples:"
   ]
  },
  {
   "cell_type": "markdown",
   "metadata": {},
   "source": [
    ".\n",
    "### EXAMPLE -- Showing default usage command for "
   ]
  },
  {
   "cell_type": "code",
   "metadata": {
    "ExecuteTime": {
     "end_time": "2024-05-26T02:31:45.573832Z",
     "start_time": "2024-05-26T02:31:45.171161Z"
    }
   },
   "source": [
    "!./do --usage"
   ],
   "outputs": [
    {
     "name": "stdout",
     "output_type": "stream",
     "text": [
      "\r\n",
      "SYNOPSIS\r\n",
      "    do CMD_NAME FIXED_ARGS ... KEYWORD_ARG ...\r\n",
      "    do KEY_WORD_ARGS  ...  CMD_NAME FIXED_ARGS ...\r\n",
      "\r\n",
      "    do --usage\r\n",
      "    do --get DOTTED.KEY\r\n",
      "    do --set DOTTED.KEY=VALUE\r\n",
      "    do --sets \"DOTTED.KEY1=VALUE1, DOTTED.KEY2=VALUE2\"\r\n",
      "\r\n",
      "DESCRIPTION\r\n",
      "    Executes the do command named by CMD_NAME.\r\n",
      "    \r\n",
      "    --usage     Prints the command-specific usage info if it exists\r\n",
      "    \r\n",
      "    --USAGE     Prints this usage message\r\n",
      "    \r\n",
      "    --print     Prints the python do call with args, but does not call it.\r\n",
      "    \r\n",
      "    --get DOTTED.NAME\r\n",
      "                Expands the config for a command and returns an arg from it\r\n",
      "    \r\n",
      "    --set DOTTED.NAME=VALUE\r\n",
      "    --sets DOTTED.NAME1=VALUE1,DOTTED.NAME2=VALUE2,...\r\n",
      "                Expands the config for a command and updates the indicated\r\n",
      "                config parameters before invoking the indicated command\r\n",
      "\r\n",
      "NOTES\r\n",
      "    Per standard UNIX 'getopt' parameter parsing two dashes (\"--\")\r\n",
      "    can be used to terminate keyword arguments and cause all remaining \r\n",
      "    arguments to be treated as fixed parameters even when those parameters\r\n",
      "    begin with \"-\" in a way that could be confused as additional keywords\r\n",
      "\r\n",
      "    Unlike most UNIX parameters each single dash (\"-\") keywords cannot\r\n",
      "    be concatenated.  So \"do -a -b foo\" cannot be shorted to \"do -ab foo\"\r\n",
      "    \r\n",
      "    All keyword arguments can be either flags or keywords with arguments, \r\n",
      "    thus \"--\" must be added in some cases to avoid treating a fixed arg\r\n",
      "    as the value associated with a keyword flag.\r\n",
      "    \r\n",
      "\r\n",
      "EXAMPLES\r\n",
      "\r\n",
      "    do --show balls,hoops viz\r\n",
      "\r\n"
     ]
    }
   ],
   "execution_count": 39
  },
  {
   "cell_type": "markdown",
   "metadata": {},
   "source": [
    ".\n",
    "### EXAMPLE -- INVOKING A DO FUNCTION FROM THE COMMAND LINE\n",
    "Earlier we had hello salutation that took fixed and keyword args.\n",
    "Without additonal configuration we can invoke it from the command line\n",
    "using UNIX style args and flags as shown here:"
   ]
  },
  {
   "cell_type": "code",
   "metadata": {
    "ExecuteTime": {
     "end_time": "2024-05-26T02:31:47.109615Z",
     "start_time": "2024-05-26T02:31:46.733281Z"
    }
   },
   "source": [
    "!./do hello_again.salutation Maxim --emphasis"
   ],
   "outputs": [
    {
     "name": "stdout",
     "output_type": "stream",
     "text": [
      "   MAXIM, MY LUCKY NUMBER IS 999!\r\n",
      "999\r\n"
     ]
    }
   ],
   "execution_count": 40
  },
  {
   "cell_type": "markdown",
   "metadata": {},
   "source": [
    ".\n",
    "### EXAMPLE -- INVOKING A CONFIGURED TOOL FROM THE COMMAND LINE\n",
    "In this example we show one also can invoke a do configuration from the command line as well.\n",
    "Here we have the same configurable \"letterator\" tool invoked as a do function above:"
   ]
  },
  {
   "cell_type": "code",
   "metadata": {
    "ExecuteTime": {
     "end_time": "2024-05-26T02:31:48.666744Z",
     "start_time": "2024-05-26T02:31:48.663069Z"
    }
   },
   "source": [
    "show_loadable(\"hello/do_examples/my_letters.py\")"
   ],
   "outputs": [
    {
     "name": "stdout",
     "output_type": "stream",
     "text": [
      "\n",
      "### SHOWING MODULE '.../hello/do_examples/my_letters.py'\n",
      "  | main = {\n",
      "  |   \"main\": {\"base\": \"letterator\"},\n",
      "  |   \"start\": 97,\n",
      "  |   \"rules\": [\n",
      "  |     (7, \"my_letters.jackpot\"),\n",
      "  |     (3, \"my_letters.triple_it\"),\n",
      "  |     (5, \"my_letters.all_caps_it\")]\n",
      "  | }\n",
      "  | \n",
      "  | def triple_it(_idx, text):\n",
      "  |     return F\"{text}{text}{text}\"\n",
      "  | \n",
      "  | def all_caps_it(_idx, text):\n",
      "  |     return text.upper()\n",
      "  | \n",
      "  | def jackpot(_idx, _text):\n",
      "  |     return \"jackpot \"\n",
      "  | \n",
      "\n",
      "\n"
     ]
    }
   ],
   "execution_count": 41
  },
  {
   "cell_type": "code",
   "metadata": {
    "ExecuteTime": {
     "end_time": "2024-05-26T02:31:57.816582Z",
     "start_time": "2024-05-26T02:31:57.409202Z"
    }
   },
   "source": [
    "!./do my_letters"
   ],
   "outputs": [
    {
     "name": "stdout",
     "output_type": "stream",
     "text": [
      "The Letterator\r\n",
      "a  jackpot   ccc  D  e  fff  g  h  JACKPOT JACKPOT JACKPOT   j  k  lll  m  N  ooo  jackpot   q  rrr  S  t  uuu  v  jackpot   XXX  y\r\n"
     ]
    }
   ],
   "execution_count": 42
  },
  {
   "cell_type": "markdown",
   "metadata": {},
   "source": [
    "### EXAMPLE -- TWEAK CONFIG FROM COMMANDLINE\n",
    "Often we script and configure a complex test, but then we want to tweak one or two parameters over and over and check our results.\n",
    "(This becomes especially powerful when intermediate results are cached, so retesting is fast.)"
   ]
  },
  {
   "cell_type": "code",
   "metadata": {
    "ExecuteTime": {
     "end_time": "2024-05-26T02:32:02.748312Z",
     "start_time": "2024-05-26T02:32:02.260877Z"
    }
   },
   "source": [
    "!./do my_letters --set main.title \"Re-configured letterator\" --json rules '[[2, \"my_letters.triple_it\"]]'"
   ],
   "outputs": [
    {
     "name": "stdout",
     "output_type": "stream",
     "text": [
      "Re-configured letterator\r\n",
      "a  bbb  c  ddd  e  fff  g  hhh  i  jjj  k  lll  m  nnn  o  ppp  q  rrr  s  ttt  u  vvv  w  xxx  y\r\n"
     ]
    }
   ],
   "execution_count": 43
  },
  {
   "cell_type": "markdown",
   "metadata": {},
   "source": [
    ".\n",
    "### EXAMPLE -- SETTING MULTIPLE PARAMETERS AT ONCE\n",
    "The --sets keyword can perform multiple simple assigments at once"
   ]
  },
  {
   "cell_type": "code",
   "metadata": {
    "ExecuteTime": {
     "end_time": "2024-05-26T02:32:06.195204Z",
     "start_time": "2024-05-26T02:32:05.776952Z"
    }
   },
   "source": [
    "!./do my_letters --sets main.title=Quickie,start=100,end=110"
   ],
   "outputs": [
    {
     "name": "stdout",
     "output_type": "stream",
     "text": [
      "Quickie\r\n",
      "D  e  fff  g  h  JACKPOT JACKPOT JACKPOT   j  k  lll  m\r\n"
     ]
    }
   ],
   "execution_count": 44
  },
  {
   "cell_type": "markdown",
   "source": [],
   "metadata": {
    "collapsed": false
   }
  },
  {
   "cell_type": "markdown",
   "source": [
    "# COMBINING DO WITH DAT\n",
    "As a special case, if the first argument to 'do' loads a Dict instead of a callable then:\n",
    "1. `expand_spec` is called on it.\n",
    "2. `main.path` is expanded to get the name (path) for this dat.\n",
    "3. Dat.create is called to create a new Dat with the expanded spec.\n",
    "4. `main.do` is then called passing the new Dat as the first argument along with \n",
    "passed args and kwargs. \n",
    "\n",
    "Here we show an example where the 'main' function below is called to construct \n",
    "sub-Dats and then run the fake mcproc run function on each.\n"
   ],
   "metadata": {
    "collapsed": false
   }
  },
  {
   "metadata": {
    "ExecuteTime": {
     "end_time": "2024-05-26T02:32:10.193804Z",
     "start_time": "2024-05-26T02:32:10.191353Z"
    }
   },
   "cell_type": "code",
   "source": [
    "# Here is the template for this DatContainer along with the code required to run it.\n",
    "show_loadable(\"hello_mspipe/hello_mspipe.py\")"
   ],
   "outputs": [
    {
     "name": "stdout",
     "output_type": "stream",
     "text": [
      "\n",
      "### SHOWING MODULE '.../hello_mspipe/hello_mspipe.py'\n",
      "  | import os\n",
      "  | from dvc_dat import Dat, do, DatContainer\n",
      "  | \n",
      "  | \"\"\"\n",
      "  | HELLO-MSPIPE - Hello-world example of a configurable multi-stage mcproc pipeline.\n",
      "  | \n",
      "  | The real multi-stage pipe might can be patterned from this example with \n",
      "  | \"fake_mcproc_pass\" replaced with code that actually runs a mcproc pass.\n",
      "  | \"\"\"\n",
      "  | \n",
      "  | \n",
      "  | # This is the \"master template\" that all multi-stage pipelines will be based on.\n",
      "  | # It specifies that all stages will use \"fake_mcproc_pass\" by default,\n",
      "  | # and constructs its output folders by overwriting \"mspipe\" in the CWD\n",
      "  | # (specific multistage pipes will usually over-ride this to direct output elsewhere).\n",
      "  | main = {\n",
      "  |     \"main\": {                          # Section controls execution of whole pipeline\n",
      "  |         \"kind\": \"Mspipe\",              # \"subtype\" common to all multi-stage runs\n",
      "  |         \"class\": \"DatContainer\",       # The python class for a multi-stage runs\n",
      "  |         \"do\": \"hello_mspipe.mspipe_build_and_run\",   # Actually runs the pipeline\n",
      "  |     },\n",
      "  |     \"common\": {\n",
      "  |         \"main\": {\n",
      "  |             \"kind\": \"Mcproc\",                  # Default \"subtype\" for all mcproc runs\n",
      "  |             \"base\": \"hello_std_args\",          # Default parameters for an mcproc run\n",
      "  |             \"do\": \"hello_mspipe.fake_mcproc_runner\",  # Runs one mcproc stage\n",
      "  |         }\n",
      "  |     },\n",
      "  |     \"stages\": {}                               # Section defines stages of the pipeline\n",
      "  | }\n",
      "  | \n",
      "  | \n",
      "  | # NOTE: We split the building and running of these DATS; using DVC and MLFLOW this will\n",
      "  | # enable us to construct and DVC cache many runs and then execute them across\n",
      "  | # a distributed farm of cloud instances.\n",
      "  | def mspipe_build_and_run(dc: DatContainer):\n",
      "  |     mspipe_build(dc)\n",
      "  |     msproc_run(dc)\n",
      "  | \n",
      "  | def mspipe_build(dc: DatContainer):\n",
      "  |     \"\"\"Builds the sub-dats representing each stage.\"\"\"\n",
      "  |     path: str = dc.get_path()\n",
      "  |     common_template = Dat.get(dc, \"common\")\n",
      "  |     for stage_name, stage_template in Dat.get(dc, \"stages\").items():\n",
      "  |         subpath: str = os.path.join(path, stage_name)\n",
      "  |         subspec = do.merge_configs(stage_template, common_template)\n",
      "  |         Dat.create(path=subpath, spec=subspec)\n",
      "  | \n",
      "  | \n",
      "  | def msproc_run(dc: DatContainer):\n",
      "  |     \"\"\"Sequentially runs each stage in the pipeline.\"\"\"\n",
      "  |     for stage_name, stage_spec in dc.get_spec()[\"stages\"].items():\n",
      "  |         dat_name = f\"{dc.get_path_name()}/{stage_name}\"\n",
      "  |         stage_dat = Dat.load(dat_name)\n",
      "  |         print(f\"Running {dat_name}\")\n",
      "  |         do(stage_dat)\n",
      "  |     return f\"Ran {len(dc.get_spec()['stages'])} stages in {dc.get_path_name()}\"\n",
      "  | \n",
      "  | \n",
      "  | def fake_mcproc_runner(dat: Dat):\n",
      "  |     \"\"\"Fake MCPROC stage runner.\n",
      "  | \n",
      "  |     These stages construct specified output files by concatenating\n",
      "  |     specified input files interspersed with specified constant strings.\n",
      "  | \n",
      "  |     Each output template begins with a string containing the path to write to\n",
      "  |     This is followed by a sequence of instructions:\n",
      "  |       >> xxxx     -- indicates string constant 'xxxx' should be appeneded to the output\n",
      "  |       << xxxx     -- indicates the contents of the file xxxx should be added to output\n",
      "  | \n",
      "  |     Returns a string describing how many output files were built by this fake 'pass'\n",
      "  |     \"\"\"\n",
      "  |     def build_line(template):\n",
      "  |         if template.startswith(\">>\"):\n",
      "  |             return template[2:]\n",
      "  |         elif template.startswith(\"<<\"):\n",
      "  |             path = os.path.join(dat.get_path(), template[2:])\n",
      "  |             with open(path) as f:\n",
      "  |                 return f.read()\n",
      "  |     outputs = Dat.get(dat, \"outputs\")\n",
      "  |     for path_spec, output_spec in outputs.items():\n",
      "  |         path = os.path.join(dat.get_path(), path_spec)\n",
      "  |         parts = [build_line(part) for part in output_spec]\n",
      "  |         with open(path, 'w') as f:\n",
      "  |             f.write('\\n'.join(parts))\n",
      "  |     return f\"Produced {len(outputs)} for run {dat.get_path_name()!r}\"\n",
      "  | \n",
      "  | \n",
      "  | if __name__ == \"__main__\":\n",
      "  |     do(\"hello_mspipe\", show=True)\n",
      "  | \n",
      "\n",
      "\n"
     ]
    }
   ],
   "execution_count": 45
  },
  {
   "metadata": {
    "ExecuteTime": {
     "end_time": "2024-05-26T02:48:06.177294Z",
     "start_time": "2024-05-26T02:33:55.229094Z"
    }
   },
   "cell_type": "code",
   "source": "do(\"hello_mspipe\")",
   "outputs": [
    {
     "ename": "Exception",
     "evalue": "In 'hello_mspipe', 'NoneType' object has no attribute 'items'",
     "output_type": "error",
     "traceback": [
      "\u001B[0;31m---------------------------------------------------------------------------\u001B[0m",
      "\u001B[0;31mAttributeError\u001B[0m                            Traceback (most recent call last)",
      "File \u001B[0;32m~/ob/proj/dvc-dat/dvc_dat/do_fn.py:114\u001B[0m, in \u001B[0;36mDoManager.__call__\u001B[0;34m(self, do_spec, *args, **kwargs)\u001B[0m\n\u001B[1;32m    113\u001B[0m         dat \u001B[38;5;241m=\u001B[39m \u001B[38;5;28mself\u001B[39m\u001B[38;5;241m.\u001B[39mdat_from_template(spec\u001B[38;5;241m=\u001B[39mobj)\n\u001B[0;32m--> 114\u001B[0m         \u001B[38;5;28;01mreturn\u001B[39;00m \u001B[38;5;28mself\u001B[39m\u001B[38;5;241m.\u001B[39m_run_dat(dat, \u001B[38;5;241m*\u001B[39margs, \u001B[38;5;241m*\u001B[39m\u001B[38;5;241m*\u001B[39mkwargs)\n\u001B[1;32m    115\u001B[0m \u001B[38;5;28;01mexcept\u001B[39;00m \u001B[38;5;167;01mException\u001B[39;00m \u001B[38;5;28;01mas\u001B[39;00m e:\n",
      "File \u001B[0;32m~/ob/proj/dvc-dat/dvc_dat/do_fn.py:304\u001B[0m, in \u001B[0;36mDoManager._run_dat\u001B[0;34m(self, dat, *args, **kwargs)\u001B[0m\n\u001B[1;32m    302\u001B[0m     \u001B[38;5;28;01mraise\u001B[39;00m \u001B[38;5;167;01mException\u001B[39;00m(\u001B[38;5;124mF\u001B[39m\u001B[38;5;124m\"\u001B[39m\u001B[38;5;124m'\u001B[39m\u001B[38;5;132;01m{\u001B[39;00m_MAIN_DO\u001B[38;5;132;01m}\u001B[39;00m\u001B[38;5;124m'\u001B[39m\u001B[38;5;124m in \u001B[39m\u001B[38;5;132;01m{\u001B[39;00mdat\u001B[38;5;132;01m!r}\u001B[39;00m\u001B[38;5;124m of type \u001B[39m\u001B[38;5;132;01m{\u001B[39;00m\u001B[38;5;28mtype\u001B[39m(fn_spec)\u001B[38;5;132;01m}\u001B[39;00m\u001B[38;5;124m \u001B[39m\u001B[38;5;124m\"\u001B[39m\n\u001B[1;32m    303\u001B[0m                     \u001B[38;5;241m+\u001B[39m \u001B[38;5;124m\"\u001B[39m\u001B[38;5;124mis not callable\u001B[39m\u001B[38;5;124m\"\u001B[39m)\n\u001B[0;32m--> 304\u001B[0m result \u001B[38;5;241m=\u001B[39m fn_spec(dat, \u001B[38;5;241m*\u001B[39margs, \u001B[38;5;241m*\u001B[39m\u001B[38;5;241m*\u001B[39mkwargs)\n\u001B[1;32m    305\u001B[0m \u001B[38;5;28;01mif\u001B[39;00m args:\n",
      "File \u001B[0;32m~/ob/proj/dvc-dat/examples/example_do_folder/hello_mspipe/hello_mspipe.py:37\u001B[0m, in \u001B[0;36mmspipe_build_and_run\u001B[0;34m(dc)\u001B[0m\n\u001B[1;32m     36\u001B[0m \u001B[38;5;28;01mdef\u001B[39;00m \u001B[38;5;21mmspipe_build_and_run\u001B[39m(dc: DatContainer):\n\u001B[0;32m---> 37\u001B[0m     mspipe_build(dc)\n\u001B[1;32m     38\u001B[0m     msproc_run(dc)\n",
      "File \u001B[0;32m~/ob/proj/dvc-dat/examples/example_do_folder/hello_mspipe/hello_mspipe.py:44\u001B[0m, in \u001B[0;36mmspipe_build\u001B[0;34m(dc)\u001B[0m\n\u001B[1;32m     43\u001B[0m common_template \u001B[38;5;241m=\u001B[39m Dat\u001B[38;5;241m.\u001B[39mget(dc, \u001B[38;5;124m\"\u001B[39m\u001B[38;5;124mcommon\u001B[39m\u001B[38;5;124m\"\u001B[39m)\n\u001B[0;32m---> 44\u001B[0m \u001B[38;5;28;01mfor\u001B[39;00m stage_name, stage_template \u001B[38;5;129;01min\u001B[39;00m Dat\u001B[38;5;241m.\u001B[39mget(dc, \u001B[38;5;124m\"\u001B[39m\u001B[38;5;124mstages\u001B[39m\u001B[38;5;124m\"\u001B[39m)\u001B[38;5;241m.\u001B[39mitems():\n\u001B[1;32m     45\u001B[0m     subpath: \u001B[38;5;28mstr\u001B[39m \u001B[38;5;241m=\u001B[39m os\u001B[38;5;241m.\u001B[39mpath\u001B[38;5;241m.\u001B[39mjoin(path, stage_name)\n",
      "\u001B[0;31mAttributeError\u001B[0m: 'NoneType' object has no attribute 'items'",
      "\nDuring handling of the above exception, another exception occurred:\n",
      "\u001B[0;31mException\u001B[0m                                 Traceback (most recent call last)",
      "Cell \u001B[0;32mIn[48], line 1\u001B[0m\n\u001B[0;32m----> 1\u001B[0m do(\u001B[38;5;124m\"\u001B[39m\u001B[38;5;124mhello_mspipe\u001B[39m\u001B[38;5;124m\"\u001B[39m)\n",
      "File \u001B[0;32m~/ob/proj/dvc-dat/dvc_dat/do_fn.py:116\u001B[0m, in \u001B[0;36mDoManager.__call__\u001B[0;34m(self, do_spec, *args, **kwargs)\u001B[0m\n\u001B[1;32m    114\u001B[0m         \u001B[38;5;28;01mreturn\u001B[39;00m \u001B[38;5;28mself\u001B[39m\u001B[38;5;241m.\u001B[39m_run_dat(dat, \u001B[38;5;241m*\u001B[39margs, \u001B[38;5;241m*\u001B[39m\u001B[38;5;241m*\u001B[39mkwargs)\n\u001B[1;32m    115\u001B[0m \u001B[38;5;28;01mexcept\u001B[39;00m \u001B[38;5;167;01mException\u001B[39;00m \u001B[38;5;28;01mas\u001B[39;00m e:\n\u001B[0;32m--> 116\u001B[0m     \u001B[38;5;28;01mraise\u001B[39;00m \u001B[38;5;167;01mException\u001B[39;00m(\u001B[38;5;124mF\u001B[39m\u001B[38;5;124m\"\u001B[39m\u001B[38;5;124mIn \u001B[39m\u001B[38;5;132;01m{\u001B[39;00mdo_spec\u001B[38;5;132;01m!r}\u001B[39;00m\u001B[38;5;124m, \u001B[39m\u001B[38;5;132;01m{\u001B[39;00me\u001B[38;5;132;01m}\u001B[39;00m\u001B[38;5;124m\"\u001B[39m)\n",
      "\u001B[0;31mException\u001B[0m: In 'hello_mspipe', 'NoneType' object has no attribute 'items'"
     ]
    }
   ],
   "execution_count": 48
  },
  {
   "metadata": {},
   "cell_type": "code",
   "outputs": [],
   "execution_count": null,
   "source": ""
  }
 ],
 "metadata": {
  "kernelspec": {
   "display_name": "Python 3 (ipykernel)",
   "language": "python",
   "name": "python3"
  },
  "language_info": {
   "codemirror_mode": {
    "name": "ipython",
    "version": 3
   },
   "file_extension": ".py",
   "mimetype": "text/x-python",
   "name": "python",
   "nbconvert_exporter": "python",
   "pygments_lexer": "ipython3",
   "version": "3.12.0"
  }
 },
 "nbformat": 4,
 "nbformat_minor": 4
}
