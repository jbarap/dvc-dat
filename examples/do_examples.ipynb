{
 "cells": [
  {
   "cell_type": "code",
   "execution_count": 1,
   "metadata": {
    "ExecuteTime": {
     "end_time": "2024-05-08T05:10:55.178106Z",
     "start_time": "2024-05-08T05:10:54.881096Z"
    }
   },
   "outputs": [
    {
     "name": "stdout",
     "output_type": "stream",
     "text": [
      "### INSERTION FOLDER        = '/Users/oblinger/ob/proj/ml-dat/examples/example_do_folder'\n",
      "### DO FOLDER (in Jupyter)  = /Users/oblinger/ob/proj/ml-dat/examples/example_do_folder\n",
      "## DO FOLDER (in do module) = '/Users/oblinger/ob/proj/ml-dat/examples/example_do_folder'\n",
      "\n",
      "\n",
      "\n",
      "\n",
      "\n"
     ]
    }
   ],
   "source": [
    "import os\n",
    "import sys\n",
    "sys.path.append(os.path.dirname(os.path.dirname(os.getcwd())))\n",
    "\n",
    "# setup stuff.  The cell just supports the workbook, you can ignore it\n",
    "\n",
    "EXAMPLE_DO_FOLDER = os.path.join(os.getcwd(), \"example_do_folder\")\n",
    "INSERTION_FOLDER = EXAMPLE_DO_FOLDER\n",
    "\n",
    "def show_loadable(at):\n",
    "    with open(os.path.join(INSERTION_FOLDER, at)) as file:\n",
    "        contents = file.read()\n",
    "    with_bar = \"\\n  | \".join(contents.split(\"\\n\"))\n",
    "    print(F\"\\n### SHOWING MODULE {'.../'+at!r}\\n  | {with_bar}\\n\\n\")\n",
    "\n",
    "def run_do(*args, **kwargs):\n",
    "    parts = [repr(x) for x in args] + [F\"{k}={v!r}\" for k, v in kwargs.items()]\n",
    "    print(F\"do({', '.join(parts)})\")\n",
    "    result = do(*args, **kwargs)\n",
    "    print(F\"--> {result!r}\")\n",
    "    print()\n",
    "\n",
    "\n",
    "print(F\"### INSERTION FOLDER        = {INSERTION_FOLDER!r}\")\n",
    "print(F\"### DO FOLDER (in Jupyter)  = {EXAMPLE_DO_FOLDER}\")\n",
    "sys.path.append(os.path.dirname(os.path.dirname(EXAMPLE_DO_FOLDER)))\n",
    "from ml_dat import do, DoManager, dat_config   # Add all loadables BEFORE loading this module\n",
    "do.set_do_folder(dat_config.do_folder)\n",
    "print(F\"## DO FOLDER (in do module) = {do.do_folder!r}\")\n",
    "if EXAMPLE_DO_FOLDER != do.do_folder:\n",
    "    print(f\"WARNING: EXAMPLE_DO_FOLDER used by jupyter = {EXAMPLE_DO_FOLDER} does not match {do.do_folder}\")\n",
    "if not os.path.exists(INSERTION_FOLDER):\n",
    "    input(f\"WARNING: INSERTION_FOLDER {INSERTION_FOLDER!r} not found.\")\n",
    "    os.makedirs(INSERTION_FOLDER)\n",
    "print(\"\\n\\n\\n\\n\")\n",
    "\n",
    "\n"
   ]
  },
  {
   "cell_type": "markdown",
   "source": [],
   "metadata": {
    "collapsed": false
   }
  },
  {
   "cell_type": "markdown",
   "source": [
    "<style>\n",
    ".output_scroll {\n",
    "    height: 1500px !important; /* You can change 500px to your desired height */\n",
    "}\n",
    "</style>"
   ],
   "metadata": {
    "collapsed": false
   }
  },
  {
   "cell_type": "markdown",
   "metadata": {
    "collapsed": false,
    "jupyter": {
     "outputs_hidden": false
    }
   },
   "source": [
    "# Mapping dotted-strings to python source code objects.\n",
    "The \"do.load\" function provides a simple way to load functions and data directly from\n",
    "python source modules.\n"
   ]
  },
  {
   "cell_type": "markdown",
   "metadata": {},
   "source": [
    "### Registering and accessing python objects"
   ]
  },
  {
   "cell_type": "code",
   "execution_count": 2,
   "metadata": {
    "ExecuteTime": {
     "end_time": "2024-05-08T05:10:55.701765Z",
     "start_time": "2024-05-08T05:10:55.697178Z"
    }
   },
   "outputs": [],
   "source": [
    "do.register_value(\"foo.bar.baz\", [11, \"two\"])"
   ]
  },
  {
   "cell_type": "code",
   "execution_count": 3,
   "metadata": {
    "ExecuteTime": {
     "end_time": "2024-05-08T05:10:55.866940Z",
     "start_time": "2024-05-08T05:10:55.864016Z"
    }
   },
   "outputs": [
    {
     "data": {
      "text/plain": "[11, 'two']"
     },
     "execution_count": 3,
     "metadata": {},
     "output_type": "execute_result"
    }
   ],
   "source": [
    "do.load(\"foo.bar.baz\")"
   ]
  },
  {
   "cell_type": "markdown",
   "metadata": {},
   "source": [
    ".\n",
    "##### And you can see semantically this is just a dict-tree of values:"
   ]
  },
  {
   "cell_type": "code",
   "execution_count": 4,
   "metadata": {
    "ExecuteTime": {
     "end_time": "2024-05-08T05:10:56.414020Z",
     "start_time": "2024-05-08T05:10:56.201859Z"
    }
   },
   "outputs": [
    {
     "ename": "Exception",
     "evalue": "DO: The base 'foo' is not defined.",
     "output_type": "error",
     "traceback": [
      "\u001B[0;31m---------------------------------------------------------------------------\u001B[0m",
      "\u001B[0;31mException\u001B[0m                                 Traceback (most recent call last)",
      "Cell \u001B[0;32mIn[4], line 1\u001B[0m\n\u001B[0;32m----> 1\u001B[0m do\u001B[38;5;241m.\u001B[39mload(\u001B[38;5;124m\"\u001B[39m\u001B[38;5;124mfoo.bar\u001B[39m\u001B[38;5;124m\"\u001B[39m)\n",
      "File \u001B[0;32m~/ob/proj/ml-dat/ml_dat/do_fn.py:251\u001B[0m, in \u001B[0;36mDoManager.load\u001B[0;34m(self, dotted_name, default, kind, context)\u001B[0m\n\u001B[1;32m    249\u001B[0m parts \u001B[38;5;241m=\u001B[39m dotted_name\u001B[38;5;241m.\u001B[39msplit(\u001B[38;5;124m\"\u001B[39m\u001B[38;5;124m.\u001B[39m\u001B[38;5;124m\"\u001B[39m)\n\u001B[1;32m    250\u001B[0m prefix \u001B[38;5;241m=\u001B[39m parts[\u001B[38;5;241m0\u001B[39m]\n\u001B[0;32m--> 251\u001B[0m obj \u001B[38;5;241m=\u001B[39m \u001B[38;5;28mself\u001B[39m\u001B[38;5;241m.\u001B[39mget_base(prefix, default\u001B[38;5;241m=\u001B[39m_DO_NULL \u001B[38;5;28;01mif\u001B[39;00m default \u001B[38;5;241m==\u001B[39m _DO_NULL \u001B[38;5;28;01melse\u001B[39;00m \u001B[38;5;28;01mNone\u001B[39;00m)\n\u001B[1;32m    253\u001B[0m \u001B[38;5;28;01mif\u001B[39;00m obj \u001B[38;5;241m==\u001B[39m _DO_ERROR_FLAG:\n\u001B[1;32m    254\u001B[0m     \u001B[38;5;28;01mraise\u001B[39;00m \u001B[38;5;167;01mException\u001B[39;00m(\u001B[38;5;124mF\u001B[39m\u001B[38;5;124m\"\u001B[39m\u001B[38;5;124mDO: Module \u001B[39m\u001B[38;5;132;01m{\u001B[39;00mprefix\u001B[38;5;132;01m!r}\u001B[39;00m\u001B[38;5;124m is defined multiple times.\u001B[39m\u001B[38;5;132;01m{\u001B[39;00mctx\u001B[38;5;132;01m}\u001B[39;00m\u001B[38;5;124m\"\u001B[39m)\n",
      "File \u001B[0;32m~/ob/proj/ml-dat/ml_dat/do_fn.py:197\u001B[0m, in \u001B[0;36mDoManager.get_base\u001B[0;34m(self, base, default)\u001B[0m\n\u001B[1;32m    195\u001B[0m     result \u001B[38;5;241m=\u001B[39m \u001B[38;5;28mself\u001B[39m\u001B[38;5;241m.\u001B[39mbase_objects[base]\n\u001B[1;32m    196\u001B[0m \u001B[38;5;28;01melif\u001B[39;00m default \u001B[38;5;129;01mis\u001B[39;00m _DO_NULL:\n\u001B[0;32m--> 197\u001B[0m     \u001B[38;5;28;01mraise\u001B[39;00m \u001B[38;5;167;01mException\u001B[39;00m(\u001B[38;5;124mf\u001B[39m\u001B[38;5;124m\"\u001B[39m\u001B[38;5;124mDO: The base \u001B[39m\u001B[38;5;132;01m{\u001B[39;00mbase\u001B[38;5;132;01m!r}\u001B[39;00m\u001B[38;5;124m is not defined.\u001B[39m\u001B[38;5;124m\"\u001B[39m)\n\u001B[1;32m    198\u001B[0m \u001B[38;5;28;01melse\u001B[39;00m:\n\u001B[1;32m    199\u001B[0m     result \u001B[38;5;241m=\u001B[39m default\n",
      "\u001B[0;31mException\u001B[0m: DO: The base 'foo' is not defined."
     ]
    }
   ],
   "source": [
    "do.load(\"foo.bar\")   "
   ]
  },
  {
   "cell_type": "markdown",
   "metadata": {},
   "source": [
    "### Registering python modules\n",
    "Here we register a python module, then load data a functions from it via dotted.names."
   ]
  },
  {
   "cell_type": "code",
   "execution_count": 5,
   "metadata": {
    "ExecuteTime": {
     "end_time": "2024-05-08T05:10:56.558867Z",
     "start_time": "2024-05-08T05:10:56.555156Z"
    }
   },
   "outputs": [
    {
     "name": "stdout",
     "output_type": "stream",
     "text": [
      "here we are registering 'params' as '/Users/oblinger/ob/proj/ml-dat/examples/example_do_folder/some_python_file.py'.\n"
     ]
    }
   ],
   "source": [
    "path = f\"{EXAMPLE_DO_FOLDER}/some_python_file.py\"\n",
    "print(f\"here we are registering 'params' as {path!r}.\")\n",
    "do.register_module(\"params\", path)"
   ]
  },
  {
   "cell_type": "code",
   "execution_count": 6,
   "outputs": [
    {
     "name": "stdout",
     "output_type": "stream",
     "text": [
      "\n",
      "### SHOWING MODULE '.../some_python_file.py'\n",
      "  | \n",
      "  | def a_function():\n",
      "  |     return \"Hello from a function in a python file\"\n",
      "  | \n",
      "  | \n",
      "  | a_value = {\n",
      "  |     \"alpha\": 111\n",
      "  | }\n",
      "  | \n",
      "\n",
      "\n"
     ]
    }
   ],
   "source": [
    "show_loadable(\"some_python_file.py\")"
   ],
   "metadata": {
    "collapsed": false,
    "ExecuteTime": {
     "end_time": "2024-05-08T05:10:56.705290Z",
     "start_time": "2024-05-08T05:10:56.700745Z"
    }
   }
  },
  {
   "cell_type": "code",
   "execution_count": 7,
   "metadata": {
    "ExecuteTime": {
     "end_time": "2024-05-08T05:10:56.897955Z",
     "start_time": "2024-05-08T05:10:56.893823Z"
    }
   },
   "outputs": [
    {
     "data": {
      "text/plain": "{'alpha': 111}"
     },
     "execution_count": 7,
     "metadata": {},
     "output_type": "execute_result"
    }
   ],
   "source": [
    "do.load(\"params.a_value\")"
   ]
  },
  {
   "cell_type": "code",
   "execution_count": 8,
   "metadata": {
    "ExecuteTime": {
     "end_time": "2024-05-08T05:10:57.056546Z",
     "start_time": "2024-05-08T05:10:57.051618Z"
    }
   },
   "outputs": [
    {
     "data": {
      "text/plain": "'Hello from a function in a python file'"
     },
     "execution_count": 8,
     "metadata": {},
     "output_type": "execute_result"
    }
   ],
   "source": [
    "fn = do.load(\"params.a_function\")\n",
    "fn()"
   ]
  },
  {
   "cell_type": "code",
   "execution_count": 9,
   "metadata": {
    "ExecuteTime": {
     "end_time": "2024-05-08T05:10:57.392954Z",
     "start_time": "2024-05-08T05:10:57.389381Z"
    }
   },
   "outputs": [
    {
     "data": {
      "text/plain": "'Hello from a function in a python file'"
     },
     "execution_count": 9,
     "metadata": {},
     "output_type": "execute_result"
    }
   ],
   "source": [
    "# And we can see that the do function is just a wrapper around the do.load.  This performs the same function as the above cell.\n",
    "do(\"params.a_function\")"
   ]
  },
  {
   "cell_type": "markdown",
   "metadata": {
    "collapsed": false,
    "jupyter": {
     "outputs_hidden": false
    }
   },
   "source": [
    "### DATCONFIG - Implicitly registered modules\n",
    "'Do' will scan from CWD to find '.datconfig' and use the do_folder it specifies.  At load time this folder tree is scanned and all .py .json and .yaml files found are implicitly registered according to the basename of each file."
   ]
  },
  {
   "cell_type": "code",
   "execution_count": 10,
   "metadata": {
    "ExecuteTime": {
     "end_time": "2024-05-08T05:10:57.739683Z",
     "start_time": "2024-05-08T05:10:57.734247Z"
    }
   },
   "outputs": [
    {
     "name": "stdout",
     "output_type": "stream",
     "text": [
      "\n",
      "### SHOWING MODULE '.../../.datconfig'\n",
      "  | {\n",
      "  |     \"do_folder\": \"example_do_folder\",\n",
      "  |     \"inst_data_folder\": \"example_inst_data_folder\"\n",
      "  | }\n",
      "  | \n",
      "\n",
      "\n"
     ]
    }
   ],
   "source": [
    "show_loadable(\"../.datconfig\")"
   ]
  },
  {
   "cell_type": "code",
   "execution_count": 11,
   "metadata": {
    "collapsed": false,
    "jupyter": {
     "outputs_hidden": false
    },
    "ExecuteTime": {
     "end_time": "2024-05-08T05:10:57.960059Z",
     "start_time": "2024-05-08T05:10:57.954447Z"
    }
   },
   "outputs": [
    {
     "name": "stdout",
     "output_type": "stream",
     "text": [
      "\n",
      "### SHOWING MODULE '.../hello/do_examples/my_data.py'\n",
      "  | from ml_dat import do\n",
      "  | \n",
      "  | my_data = [111, 222, 333]\n",
      "  | message = \"Hello from my_data!\"\n",
      "  | def my_function():\n",
      "  |     print(\"Hello from my_function!\")\n",
      "  |     return 123\n",
      "  | \n",
      "  | a_tree = {\n",
      "  |     \"a\": do.load(\"my_yaml_data\"),\n",
      "  |     \"b\": 2,\n",
      "  |     \"c\": {\n",
      "  |         \"d\": my_function,\n",
      "  |         \"e\": 4,\n",
      "  |         \"f\": {\n",
      "  |             \"g\": 5,\n",
      "  |             \"h\": 6,\n",
      "  |             \"i\": 7  } } }\n",
      "  | \n",
      "\n",
      "\n"
     ]
    }
   ],
   "source": [
    "show_loadable(\"hello/do_examples/my_data.py\")\n"
   ]
  },
  {
   "cell_type": "markdown",
   "metadata": {},
   "source": [
    "#### Loading from implicitly defined modules\n",
    "These values are all loaded from python and yaml files implicitly registered since they are contained under the do_folder."
   ]
  },
  {
   "cell_type": "code",
   "execution_count": 12,
   "metadata": {
    "collapsed": false,
    "jupyter": {
     "outputs_hidden": false
    },
    "ExecuteTime": {
     "end_time": "2024-05-08T05:10:58.292762Z",
     "start_time": "2024-05-08T05:10:58.287437Z"
    }
   },
   "outputs": [
    {
     "data": {
      "text/plain": "'Hello from my_data!'"
     },
     "execution_count": 12,
     "metadata": {},
     "output_type": "execute_result"
    }
   ],
   "source": [
    "do.load(\"my_data.message\")    # Returns the global variable 'message' from the my_data.py file."
   ]
  },
  {
   "cell_type": "code",
   "execution_count": 13,
   "metadata": {
    "collapsed": false,
    "jupyter": {
     "outputs_hidden": false
    },
    "ExecuteTime": {
     "end_time": "2024-05-08T05:10:58.439690Z",
     "start_time": "2024-05-08T05:10:58.434769Z"
    }
   },
   "outputs": [
    {
     "data": {
      "text/plain": "2"
     },
     "execution_count": 13,
     "metadata": {},
     "output_type": "execute_result"
    }
   ],
   "source": [
    "do.load(\"my_data.a_tree.b\")   # Returns the value of the nested variable 'b' from the 'a_tree' dictionary in my_data.py"
   ]
  },
  {
   "cell_type": "code",
   "execution_count": 14,
   "metadata": {
    "ExecuteTime": {
     "end_time": "2024-05-08T05:10:58.634184Z",
     "start_time": "2024-05-08T05:10:58.628330Z"
    }
   },
   "outputs": [
    {
     "data": {
      "text/plain": "[111, 222, 333]"
     },
     "execution_count": 14,
     "metadata": {},
     "output_type": "execute_result"
    }
   ],
   "source": [
    "#\n",
    "# But under the covers, this tree of values is really still just data contained in some python module.  This module can be accessed directly if needed:\n",
    "do.load(\"my_data\")"
   ]
  },
  {
   "cell_type": "code",
   "execution_count": 15,
   "metadata": {
    "collapsed": false,
    "jupyter": {
     "outputs_hidden": false
    },
    "ExecuteTime": {
     "end_time": "2024-05-08T05:10:58.774615Z",
     "start_time": "2024-05-08T05:10:58.770817Z"
    }
   },
   "outputs": [
    {
     "name": "stdout",
     "output_type": "stream",
     "text": [
      "\n",
      "### SHOWING MODULE '.../hello/do_examples/my_yaml_data.yaml'\n",
      "  | one:\n",
      "  |   - alpha\n",
      "  |   - beta\n",
      "  | two:\n",
      "  |   - gamma\n",
      "  |   - delta\n",
      "  | \n",
      "\n",
      "\n"
     ]
    }
   ],
   "source": [
    "show_loadable(\"hello/do_examples/my_yaml_data.yaml\")"
   ]
  },
  {
   "cell_type": "code",
   "execution_count": 16,
   "metadata": {
    "ExecuteTime": {
     "end_time": "2024-05-08T05:10:58.994825Z",
     "start_time": "2024-05-08T05:10:58.989142Z"
    }
   },
   "outputs": [
    {
     "data": {
      "text/plain": "['gamma', 'delta']"
     },
     "execution_count": 16,
     "metadata": {},
     "output_type": "execute_result"
    }
   ],
   "source": [
    "do.load(\"my_yaml_data.two\")   # loading within a substructure"
   ]
  },
  {
   "cell_type": "code",
   "execution_count": 17,
   "metadata": {
    "ExecuteTime": {
     "end_time": "2024-05-08T05:10:59.149784Z",
     "start_time": "2024-05-08T05:10:59.144617Z"
    }
   },
   "outputs": [
    {
     "data": {
      "text/plain": "['gamma', 'delta']"
     },
     "execution_count": 17,
     "metadata": {},
     "output_type": "execute_result"
    }
   ],
   "source": [
    "do.load(\"my_data.a_tree.a.two\")  # Same data included in to another structure"
   ]
  },
  {
   "cell_type": "code",
   "execution_count": 17,
   "metadata": {
    "ExecuteTime": {
     "end_time": "2024-05-08T05:10:59.317422Z",
     "start_time": "2024-05-08T05:10:59.312632Z"
    }
   },
   "outputs": [],
   "source": []
  },
  {
   "cell_type": "markdown",
   "metadata": {},
   "source": [
    "# CORE \"DO\" FUNCTIONALITY -- Dynamically Loaded Function\n",
    "\n",
    "The do function provides efficient access to dynamically searched and loaded python functions:\n",
    "1. that are referenced by a naming string\n",
    "2. that are dynmaically loaded from a python module\n",
    "3. that accept fixed & keyword arguments and return results as any function does"
   ]
  },
  {
   "cell_type": "markdown",
   "metadata": {},
   "source": [
    ".\n",
    "## EXAMPLE -- A SIMPLEST \"DO\" CALL\n",
    "This \"do\" loads hello_world.py and runs the function hello_world from it."
   ]
  },
  {
   "cell_type": "code",
   "execution_count": 18,
   "metadata": {
    "ExecuteTime": {
     "end_time": "2024-05-08T05:10:59.836312Z",
     "start_time": "2024-05-08T05:10:59.833243Z"
    }
   },
   "outputs": [
    {
     "name": "stdout",
     "output_type": "stream",
     "text": [
      "\n",
      "### SHOWING MODULE '.../hello/do_examples/hello_world.py'\n",
      "  | def hello_world():\n",
      "  |     print(\"   hello world!\")\n",
      "  | \n",
      "\n",
      "\n"
     ]
    }
   ],
   "source": [
    "show_loadable(\"hello/do_examples/hello_world.py\")"
   ]
  },
  {
   "cell_type": "code",
   "execution_count": 19,
   "metadata": {
    "ExecuteTime": {
     "end_time": "2024-05-08T05:10:59.993946Z",
     "start_time": "2024-05-08T05:10:59.988272Z"
    }
   },
   "outputs": [
    {
     "name": "stdout",
     "output_type": "stream",
     "text": [
      "   hello world!\n"
     ]
    }
   ],
   "source": [
    "do(\"hello_world\")"
   ]
  },
  {
   "cell_type": "markdown",
   "metadata": {},
   "source": [
    ".\n",
    "## EXAMPLE -- MULTIPLE DO FUNCTIONS DEFINED IN ONE MODULE\n",
    "One can put multiple do functions in one file and reference them with a dot notion as shown here."
   ]
  },
  {
   "cell_type": "code",
   "execution_count": 20,
   "metadata": {
    "ExecuteTime": {
     "end_time": "2024-05-08T05:11:00.338652Z",
     "start_time": "2024-05-08T05:11:00.332482Z"
    }
   },
   "outputs": [
    {
     "name": "stdout",
     "output_type": "stream",
     "text": [
      "\n",
      "### SHOWING MODULE '.../hello/do_examples/hello_again.py'\n",
      "  | def hello_again():\n",
      "  |     print(\"   Hello World again!\")\n",
      "  | \n",
      "  | \n",
      "  | def hella():\n",
      "  |     print(\"   HELLA Hello World!!!  Hello world again.\")\n",
      "  | \n",
      "  | \n",
      "  | def salutation(name=\"Hello\", *, emphasis=False, lucky_number=999):\n",
      "  |     line = F\"   {name}, My lucky number is {lucky_number}\"\n",
      "  |     print(F\"{line.upper()}!\" if emphasis else line)\n",
      "  |     return lucky_number\n",
      "  | \n",
      "\n",
      "\n"
     ]
    }
   ],
   "source": [
    "show_loadable(\"hello/do_examples/hello_again.py\")"
   ]
  },
  {
   "cell_type": "code",
   "execution_count": 21,
   "metadata": {
    "ExecuteTime": {
     "end_time": "2024-05-08T05:11:00.534248Z",
     "start_time": "2024-05-08T05:11:00.528879Z"
    }
   },
   "outputs": [
    {
     "name": "stdout",
     "output_type": "stream",
     "text": [
      "   HELLA Hello World!!!  Hello world again.\n"
     ]
    }
   ],
   "source": [
    "do(\"hello_again.hella\")"
   ]
  },
  {
   "cell_type": "markdown",
   "metadata": {},
   "source": [
    ".\n",
    "## EXAMPLE -- PASSING ARGS AND RESULTS\n",
    "Here we see fixed and keyword args being forwarded by do to the underlying function.\n",
    "And likewise its result is forward back to be the result of the do call."
   ]
  },
  {
   "cell_type": "code",
   "execution_count": 22,
   "metadata": {
    "ExecuteTime": {
     "end_time": "2024-05-08T05:11:00.876659Z",
     "start_time": "2024-05-08T05:11:00.872613Z"
    }
   },
   "outputs": [
    {
     "name": "stdout",
     "output_type": "stream",
     "text": [
      "   MICHAEL, MY LUCKY NUMBER IS 999!\n"
     ]
    },
    {
     "data": {
      "text/plain": "999"
     },
     "execution_count": 22,
     "metadata": {},
     "output_type": "execute_result"
    }
   ],
   "source": [
    "do(\"hello_again.salutation\", \"Michael\", emphasis=True)"
   ]
  },
  {
   "cell_type": "markdown",
   "metadata": {},
   "source": [
    ".\n",
    "## EXAMPLE -- ALL SUB-FOLDERS ARE SCANNED FOR \"DO\" FUNCTION\n",
    "Here we see \"deep_hello\" is called even when it occurs deeply within the folder tree."
   ]
  },
  {
   "cell_type": "code",
   "execution_count": 23,
   "metadata": {
    "ExecuteTime": {
     "end_time": "2024-05-08T05:11:01.204876Z",
     "start_time": "2024-05-08T05:11:01.199381Z"
    }
   },
   "outputs": [
    {
     "name": "stdout",
     "output_type": "stream",
     "text": [
      "\n",
      "### SHOWING MODULE '.../hello/do_examples/deep/deep/deep/deep_hello.py'\n",
      "  | def deep_hello():\n",
      "  |     print(\"hello echoing out from deep in the filesystem!\")\n",
      "  | \n",
      "\n",
      "\n"
     ]
    }
   ],
   "source": [
    "show_loadable(\"hello/do_examples/deep/deep/deep/deep_hello.py\")"
   ]
  },
  {
   "cell_type": "code",
   "execution_count": 24,
   "metadata": {
    "ExecuteTime": {
     "end_time": "2024-05-08T05:11:01.387705Z",
     "start_time": "2024-05-08T05:11:01.382229Z"
    }
   },
   "outputs": [
    {
     "name": "stdout",
     "output_type": "stream",
     "text": [
      "hello echoing out from deep in the filesystem!\n"
     ]
    }
   ],
   "source": [
    "do(\"deep_hello\")"
   ]
  },
  {
   "cell_type": "markdown",
   "metadata": {},
   "source": [
    ".\n",
    ".\n",
    "# >>> CALLING A CONFIGURATION <<<\n",
    "In addition to invoking a simple function, \"do\" can also invoke a configuration dict.\n",
    "In this case:\n",
    "1. The dict is expanded by recursively looking up \"main.base\" and using its values tree as defaults\n",
    "2. Then finally calling the function associated with \"main.do\"\n",
    "3. The expanded dict is passed as the first arg followed by args passed to do"
   ]
  },
  {
   "cell_type": "markdown",
   "metadata": {},
   "source": [
    ".\n",
    "## EXAMPLE -- CALLING A CONFIG\n",
    "Here 'hello_config' loads a json file instead of a python function.\n",
    "In this case the \"main.do\" value of \"hello config action\" is loaded and called."
   ]
  },
  {
   "cell_type": "code",
   "execution_count": 25,
   "metadata": {
    "ExecuteTime": {
     "end_time": "2024-05-08T05:11:01.926032Z",
     "start_time": "2024-05-08T05:11:01.920557Z"
    }
   },
   "outputs": [
    {
     "name": "stdout",
     "output_type": "stream",
     "text": [
      "\n",
      "### SHOWING MODULE '.../hello/do_examples/configurable_salutation.py'\n",
      "  | def configurable_salutation(inst, name=None, *, emphasis=False, lucky_number=None):\n",
      "  |     spec = inst.get_spec()\n",
      "  |     name = spec.get(\"name\") if name is None else name\n",
      "  |     emphasis = spec.get(\"emphasis\") or emphasis\n",
      "  |     lucky_number = spec.get(\"lucky_number\") or lucky_number\n",
      "  |     line = F\"   {name}, My lucky number is {lucky_number}\"\n",
      "  |     print(F\"{line.upper()}!\" if emphasis else line)\n",
      "  |     return lucky_number\n",
      "  | \n",
      "\n",
      "\n"
     ]
    }
   ],
   "source": [
    "show_loadable(\"hello/do_examples/configurable_salutation.py\")"
   ]
  },
  {
   "cell_type": "code",
   "execution_count": 26,
   "outputs": [
    {
     "name": "stdout",
     "output_type": "stream",
     "text": [
      "\n",
      "### SHOWING MODULE '.../hello/do_examples/hello_config.json'\n",
      "  | {\n",
      "  |     \"main\": {\n",
      "  |         \"do\": \"configurable_salutation\"\n",
      "  |     },\n",
      "  |     \"name\": \"Hello\",\n",
      "  |     \"lucky_number\": 7,\n",
      "  |     \"emphasis\": false\n",
      "  | }\n",
      "  | \n",
      "\n",
      "\n"
     ]
    }
   ],
   "source": [
    "show_loadable(\"hello/do_examples/hello_config.json\")"
   ],
   "metadata": {
    "collapsed": false,
    "ExecuteTime": {
     "end_time": "2024-05-08T05:11:02.097135Z",
     "start_time": "2024-05-08T05:11:02.092551Z"
    }
   }
  },
  {
   "cell_type": "code",
   "execution_count": 27,
   "metadata": {
    "ExecuteTime": {
     "end_time": "2024-05-08T05:11:02.290084Z",
     "start_time": "2024-05-08T05:11:02.284484Z"
    }
   },
   "outputs": [
    {
     "name": "stdout",
     "output_type": "stream",
     "text": [
      "   Martin, My lucky number is 7\n"
     ]
    },
    {
     "data": {
      "text/plain": "7"
     },
     "execution_count": 27,
     "metadata": {},
     "output_type": "execute_result"
    }
   ],
   "source": [
    "do(\"hello_config\", \"Martin\")"
   ]
  },
  {
   "cell_type": "markdown",
   "metadata": {},
   "source": [
    ".\n",
    "## EXAMPLE -- CONFIG INHERITANCE\n",
    "Here 'hello_shadowing_config' sets lucky_number to 777 and inherits function to call and other parameters from 'hello_config'."
   ]
  },
  {
   "cell_type": "code",
   "execution_count": 28,
   "metadata": {
    "ExecuteTime": {
     "end_time": "2024-05-08T05:11:02.643060Z",
     "start_time": "2024-05-08T05:11:02.638733Z"
    }
   },
   "outputs": [
    {
     "name": "stdout",
     "output_type": "stream",
     "text": [
      "\n",
      "### SHOWING MODULE '.../hello/do_examples/hello_shadowed_config.json'\n",
      "  | {\n",
      "  |   \"main\": {\n",
      "  |     \"base\": \"hello_config\" },\n",
      "  |   \"lucky_number\":  777\n",
      "  | }\n",
      "  | \n",
      "\n",
      "\n"
     ]
    }
   ],
   "source": [
    "show_loadable(\"hello/do_examples/hello_shadowed_config.json\")"
   ]
  },
  {
   "cell_type": "code",
   "execution_count": 29,
   "metadata": {
    "ExecuteTime": {
     "end_time": "2024-05-08T05:11:02.833206Z",
     "start_time": "2024-05-08T05:11:02.827463Z"
    }
   },
   "outputs": [
    {
     "name": "stdout",
     "output_type": "stream",
     "text": [
      "   Hello, My lucky number is 777\n"
     ]
    },
    {
     "data": {
      "text/plain": "777"
     },
     "execution_count": 29,
     "metadata": {},
     "output_type": "execute_result"
    }
   ],
   "source": [
    "do(\"hello_shadowed_config\")"
   ]
  },
  {
   "cell_type": "markdown",
   "metadata": {},
   "source": [
    "_\n",
    "## EXAMPLE -- COMBINING CONFIGS AND CODE\n",
    "Complex tools (including nearly a visualizers/report generators) naturally have simple config info best expressed as a config dict,\n",
    "and complex config best expressed in python.  Forcing these to be separate loadables will generate confusing sea of many tiny \n",
    "separate 2-line loadable files.\n",
    "\n",
    "To address this \"do\" allows config data (normally stored in .json) to be stored in a variable in a .py file.  This allows that\n",
    "config info to be bundled with functions that are referenced by that same config in the same module.  \n",
    "\n",
    "The example below shows a silly complex tool that applies a sequence to text transformation rules to a sequence of letters.\n",
    "The first loadable provides a config with the base parameters and the rule engine itself.  The second loadable configures the tool and \n",
    "provides a couple of small python rule functions that are used by the configuration all nicely wrapped up in a single .py file."
   ]
  },
  {
   "cell_type": "code",
   "execution_count": 30,
   "metadata": {
    "ExecuteTime": {
     "end_time": "2024-05-08T05:11:03.757609Z",
     "start_time": "2024-05-08T05:11:03.750414Z"
    }
   },
   "outputs": [
    {
     "name": "stdout",
     "output_type": "stream",
     "text": [
      "\n",
      "### SHOWING MODULE '.../hello/do_examples/letterator.py'\n",
      "  | from ml_dat import do\n",
      "  | \n",
      "  | \"\"\"Silly configurable tool for applying rules to a sequence of letters.\"\"\"\n",
      "  | letterator = {\n",
      "  |     \"main\": {\n",
      "  |       \"do\": \"letterator.run\",      # example of a complex tool config\n",
      "  |       \"title\": \"The Letterator\"\n",
      "  |     },   \n",
      "  |     \"start\": 48,\n",
      "  |     \"end\": 122\n",
      "  | }\n",
      "  | \n",
      "  | \n",
      "  | def run(inst):\n",
      "  |     spec = inst.get_spec()\n",
      "  |     results = []\n",
      "  |     for idx in range(spec[\"start\"], spec[\"end\"]):\n",
      "  |         text = chr(idx)\n",
      "  |         for step, rule_name in spec[\"rules\"]:\n",
      "  |             fn = do.load(rule_name)\n",
      "  |             if idx % step == 0:\n",
      "  |                 text = fn(idx, text)\n",
      "  |         results.append(text)\n",
      "  |     print(spec[\"main\"][\"title\"])\n",
      "  |     return \"  \".join(results)\n",
      "  | \n",
      "\n",
      "\n"
     ]
    }
   ],
   "source": [
    "show_loadable(\"hello/do_examples/letterator.py\")"
   ]
  },
  {
   "cell_type": "code",
   "execution_count": 31,
   "metadata": {
    "ExecuteTime": {
     "end_time": "2024-05-08T05:11:05.248261Z",
     "start_time": "2024-05-08T05:11:05.241810Z"
    }
   },
   "outputs": [
    {
     "name": "stdout",
     "output_type": "stream",
     "text": [
      "\n",
      "### SHOWING MODULE '.../hello/do_examples/my_letters.py'\n",
      "  | my_letters = {\n",
      "  |   \"main\": {\"base\": \"letterator\"},\n",
      "  |   \"start\": 97,\n",
      "  |   \"rules\": [\n",
      "  |     (7, \"my_letters.jackpot\"),\n",
      "  |     (3, \"my_letters.triple_it\"),\n",
      "  |     (5, \"my_letters.all_caps_it\")]\n",
      "  | }\n",
      "  | \n",
      "  | def triple_it(_idx, text):\n",
      "  |     return F\"{text}{text}{text}\"\n",
      "  | \n",
      "  | def all_caps_it(_idx, text):\n",
      "  |     return text.upper()\n",
      "  | \n",
      "  | def jackpot(_idx, _text):\n",
      "  |     return \"jackpot \"\n",
      "  | \n",
      "\n",
      "\n"
     ]
    }
   ],
   "source": [
    "show_loadable(\"hello/do_examples/my_letters.py\")"
   ]
  },
  {
   "cell_type": "code",
   "execution_count": 32,
   "metadata": {
    "ExecuteTime": {
     "end_time": "2024-05-08T05:11:06.329504Z",
     "start_time": "2024-05-08T05:11:06.322789Z"
    }
   },
   "outputs": [
    {
     "name": "stdout",
     "output_type": "stream",
     "text": [
      "The Letterator\n"
     ]
    },
    {
     "data": {
      "text/plain": "'a  jackpot   ccc  D  e  fff  g  h  JACKPOT JACKPOT JACKPOT   j  k  lll  m  N  ooo  jackpot   q  rrr  S  t  uuu  v  jackpot   XXX  y'"
     },
     "execution_count": 32,
     "metadata": {},
     "output_type": "execute_result"
    }
   ],
   "source": [
    "do(\"my_letters\")"
   ]
  },
  {
   "cell_type": "markdown",
   "metadata": {},
   "source": [
    ".\n",
    ".\n",
    "# USE CASE - SELF DOCUMENTING PROCESSES\n",
    "When possible we can use simple verisoned object to help us execute coding processes, and \n",
    "track/maintain those processes.  "
   ]
  },
  {
   "cell_type": "markdown",
   "metadata": {},
   "source": [
    ".\n",
    "## EXAMPLE -- Loadable constant\n",
    "Here we show that a loadable can be any python constant data value.\n",
    "In this example we have a set of named lists that are used to track \n",
    "our supported dataset, metrics, and tools.\n",
    "\n",
    "This versioned data structure is used as input by the 'naughtly_list' script that scans\n",
    "supported components to see that each has (1) a doc string, both quick and full regression tests, etc.\n"
   ]
  },
  {
   "cell_type": "code",
   "execution_count": 33,
   "metadata": {
    "ExecuteTime": {
     "end_time": "2024-05-08T05:11:08.897557Z",
     "start_time": "2024-05-08T05:11:08.893107Z"
    }
   },
   "outputs": [
    {
     "name": "stdout",
     "output_type": "stream",
     "text": [
      "\n",
      "### SHOWING MODULE '.../hello/do_examples/supported.yaml'\n",
      "  | datasets:\n",
      "  | - regression_games # Any game referenced by any regression test MUST be listed here\n",
      "  | - baller10  # Default dataset use by all basketball metrics\n",
      "  | - volley10\n",
      "  | - arron4    # Examples of higher resolution games\n",
      "  | metrics:\n",
      "  | - team_highlight.money  # Jason agreed money metric for team highlights \n",
      "  | - team_highlight.precision # Just the precision portion of this metric\n",
      "  | - player_highlight.money # Jason agreed, include player ID\n",
      "  | - basket_stats.money # Jason agree, metric for points, player, make-miss stats\n",
      "  | - p_metric # used in 2022\n",
      "  | \n",
      "\n",
      "\n"
     ]
    }
   ],
   "source": [
    "show_loadable(\"hello/do_examples/supported.yaml\")"
   ]
  },
  {
   "cell_type": "code",
   "execution_count": 34,
   "metadata": {
    "ExecuteTime": {
     "end_time": "2024-05-08T05:11:09.647134Z",
     "start_time": "2024-05-08T05:11:09.640529Z"
    }
   },
   "outputs": [
    {
     "name": "stdout",
     "output_type": "stream",
     "text": [
      "\n",
      "### SHOWING MODULE '.../hello/do_examples/team_highlight.py'\n",
      "  | \"\"\"\n",
      "  | Team highlight money is the F1 where correctness is tied to correctly assessing shot \n",
      "  | attempt and make-miss, without consideration of player-ID nor number of points scored.\n",
      "  | \n",
      "  | This is the Jason approved metric associated with our team highlights product, and we\n",
      "  | have agreed 80% is the minimum approved threshold required for product ship.\n",
      "  | \"\"\"\n",
      "  | \n",
      "  | from ml_dat import do, Inst\n",
      "  | \n",
      "  | \n",
      "  | def reg_quick_test():\n",
      "  |     run_result = Inst.load(\"reg1_latest\")   # Reg1 pickle for a special 5-min snipit\n",
      "  |     assert do(\"team_highlight_money\", run_result) > .65\n",
      "  | \n",
      "  | \n",
      "  | reg_full_test = \"std_full1\"  # indicates full regression testing is part of 'std_full1'\n",
      "  | \n",
      "  | \n",
      "  | def money(_run_result: Inst) -> float:\n",
      "  |     return -1  # implementation goes here\n",
      "  | \n",
      "  |     \n",
      "  | def precision(_run_result: Inst) -> float:\n",
      "  |     return -1  # implementation goes here\n",
      "  | \n",
      "\n",
      "\n"
     ]
    }
   ],
   "source": [
    "show_loadable(\"hello/do_examples/team_highlight.py\")"
   ]
  },
  {
   "cell_type": "code",
   "execution_count": 35,
   "metadata": {
    "ExecuteTime": {
     "end_time": "2024-05-08T05:11:10.426234Z",
     "start_time": "2024-05-08T05:11:10.399421Z"
    }
   },
   "outputs": [
    {
     "name": "stdout",
     "output_type": "stream",
     "text": [
      "\n",
      "### SHOWING MODULE '.../hello/do_examples/naughty_list.py'\n",
      "  | \"\"\"\n",
      "  | The \"naughty list\" scans all supported datasets, metrics, visualization/debugging tools \n",
      "  | and verifies they are (1) properly documented, (2) they execute their full regressions, \n",
      "  | (3) The continue to run against representative games, metrics, tools.\n",
      "  | \n",
      "  | Any metric, tool, dataset that is not fully compliant is indicated on the naughty list.\n",
      "  | \"\"\"\n",
      "  | \n",
      "  | from ml_dat import load_inst\n",
      "  | \n",
      "  | \n",
      "  | def naughty_list():\n",
      "  |     # this double for loop checks docs exist, regression test exists, and passes etc.\n",
      "  |     for section, supported_insts in load_inst(\"supported\").items():\n",
      "  |         for name in supported_insts:\n",
      "  |             inst = load_inst(name)\n",
      "  |             if not hasattr(inst, \"__DOC__\"):\n",
      "  |                 print(F\"   {section} {name} does not have a valid doc string\")\n",
      "  |             # if not hasattr(inst, ):\n",
      "  |             #     print(F\"   {section} {name} does not have a valid doc string\")\n",
      "  |             if not hasattr(inst, \"reg_quick_test\"):\n",
      "  |                 print(F\"   {section} {name} doesn't have a valid quick regression test\")\n",
      "  |             if not hasattr(inst, \"reg_full_test\"):\n",
      "  |                 print(F\"   {section} {name} doesn't have a valid full regression test\")\n",
      "  | \n",
      "\n",
      "\n"
     ]
    }
   ],
   "source": [
    "show_loadable(\"hello/do_examples/naughty_list.py\")"
   ]
  },
  {
   "cell_type": "code",
   "execution_count": 36,
   "metadata": {
    "ExecuteTime": {
     "end_time": "2024-05-08T05:11:12.092783Z",
     "start_time": "2024-05-08T05:11:12.081563Z"
    }
   },
   "outputs": [
    {
     "ename": "ModuleNotFoundError",
     "evalue": "No module named 'dat'",
     "output_type": "error",
     "traceback": [
      "\u001B[0;31m---------------------------------------------------------------------------\u001B[0m",
      "\u001B[0;31mModuleNotFoundError\u001B[0m                       Traceback (most recent call last)",
      "Cell \u001B[0;32mIn[36], line 4\u001B[0m\n\u001B[1;32m      1\u001B[0m \u001B[38;5;66;03m# Note this code presently does not run\u001B[39;00m\n\u001B[0;32m----> 4\u001B[0m \u001B[38;5;28;01mfrom\u001B[39;00m \u001B[38;5;21;01mdat\u001B[39;00m\u001B[38;5;21;01m.\u001B[39;00m\u001B[38;5;21;01minst\u001B[39;00m \u001B[38;5;28;01mimport\u001B[39;00m Inst\n\u001B[1;32m      5\u001B[0m \u001B[38;5;28;01mfrom\u001B[39;00m \u001B[38;5;21;01mdat\u001B[39;00m\u001B[38;5;21;01m.\u001B[39;00m\u001B[38;5;21;01mdo\u001B[39;00m \u001B[38;5;28;01mimport\u001B[39;00m load\n\u001B[1;32m      7\u001B[0m reg1_name \u001B[38;5;241m=\u001B[39m load(\u001B[38;5;124m\"\u001B[39m\u001B[38;5;124msupported\u001B[39m\u001B[38;5;124m\"\u001B[39m)[\u001B[38;5;124m\"\u001B[39m\u001B[38;5;124mdatasets\u001B[39m\u001B[38;5;124m\"\u001B[39m][\u001B[38;5;241m0\u001B[39m]   \u001B[38;5;66;03m# Gets then name of a mcproc result to use\u001B[39;00m\n",
      "\u001B[0;31mModuleNotFoundError\u001B[0m: No module named 'dat'"
     ]
    }
   ],
   "source": [
    "# Note this code presently does not run\n",
    "\n",
    "\n",
    "from dat.inst import Inst\n",
    "from dat.do import load\n",
    "\n",
    "reg1_name = load(\"supported\")[\"datasets\"][0]   # Gets then name of a mcproc result to use\n",
    "reg1 = Inst(spec={}, path=\".\")     # This should be Inst.load(reg1) but that inst does not exist here\n",
    "score = do(\"team_highlight.money\", reg1)  # computes money metric on reg1\n",
    "\n",
    "# do(\"naughty_list\")   # runs our checking code"
   ]
  },
  {
   "cell_type": "markdown",
   "metadata": {},
   "source": [
    ".\n",
    ".\n",
    "# USING DO FROM THE COMMAND LINE\n",
    "Do encapsulates execution as a self describing building block.  The do function is designed to be easily \n",
    "embedded within larger execution scripts.  In some cases it is convenient for a user to directly invoke do\n",
    "as a toplevel command.  The do commandline interface provide command line support \"for free\" for any such \n",
    "do function. It defines a simple mapping from expected --arguments and -a argument onto Python fixed and kwargs.\n",
    "This probably best shown using a series of examples:"
   ]
  },
  {
   "cell_type": "markdown",
   "metadata": {},
   "source": [
    ".\n",
    "### EXAMPLE -- Showing default usage command for "
   ]
  },
  {
   "cell_type": "code",
   "execution_count": 37,
   "metadata": {
    "ExecuteTime": {
     "end_time": "2024-05-08T05:11:16.745018Z",
     "start_time": "2024-05-08T05:11:16.261632Z"
    }
   },
   "outputs": [
    {
     "name": "stdout",
     "output_type": "stream",
     "text": [
      "\r\n",
      "SYNOPSIS\r\n",
      "    do CMD_NAME FIXED_ARGS ... KEYWORD_ARG ...\r\n",
      "    do KEY_WORD_ARGS  ...  CMD_NAME FIXED_ARGS ...\r\n",
      "\r\n",
      "    do --usage\r\n",
      "    do --get DOTTED.KEY\r\n",
      "    do --set DOTTED.KEY=VALUE\r\n",
      "    do --sets \"DOTTED.KEY1=VALUE1, DOTTED.KEY2=VALUE2\"\r\n",
      "\r\n",
      "DESCRIPTION\r\n",
      "    Executes the do command named by CMD_NAME.\r\n",
      "    \r\n",
      "    --usage     Prints the command-specific usage info if it exists\r\n",
      "    \r\n",
      "    --USAGE     Prints this usage message\r\n",
      "    \r\n",
      "    --print     Prints the python do call with args, but does not call it.\r\n",
      "    \r\n",
      "    --get DOTTED.NAME\r\n",
      "                Expands the config for a command and returns an arg from it\r\n",
      "    \r\n",
      "    --set DOTTED.NAME=VALUE\r\n",
      "    --sets DOTTED.NAME1=VALUE1,DOTTED.NAME2=VALUE2,...\r\n",
      "                Expands the config for a command and updates the indicated\r\n",
      "                config parameters before invoking the indicated command\r\n",
      "\r\n",
      "NOTES\r\n",
      "    Per standard UNIX 'getopt' parameter parsing two dashes (\"--\")\r\n",
      "    can be used to terminate keyword arguments and cause all remaining \r\n",
      "    arguments to be treated as fixed parameters even when those parameters\r\n",
      "    begin with \"-\" in a way that could be confused as additional keywords\r\n",
      "\r\n",
      "    Unlike most UNIX parameters each single dash (\"-\") keywords cannot\r\n",
      "    be concatenated.  So \"do -a -b foo\" cannot be shorted to \"do -ab foo\"\r\n",
      "    \r\n",
      "    All keyword arguments can be either flags or keywords with arguments, \r\n",
      "    thus \"--\" must be added in some cases to avoid treating a fixed arg\r\n",
      "    as the value associated with a keyword flag.\r\n",
      "    \r\n",
      "\r\n",
      "EXAMPLES\r\n",
      "\r\n",
      "    do --show balls,hoops viz\r\n",
      "\r\n"
     ]
    }
   ],
   "source": [
    "!./do --usage"
   ]
  },
  {
   "cell_type": "markdown",
   "metadata": {},
   "source": [
    ".\n",
    "### EXAMPLE -- INVOKING A DO FUNCTION FROM THE COMMAND LINE\n",
    "Earlier we had hello salutation that took fixed and keyword args.\n",
    "Without additonal configuration we can invoke it from the command line\n",
    "using UNIX style args and flags as shown here:"
   ]
  },
  {
   "cell_type": "code",
   "execution_count": 38,
   "metadata": {
    "ExecuteTime": {
     "end_time": "2024-05-08T05:11:22.234715Z",
     "start_time": "2024-05-08T05:11:21.796420Z"
    }
   },
   "outputs": [
    {
     "name": "stdout",
     "output_type": "stream",
     "text": [
      "   MAXIM, MY LUCKY NUMBER IS 999!\r\n",
      "999\r\n"
     ]
    }
   ],
   "source": [
    "!./do hello_again.salutation Maxim --emphasis"
   ]
  },
  {
   "cell_type": "markdown",
   "metadata": {},
   "source": [
    ".\n",
    "### EXAMPLE -- INVOKING A CONFIGURED TOOL FROM THE COMMAND LINE\n",
    "In this example we show one also can invoke a do configuration from the command line as well.\n",
    "Here we have the same configurable \"letterator\" tool invoked as a do function above:"
   ]
  },
  {
   "cell_type": "code",
   "execution_count": 39,
   "metadata": {
    "ExecuteTime": {
     "end_time": "2024-05-08T05:11:23.693207Z",
     "start_time": "2024-05-08T05:11:23.685640Z"
    }
   },
   "outputs": [
    {
     "name": "stdout",
     "output_type": "stream",
     "text": [
      "\n",
      "### SHOWING MODULE '.../hello/do_examples/my_letters.py'\n",
      "  | my_letters = {\n",
      "  |   \"main\": {\"base\": \"letterator\"},\n",
      "  |   \"start\": 97,\n",
      "  |   \"rules\": [\n",
      "  |     (7, \"my_letters.jackpot\"),\n",
      "  |     (3, \"my_letters.triple_it\"),\n",
      "  |     (5, \"my_letters.all_caps_it\")]\n",
      "  | }\n",
      "  | \n",
      "  | def triple_it(_idx, text):\n",
      "  |     return F\"{text}{text}{text}\"\n",
      "  | \n",
      "  | def all_caps_it(_idx, text):\n",
      "  |     return text.upper()\n",
      "  | \n",
      "  | def jackpot(_idx, _text):\n",
      "  |     return \"jackpot \"\n",
      "  | \n",
      "\n",
      "\n"
     ]
    }
   ],
   "source": [
    "show_loadable(\"hello/do_examples/my_letters.py\")"
   ]
  },
  {
   "cell_type": "code",
   "execution_count": 40,
   "metadata": {
    "ExecuteTime": {
     "end_time": "2024-05-08T05:11:25.446466Z",
     "start_time": "2024-05-08T05:11:25.006634Z"
    }
   },
   "outputs": [
    {
     "name": "stdout",
     "output_type": "stream",
     "text": [
      "The Letterator\r\n",
      "a  jackpot   ccc  D  e  fff  g  h  JACKPOT JACKPOT JACKPOT   j  k  lll  m  N  ooo  jackpot   q  rrr  S  t  uuu  v  jackpot   XXX  y\r\n"
     ]
    }
   ],
   "source": [
    "!./do my_letters"
   ]
  },
  {
   "cell_type": "markdown",
   "metadata": {},
   "source": [
    "### EXAMPLE -- TWEAK CONFIG FROM COMMANDLINE\n",
    "Often we script and configure a complex test, but then we want to tweak one or two parameters over and over and check our results.\n",
    "(This becomes especially powerful when intermediate results are cached, so retesting is fast.)"
   ]
  },
  {
   "cell_type": "code",
   "execution_count": 41,
   "metadata": {
    "ExecuteTime": {
     "end_time": "2024-05-08T05:11:27.550335Z",
     "start_time": "2024-05-08T05:11:27.138881Z"
    }
   },
   "outputs": [
    {
     "name": "stdout",
     "output_type": "stream",
     "text": [
      "Re-configured letterator\r\n",
      "a  bbb  c  ddd  e  fff  g  hhh  i  jjj  k  lll  m  nnn  o  ppp  q  rrr  s  ttt  u  vvv  w  xxx  y\r\n"
     ]
    }
   ],
   "source": [
    "!./do my_letters --set main.title \"Re-configured letterator\" --json rules '[[2, \"my_letters.triple_it\"]]'"
   ]
  },
  {
   "cell_type": "markdown",
   "metadata": {},
   "source": [
    ".\n",
    "### EXAMPLE -- SETTING MULTIPLE PARAMETERS AT ONCE\n",
    "The --sets keyword can perform multiple simple assigments at once"
   ]
  },
  {
   "cell_type": "code",
   "execution_count": 42,
   "metadata": {
    "ExecuteTime": {
     "end_time": "2024-05-08T05:11:29.860529Z",
     "start_time": "2024-05-08T05:11:29.477572Z"
    }
   },
   "outputs": [
    {
     "name": "stdout",
     "output_type": "stream",
     "text": [
      "Quickie\r\n",
      "D  e  fff  g  h  JACKPOT JACKPOT JACKPOT   j  k  lll  m\r\n"
     ]
    }
   ],
   "source": [
    "!./do my_letters --sets main.title=Quickie,start=100,end=110"
   ]
  },
  {
   "cell_type": "markdown",
   "source": [],
   "metadata": {
    "collapsed": false
   }
  },
  {
   "cell_type": "markdown",
   "source": [
    "# WRAPPING IT ALL UP - Templated Script Runs\n",
    "As a special case, if the string passed to 'do' loads a dict instead of a callable then:\n",
    "1. `inst_from_template` is called to create a fresh Inst based on this dict template.\n",
    "2. `main.path` is expanded to get the name (path) for this inst.\n",
    "3. Args and kwargs passed to `do` are added to `main.args` and `main.kwargs` in the\n",
    "   newly created Inst.\n",
    "3. Finally, any fn associated with `main.do` is called to perform the actual work of\n",
    "   this Inst.  Results from this run are stored in _results_.json\n"
   ],
   "metadata": {
    "collapsed": false
   }
  },
  {
   "cell_type": "code",
   "execution_count": null,
   "outputs": [],
   "source": [],
   "metadata": {
    "collapsed": false
   }
  }
 ],
 "metadata": {
  "kernelspec": {
   "display_name": "Python 3 (ipykernel)",
   "language": "python",
   "name": "python3"
  },
  "language_info": {
   "codemirror_mode": {
    "name": "ipython",
    "version": 3
   },
   "file_extension": ".py",
   "mimetype": "text/x-python",
   "name": "python",
   "nbconvert_exporter": "python",
   "pygments_lexer": "ipython3",
   "version": "3.12.0"
  }
 },
 "nbformat": 4,
 "nbformat_minor": 4
}
