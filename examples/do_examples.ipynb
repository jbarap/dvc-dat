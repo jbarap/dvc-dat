{
 "cells": [
  {
   "cell_type": "code",
   "metadata": {
    "ExecuteTime": {
     "end_time": "2024-05-09T02:52:02.437480Z",
     "start_time": "2024-05-09T02:52:02.134927Z"
    }
   },
   "source": [
    "import os\n",
    "import sys\n",
    "sys.path.append(os.path.dirname(os.path.dirname(os.getcwd())))\n",
    "\n",
    "# setup stuff.  The cell just supports the workbook, you can ignore it\n",
    "\n",
    "EXAMPLE_DO_FOLDER = os.path.join(os.getcwd(), \"example_do_folder\")\n",
    "INSERTION_FOLDER = EXAMPLE_DO_FOLDER\n",
    "\n",
    "def show_loadable(at):\n",
    "    with open(os.path.join(INSERTION_FOLDER, at)) as file:\n",
    "        contents = file.read()\n",
    "    with_bar = \"\\n  | \".join(contents.split(\"\\n\"))\n",
    "    print(F\"\\n### SHOWING MODULE {'.../'+at!r}\\n  | {with_bar}\\n\\n\")\n",
    "\n",
    "def run_do(*args, **kwargs):\n",
    "    parts = [repr(x) for x in args] + [F\"{k}={v!r}\" for k, v in kwargs.items()]\n",
    "    print(F\"do({', '.join(parts)})\")\n",
    "    result = do(*args, **kwargs)\n",
    "    print(F\"--> {result!r}\")\n",
    "    print()\n",
    "\n",
    "\n",
    "print(F\"### INSERTION FOLDER        = {INSERTION_FOLDER!r}\")\n",
    "print(F\"### DO FOLDER (in Jupyter)  = {EXAMPLE_DO_FOLDER}\")\n",
    "sys.path.append(os.path.dirname(os.path.dirname(EXAMPLE_DO_FOLDER)))\n",
    "from dvc_dat import do, DoManager, dat_config   # Add all loadables BEFORE loading this module\n",
    "do.set_do_folder(dat_config.do_folder)\n",
    "print(F\"## DO FOLDER (in do module) = {do.do_folder!r}\")\n",
    "if EXAMPLE_DO_FOLDER != do.do_folder:\n",
    "    print(f\"WARNING: EXAMPLE_DO_FOLDER used by jupyter = {EXAMPLE_DO_FOLDER} does not match {do.do_folder}\")\n",
    "if not os.path.exists(INSERTION_FOLDER):\n",
    "    input(f\"WARNING: INSERTION_FOLDER {INSERTION_FOLDER!r} not found.\")\n",
    "    os.makedirs(INSERTION_FOLDER)\n",
    "print(\"\\n\\n\\n\\n\")\n",
    "\n",
    "\n"
   ],
   "execution_count": 1,
   "outputs": []
  },
  {
   "cell_type": "markdown",
   "source": [],
   "metadata": {
    "collapsed": false
   }
  },
  {
   "cell_type": "markdown",
   "source": [
    "<style>\n",
    ".output_scroll {\n",
    "    height: 1500px !important; /* You can change 500px to your desired height */\n",
    "}\n",
    "</style>"
   ],
   "metadata": {
    "collapsed": false
   }
  },
  {
   "cell_type": "markdown",
   "metadata": {
    "collapsed": false,
    "jupyter": {
     "outputs_hidden": false
    }
   },
   "source": [
    "# Mapping dotted-strings to python source code objects.\n",
    "The \"do.load\" function provides a simple way to load functions and data directly from\n",
    "python source modules.\n"
   ]
  },
  {
   "cell_type": "markdown",
   "metadata": {},
   "source": [
    "### Registering and accessing python objects"
   ]
  },
  {
   "cell_type": "code",
   "metadata": {
    "ExecuteTime": {
     "end_time": "2024-05-09T02:52:07.303487Z",
     "start_time": "2024-05-09T02:52:07.301080Z"
    }
   },
   "source": [
    "do.register_value(\"foo.bar.baz\", [11, \"two\"])"
   ],
   "execution_count": 2,
   "outputs": []
  },
  {
   "cell_type": "code",
   "metadata": {
    "ExecuteTime": {
     "end_time": "2024-05-09T02:52:07.770884Z",
     "start_time": "2024-05-09T02:52:07.767230Z"
    }
   },
   "source": [
    "do.load(\"foo.bar.baz\")"
   ],
   "execution_count": 3,
   "outputs": []
  },
  {
   "cell_type": "markdown",
   "metadata": {},
   "source": [
    ".\n",
    "##### And you can see semantically this is just a dict-tree of values:"
   ]
  },
  {
   "cell_type": "code",
   "metadata": {
    "ExecuteTime": {
     "end_time": "2024-05-09T02:52:14.660895Z",
     "start_time": "2024-05-09T02:52:14.449204Z"
    }
   },
   "source": [
    "do.load(\"foo.bar\")   "
   ],
   "execution_count": 4,
   "outputs": []
  },
  {
   "cell_type": "markdown",
   "metadata": {},
   "source": [
    "### Registering python modules\n",
    "Here we register a python module, then load data a functions from it via dotted.names."
   ]
  },
  {
   "cell_type": "code",
   "metadata": {
    "ExecuteTime": {
     "end_time": "2024-05-09T02:52:17.923207Z",
     "start_time": "2024-05-09T02:52:17.921218Z"
    }
   },
   "source": [
    "path = f\"{EXAMPLE_DO_FOLDER}/some_python_file.py\"\n",
    "print(f\"here we are registering 'params' as {path!r}.\")\n",
    "do.register_module(\"params\", path)"
   ],
   "execution_count": 5,
   "outputs": []
  },
  {
   "cell_type": "code",
   "source": [
    "show_loadable(\"some_python_file.py\")"
   ],
   "metadata": {
    "collapsed": false,
    "ExecuteTime": {
     "end_time": "2024-05-09T02:52:18.183720Z",
     "start_time": "2024-05-09T02:52:18.181318Z"
    }
   },
   "execution_count": 6,
   "outputs": []
  },
  {
   "cell_type": "code",
   "metadata": {
    "ExecuteTime": {
     "end_time": "2024-05-09T02:52:18.444220Z",
     "start_time": "2024-05-09T02:52:18.441518Z"
    }
   },
   "source": [
    "do.load(\"params.a_value\")"
   ],
   "execution_count": 7,
   "outputs": []
  },
  {
   "cell_type": "code",
   "metadata": {
    "ExecuteTime": {
     "end_time": "2024-05-09T02:52:19.105865Z",
     "start_time": "2024-05-09T02:52:19.103582Z"
    }
   },
   "source": [
    "fn = do.load(\"params.a_function\")\n",
    "fn()"
   ],
   "execution_count": 8,
   "outputs": []
  },
  {
   "cell_type": "code",
   "metadata": {
    "ExecuteTime": {
     "end_time": "2024-05-09T02:52:19.736278Z",
     "start_time": "2024-05-09T02:52:19.734045Z"
    }
   },
   "source": [
    "# And we can see that the do function is just a wrapper around the do.load.  This performs the same function as the above cell.\n",
    "do(\"params.a_function\")"
   ],
   "execution_count": 9,
   "outputs": []
  },
  {
   "cell_type": "markdown",
   "metadata": {
    "collapsed": false,
    "jupyter": {
     "outputs_hidden": false
    }
   },
   "source": [
    "### DATCONFIG - Implicitly registered modules\n",
    "'Do' will scan from CWD to find '.datconfig' and use the do_folder it specifies.  At load time this folder tree is scanned and all .py .json and .yaml files found are implicitly registered according to the basename of each file."
   ]
  },
  {
   "cell_type": "code",
   "metadata": {
    "ExecuteTime": {
     "end_time": "2024-05-09T02:52:20.298009Z",
     "start_time": "2024-05-09T02:52:20.295379Z"
    }
   },
   "source": [
    "show_loadable(\"../.datconfig\")"
   ],
   "execution_count": 10,
   "outputs": []
  },
  {
   "cell_type": "code",
   "metadata": {
    "collapsed": false,
    "jupyter": {
     "outputs_hidden": false
    },
    "ExecuteTime": {
     "end_time": "2024-05-09T02:52:20.503910Z",
     "start_time": "2024-05-09T02:52:20.501614Z"
    }
   },
   "source": [
    "show_loadable(\"hello/do_examples/my_data.py\")\n"
   ],
   "execution_count": 11,
   "outputs": []
  },
  {
   "cell_type": "markdown",
   "metadata": {},
   "source": [
    "#### Loading from implicitly defined modules\n",
    "These values are all loaded from python and yaml files implicitly registered since they are contained under the do_folder."
   ]
  },
  {
   "cell_type": "code",
   "metadata": {
    "collapsed": false,
    "jupyter": {
     "outputs_hidden": false
    },
    "ExecuteTime": {
     "end_time": "2024-05-09T02:52:20.914950Z",
     "start_time": "2024-05-09T02:52:20.910647Z"
    }
   },
   "source": [
    "do.load(\"my_data.message\")    # Returns the global variable 'message' from the my_data.py file."
   ],
   "execution_count": 12,
   "outputs": []
  },
  {
   "cell_type": "code",
   "metadata": {
    "collapsed": false,
    "jupyter": {
     "outputs_hidden": false
    },
    "ExecuteTime": {
     "end_time": "2024-05-09T02:52:21.117199Z",
     "start_time": "2024-05-09T02:52:21.115071Z"
    }
   },
   "source": [
    "do.load(\"my_data.a_tree.b\")   # Returns the value of the nested variable 'b' from the 'a_tree' dictionary in my_data.py"
   ],
   "execution_count": 13,
   "outputs": []
  },
  {
   "cell_type": "code",
   "metadata": {
    "ExecuteTime": {
     "end_time": "2024-05-09T02:52:21.383656Z",
     "start_time": "2024-05-09T02:52:21.380936Z"
    }
   },
   "source": [
    "#\n",
    "# But under the covers, this tree of values is really still just data contained in some python module.  This module can be accessed directly if needed:\n",
    "do.load(\"my_data\")"
   ],
   "execution_count": 14,
   "outputs": []
  },
  {
   "cell_type": "code",
   "metadata": {
    "collapsed": false,
    "jupyter": {
     "outputs_hidden": false
    },
    "ExecuteTime": {
     "end_time": "2024-05-09T02:52:21.661066Z",
     "start_time": "2024-05-09T02:52:21.659044Z"
    }
   },
   "source": [
    "show_loadable(\"hello/do_examples/my_yaml_data.yaml\")"
   ],
   "execution_count": 15,
   "outputs": []
  },
  {
   "cell_type": "code",
   "metadata": {
    "ExecuteTime": {
     "end_time": "2024-05-09T02:52:21.848418Z",
     "start_time": "2024-05-09T02:52:21.846204Z"
    }
   },
   "source": [
    "do.load(\"my_yaml_data.two\")   # loading within a substructure"
   ],
   "execution_count": 16,
   "outputs": []
  },
  {
   "cell_type": "code",
   "metadata": {
    "ExecuteTime": {
     "end_time": "2024-05-09T02:52:22.044670Z",
     "start_time": "2024-05-09T02:52:22.042207Z"
    }
   },
   "source": [
    "do.load(\"my_data.a_tree.a.two\")  # Same data included in to another structure"
   ],
   "execution_count": 17,
   "outputs": []
  },
  {
   "cell_type": "code",
   "metadata": {
    "ExecuteTime": {
     "end_time": "2024-05-09T02:52:22.302517Z",
     "start_time": "2024-05-09T02:52:22.301112Z"
    }
   },
   "source": [],
   "execution_count": 17,
   "outputs": []
  },
  {
   "cell_type": "markdown",
   "metadata": {},
   "source": [
    "# CORE \"DO\" FUNCTIONALITY -- Dynamically Loaded Function\n",
    "\n",
    "The do function provides efficient access to dynamically searched and loaded python functions:\n",
    "1. that are referenced by a naming string\n",
    "2. that are dynmaically loaded from a python module\n",
    "3. that accept fixed & keyword arguments and return results as any function does"
   ]
  },
  {
   "cell_type": "markdown",
   "metadata": {},
   "source": [
    ".\n",
    "## EXAMPLE -- A SIMPLEST \"DO\" CALL\n",
    "This \"do\" loads hello_world.py and runs the function hello_world from it."
   ]
  },
  {
   "cell_type": "code",
   "metadata": {
    "ExecuteTime": {
     "end_time": "2024-05-09T02:52:23.061383Z",
     "start_time": "2024-05-09T02:52:23.058817Z"
    }
   },
   "source": [
    "show_loadable(\"hello/do_examples/hello_world.py\")"
   ],
   "execution_count": 18,
   "outputs": []
  },
  {
   "cell_type": "code",
   "metadata": {
    "ExecuteTime": {
     "end_time": "2024-05-09T02:52:23.245455Z",
     "start_time": "2024-05-09T02:52:23.243227Z"
    }
   },
   "source": [
    "do(\"hello_world\")"
   ],
   "execution_count": 19,
   "outputs": []
  },
  {
   "cell_type": "markdown",
   "metadata": {},
   "source": [
    ".\n",
    "## EXAMPLE -- MULTIPLE DO FUNCTIONS DEFINED IN ONE MODULE\n",
    "One can put multiple do functions in one file and reference them with a dot notion as shown here."
   ]
  },
  {
   "cell_type": "code",
   "metadata": {
    "ExecuteTime": {
     "end_time": "2024-05-09T02:52:23.664926Z",
     "start_time": "2024-05-09T02:52:23.662403Z"
    }
   },
   "source": [
    "show_loadable(\"hello/do_examples/hello_again.py\")"
   ],
   "execution_count": 20,
   "outputs": []
  },
  {
   "cell_type": "code",
   "metadata": {
    "ExecuteTime": {
     "end_time": "2024-05-09T02:52:23.879131Z",
     "start_time": "2024-05-09T02:52:23.876905Z"
    }
   },
   "source": [
    "do(\"hello_again.hella\")"
   ],
   "execution_count": 21,
   "outputs": []
  },
  {
   "cell_type": "markdown",
   "metadata": {},
   "source": [
    ".\n",
    "## EXAMPLE -- PASSING ARGS AND RESULTS\n",
    "Here we see fixed and keyword args being forwarded by do to the underlying function.\n",
    "And likewise its result is forward back to be the result of the do call."
   ]
  },
  {
   "cell_type": "code",
   "metadata": {
    "ExecuteTime": {
     "end_time": "2024-05-09T02:52:24.285847Z",
     "start_time": "2024-05-09T02:52:24.283007Z"
    }
   },
   "source": [
    "do(\"hello_again.salutation\", \"Michael\", emphasis=True)"
   ],
   "execution_count": 22,
   "outputs": []
  },
  {
   "cell_type": "markdown",
   "metadata": {},
   "source": [
    ".\n",
    "## EXAMPLE -- ALL SUB-FOLDERS ARE SCANNED FOR \"DO\" FUNCTION\n",
    "Here we see \"deep_hello\" is called even when it occurs deeply within the folder tree."
   ]
  },
  {
   "cell_type": "code",
   "metadata": {
    "ExecuteTime": {
     "end_time": "2024-05-09T02:52:24.714477Z",
     "start_time": "2024-05-09T02:52:24.711835Z"
    }
   },
   "source": [
    "show_loadable(\"hello/do_examples/deep/deep/deep/deep_hello.py\")"
   ],
   "execution_count": 23,
   "outputs": []
  },
  {
   "cell_type": "code",
   "metadata": {
    "ExecuteTime": {
     "end_time": "2024-05-09T02:52:24.932134Z",
     "start_time": "2024-05-09T02:52:24.929789Z"
    }
   },
   "source": [
    "do(\"deep_hello\")"
   ],
   "execution_count": 24,
   "outputs": []
  },
  {
   "cell_type": "markdown",
   "metadata": {},
   "source": [
    ".\n",
    ".\n",
    "# >>> CALLING A CONFIGURATION <<<\n",
    "In addition to invoking a simple function, \"do\" can also invoke a configuration dict.\n",
    "In this case:\n",
    "1. The dict is expanded by recursively looking up \"main.base\" and using its values tree as defaults\n",
    "2. Then finally calling the function associated with \"main.do\"\n",
    "3. The expanded dict is passed as the first arg followed by args passed to do"
   ]
  },
  {
   "cell_type": "markdown",
   "metadata": {},
   "source": [
    ".\n",
    "## EXAMPLE -- CALLING A CONFIG\n",
    "Here 'hello_config' loads a json file instead of a python function.\n",
    "In this case the \"main.do\" value of \"hello config action\" is loaded and called."
   ]
  },
  {
   "cell_type": "code",
   "metadata": {
    "ExecuteTime": {
     "end_time": "2024-05-09T02:52:25.565363Z",
     "start_time": "2024-05-09T02:52:25.562583Z"
    }
   },
   "source": [
    "show_loadable(\"hello/do_examples/configurable_salutation.py\")"
   ],
   "execution_count": 25,
   "outputs": []
  },
  {
   "cell_type": "code",
   "source": [
    "show_loadable(\"hello/do_examples/hello_config.json\")"
   ],
   "metadata": {
    "collapsed": false,
    "ExecuteTime": {
     "end_time": "2024-05-09T02:52:25.784208Z",
     "start_time": "2024-05-09T02:52:25.782083Z"
    }
   },
   "execution_count": 26,
   "outputs": []
  },
  {
   "cell_type": "code",
   "metadata": {
    "ExecuteTime": {
     "end_time": "2024-05-09T02:52:26.018448Z",
     "start_time": "2024-05-09T02:52:26.013587Z"
    }
   },
   "source": [
    "do(\"hello_config\", \"Martin\")"
   ],
   "execution_count": 27,
   "outputs": []
  },
  {
   "cell_type": "markdown",
   "metadata": {},
   "source": [
    ".\n",
    "## EXAMPLE -- CONFIG INHERITANCE\n",
    "Here 'hello_shadowing_config' sets lucky_number to 777 and inherits function to call and other parameters from 'hello_config'."
   ]
  },
  {
   "cell_type": "code",
   "metadata": {
    "ExecuteTime": {
     "end_time": "2024-05-09T02:52:26.453259Z",
     "start_time": "2024-05-09T02:52:26.450475Z"
    }
   },
   "source": [
    "show_loadable(\"hello/do_examples/hello_shadowed_config.json\")"
   ],
   "execution_count": 28,
   "outputs": []
  },
  {
   "cell_type": "code",
   "metadata": {
    "ExecuteTime": {
     "end_time": "2024-05-09T02:52:26.648850Z",
     "start_time": "2024-05-09T02:52:26.645321Z"
    }
   },
   "source": [
    "do(\"hello_shadowed_config\")"
   ],
   "execution_count": 29,
   "outputs": []
  },
  {
   "cell_type": "markdown",
   "metadata": {},
   "source": [
    "_\n",
    "## EXAMPLE -- COMBINING CONFIGS AND CODE\n",
    "Complex tools (including nearly a visualizers/report generators) naturally have simple config info best expressed as a config dict,\n",
    "and complex config best expressed in python.  Forcing these to be separate loadables will generate confusing sea of many tiny \n",
    "separate 2-line loadable files.\n",
    "\n",
    "To address this \"do\" allows config data (normally stored in .json) to be stored in a variable in a .py file.  This allows that\n",
    "config info to be bundled with functions that are referenced by that same config in the same module.  \n",
    "\n",
    "The example below shows a silly complex tool that applies a sequence to text transformation rules to a sequence of letters.\n",
    "The first loadable provides a config with the base parameters and the rule engine itself.  The second loadable configures the tool and \n",
    "provides a couple of small python rule functions that are used by the configuration all nicely wrapped up in a single .py file."
   ]
  },
  {
   "cell_type": "code",
   "metadata": {
    "ExecuteTime": {
     "end_time": "2024-05-09T02:52:27.021180Z",
     "start_time": "2024-05-09T02:52:27.018535Z"
    }
   },
   "source": [
    "show_loadable(\"hello/do_examples/letterator.py\")"
   ],
   "execution_count": 30,
   "outputs": []
  },
  {
   "cell_type": "code",
   "metadata": {
    "ExecuteTime": {
     "end_time": "2024-05-09T02:52:27.224783Z",
     "start_time": "2024-05-09T02:52:27.222574Z"
    }
   },
   "source": [
    "show_loadable(\"hello/do_examples/my_letters.py\")"
   ],
   "execution_count": 31,
   "outputs": []
  },
  {
   "cell_type": "code",
   "metadata": {
    "ExecuteTime": {
     "end_time": "2024-05-09T02:52:27.407578Z",
     "start_time": "2024-05-09T02:52:27.403716Z"
    }
   },
   "source": [
    "do(\"my_letters\")"
   ],
   "execution_count": 32,
   "outputs": []
  },
  {
   "cell_type": "markdown",
   "metadata": {},
   "source": [
    ".\n",
    ".\n",
    "# USE CASE - SELF DOCUMENTING PROCESSES\n",
    "When possible we can use simple verisoned object to help us execute coding processes, and \n",
    "track/maintain those processes.  "
   ]
  },
  {
   "cell_type": "markdown",
   "metadata": {},
   "source": [
    ".\n",
    "## EXAMPLE -- Loadable constant\n",
    "Here we show that a loadable can be any python constant data value.\n",
    "In this example we have a set of named lists that are used to track \n",
    "our supported dataset, metrics, and tools.\n",
    "\n",
    "This versioned data structure is used as input by the 'naughtly_list' script that scans\n",
    "supported components to see that each has (1) a doc string, both quick and full regression tests, etc.\n"
   ]
  },
  {
   "cell_type": "code",
   "metadata": {
    "ExecuteTime": {
     "end_time": "2024-05-09T02:52:27.989578Z",
     "start_time": "2024-05-09T02:52:27.987008Z"
    }
   },
   "source": [
    "show_loadable(\"hello/do_examples/supported.yaml\")"
   ],
   "execution_count": 33,
   "outputs": []
  },
  {
   "cell_type": "code",
   "metadata": {
    "ExecuteTime": {
     "end_time": "2024-05-09T02:52:28.184580Z",
     "start_time": "2024-05-09T02:52:28.182500Z"
    }
   },
   "source": [
    "show_loadable(\"hello/do_examples/team_highlight.py\")"
   ],
   "execution_count": 34,
   "outputs": []
  },
  {
   "cell_type": "code",
   "metadata": {
    "ExecuteTime": {
     "end_time": "2024-05-09T02:52:28.377344Z",
     "start_time": "2024-05-09T02:52:28.375132Z"
    }
   },
   "source": [
    "show_loadable(\"hello/do_examples/naughty_list.py\")"
   ],
   "execution_count": 35,
   "outputs": []
  },
  {
   "cell_type": "code",
   "metadata": {
    "ExecuteTime": {
     "end_time": "2024-05-09T02:52:28.572297Z",
     "start_time": "2024-05-09T02:52:28.564426Z"
    }
   },
   "source": [
    "# Note this code presently does not run\n",
    "\n",
    "\n",
    "from dat.dat import Dat\n",
    "from dat.do import load\n",
    "\n",
    "reg1_name = load(\"supported\")[\"datasets\"][0]   # Gets then name of a mcproc result to use\n",
    "reg1 = Dat(spec={}, path=\".\")     # This should be Dat.load(reg1) but that dat does not exist here\n",
    "score = do(\"team_highlight.money\", reg1)  # computes money metric on reg1\n",
    "\n",
    "# do(\"naughty_list\")   # runs our checking code"
   ],
   "execution_count": 36,
   "outputs": []
  },
  {
   "cell_type": "markdown",
   "metadata": {},
   "source": [
    ".\n",
    ".\n",
    "# USING DO FROM THE COMMAND LINE\n",
    "Do encapsulates execution as a self describing building block.  The do function is designed to be easily \n",
    "embedded within larger execution scripts.  In some cases it is convenient for a user to directly invoke do\n",
    "as a toplevel command.  The do commandline interface provide command line support \"for free\" for any such \n",
    "do function. It defines a simple mapping from expected --arguments and -a argument onto Python fixed and kwargs.\n",
    "This probably best shown using a series of examples:"
   ]
  },
  {
   "cell_type": "markdown",
   "metadata": {},
   "source": [
    ".\n",
    "### EXAMPLE -- Showing default usage command for "
   ]
  },
  {
   "cell_type": "code",
   "metadata": {
    "ExecuteTime": {
     "end_time": "2024-05-09T02:52:29.665032Z",
     "start_time": "2024-05-09T02:52:29.201030Z"
    }
   },
   "source": [
    "!./do --usage"
   ],
   "execution_count": 37,
   "outputs": []
  },
  {
   "cell_type": "markdown",
   "metadata": {},
   "source": [
    ".\n",
    "### EXAMPLE -- INVOKING A DO FUNCTION FROM THE COMMAND LINE\n",
    "Earlier we had hello salutation that took fixed and keyword args.\n",
    "Without additonal configuration we can invoke it from the command line\n",
    "using UNIX style args and flags as shown here:"
   ]
  },
  {
   "cell_type": "code",
   "metadata": {
    "ExecuteTime": {
     "end_time": "2024-05-09T02:52:32.553600Z",
     "start_time": "2024-05-09T02:52:32.133491Z"
    }
   },
   "source": [
    "!./do hello_again.salutation Maxim --emphasis"
   ],
   "execution_count": 38,
   "outputs": []
  },
  {
   "cell_type": "markdown",
   "metadata": {},
   "source": [
    ".\n",
    "### EXAMPLE -- INVOKING A CONFIGURED TOOL FROM THE COMMAND LINE\n",
    "In this example we show one also can invoke a do configuration from the command line as well.\n",
    "Here we have the same configurable \"letterator\" tool invoked as a do function above:"
   ]
  },
  {
   "cell_type": "code",
   "metadata": {
    "ExecuteTime": {
     "end_time": "2024-05-09T02:52:32.606187Z",
     "start_time": "2024-05-09T02:52:32.604058Z"
    }
   },
   "source": [
    "show_loadable(\"hello/do_examples/my_letters.py\")"
   ],
   "execution_count": 39,
   "outputs": []
  },
  {
   "cell_type": "code",
   "metadata": {
    "ExecuteTime": {
     "end_time": "2024-05-09T02:52:33.253815Z",
     "start_time": "2024-05-09T02:52:32.822555Z"
    }
   },
   "source": [
    "!./do my_letters"
   ],
   "execution_count": 40,
   "outputs": []
  },
  {
   "cell_type": "markdown",
   "metadata": {},
   "source": [
    "### EXAMPLE -- TWEAK CONFIG FROM COMMANDLINE\n",
    "Often we script and configure a complex test, but then we want to tweak one or two parameters over and over and check our results.\n",
    "(This becomes especially powerful when intermediate results are cached, so retesting is fast.)"
   ]
  },
  {
   "cell_type": "code",
   "metadata": {
    "ExecuteTime": {
     "end_time": "2024-05-09T02:52:33.660660Z",
     "start_time": "2024-05-09T02:52:33.254889Z"
    }
   },
   "source": [
    "!./do my_letters --set main.title \"Re-configured letterator\" --json rules '[[2, \"my_letters.triple_it\"]]'"
   ],
   "execution_count": 41,
   "outputs": []
  },
  {
   "cell_type": "markdown",
   "metadata": {},
   "source": [
    ".\n",
    "### EXAMPLE -- SETTING MULTIPLE PARAMETERS AT ONCE\n",
    "The --sets keyword can perform multiple simple assigments at once"
   ]
  },
  {
   "cell_type": "code",
   "metadata": {
    "ExecuteTime": {
     "end_time": "2024-05-09T02:52:34.168772Z",
     "start_time": "2024-05-09T02:52:33.740866Z"
    }
   },
   "source": [
    "!./do my_letters --sets main.title=Quickie,start=100,end=110"
   ],
   "execution_count": 42,
   "outputs": []
  },
  {
   "cell_type": "markdown",
   "source": [],
   "metadata": {
    "collapsed": false
   }
  },
  {
   "cell_type": "markdown",
   "source": [
    "# WRAPPING IT ALL UP - Templated Script Runs\n",
    "As a special case, if the string passed to 'do' loads a dict instead of a callable then:\n",
    "1. `dat_from_template` is called to create a fresh Dat based on this dict template.\n",
    "2. `main.path` is expanded to get the name (path) for this dat.\n",
    "3. Args and kwargs passed to `do` are added to `main.args` and `main.kwargs` in the\n",
    "   newly created Dat.\n",
    "3. Finally, any fn associated with `main.do` is called to perform the actual work of\n",
    "   this Dat.  Results from this run are stored in _results_.json\n"
   ],
   "metadata": {
    "collapsed": false
   }
  },
  {
   "cell_type": "code",
   "source": [],
   "metadata": {
    "collapsed": false,
    "ExecuteTime": {
     "end_time": "2024-05-09T02:52:34.502925Z",
     "start_time": "2024-05-09T02:52:34.501324Z"
    }
   },
   "execution_count": 42,
   "outputs": []
  },
  {
   "metadata": {
    "ExecuteTime": {
     "end_time": "2024-05-09T02:52:34.830823Z",
     "start_time": "2024-05-09T02:52:34.829134Z"
    }
   },
   "cell_type": "code",
   "source": "",
   "execution_count": 42,
   "outputs": []
  },
  {
   "metadata": {},
   "cell_type": "code",
   "execution_count": null,
   "source": "",
   "outputs": []
  }
 ],
 "metadata": {
  "kernelspec": {
   "display_name": "Python 3 (ipykernel)",
   "language": "python",
   "name": "python3"
  },
  "language_info": {
   "codemirror_mode": {
    "name": "ipython",
    "version": 3
   },
   "file_extension": ".py",
   "mimetype": "text/x-python",
   "name": "python",
   "nbconvert_exporter": "python",
   "pygments_lexer": "ipython3",
   "version": "3.12.0"
  }
 },
 "nbformat": 4,
 "nbformat_minor": 4
}
