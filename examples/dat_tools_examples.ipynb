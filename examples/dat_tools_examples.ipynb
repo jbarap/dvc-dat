{
 "cells": [
  {
   "cell_type": "code",
   "execution_count": 4,
   "metadata": {
    "ExecuteTime": {
     "end_time": "2024-04-13T17:26:53.136170Z",
     "start_time": "2024-04-13T17:26:53.128764Z"
    }
   },
   "outputs": [
    {
     "name": "stdout",
     "output_type": "stream",
     "text": [
      "### INSERTION FOLDER        = '/Users/oblinger/ob/proj/ml-dat/examples/example_do_folder/hello/do_examples'\n",
      "### DO FOLDER (in Jupyter)  = /Users/oblinger/ob/proj/ml-dat/examples/example_do_folder\n",
      "## DO FOLDER (in do module) = '/Users/oblinger/ob/proj/ml-dat/examples/example_do_folder'\n",
      "\n",
      "\n",
      "\n",
      "\n",
      "\n"
     ]
    }
   ],
   "source": [
    "import os\n",
    "import sys\n",
    "sys.path.append(os.path.dirname(os.path.dirname(os.getcwd())))\n",
    "\n",
    "# setup stuff.  The cell just supports the workbook, you can ignore it\n",
    "\n",
    "EXAMPLE_DO_FOLDER = os.path.join(os.getcwd(), \"example_do_folder\")\n",
    "INSERTION_FOLDER = os.path.join(EXAMPLE_DO_FOLDER, \"hello/do_examples\")\n",
    "\n",
    "def show_loadable(at):\n",
    "    with open(os.path.join(INSERTION_FOLDER, at)) as file:\n",
    "        contents = file.read()\n",
    "    with_bar = \"\\n  | \".join(contents.split(\"\\n\"))\n",
    "    print(F\"\\n### SHOWING MODULE {'.../'+at!r}\\n  | {with_bar}\\n\\n\")\n",
    "\n",
    "def run_do(*args, **kwargs):\n",
    "    parts = [repr(x) for x in args] + [F\"{k}={v!r}\" for k, v in kwargs.items()]\n",
    "    print(F\"do({', '.join(parts)})\")\n",
    "    result = do(*args, **kwargs)\n",
    "    print(F\"--> {result!r}\")\n",
    "    print()\n",
    "\n",
    "\n",
    "print(F\"### INSERTION FOLDER        = {INSERTION_FOLDER!r}\")\n",
    "print(F\"### DO FOLDER (in Jupyter)  = {EXAMPLE_DO_FOLDER}\")\n",
    "sys.path.append(os.path.dirname(os.path.dirname(EXAMPLE_DO_FOLDER)))\n",
    "from ml_dat import do, DoManager, dat_config   # Add all loadables BEFORE loading this module\n",
    "do.set_do_folder(dat_config.do_folder)\n",
    "print(F\"## DO FOLDER (in do module) = {do.do_folder!r}\")\n",
    "if EXAMPLE_DO_FOLDER != do.do_folder:\n",
    "    print(f\"WARNING: EXAMPLE_DO_FOLDER used by jupyter = {EXAMPLE_DO_FOLDER} does not match {do.do_folder}\")\n",
    "if not os.path.exists(INSERTION_FOLDER):\n",
    "    input(f\"WARNING: INSERTION_FOLDER {INSERTION_FOLDER!r} not found.\")\n",
    "    os.makedirs(INSERTION_FOLDER)\n",
    "print(\"\\n\\n\\n\\n\")\n",
    "\n",
    "\n"
   ]
  },
  {
   "cell_type": "markdown",
   "source": [
    "# Example Data"
   ],
   "metadata": {
    "collapsed": false
   }
  },
  {
   "cell_type": "markdown",
   "source": [
    "### Imports"
   ],
   "metadata": {
    "collapsed": false
   }
  },
  {
   "cell_type": "code",
   "execution_count": 9,
   "outputs": [],
   "source": [
    "from ml_dat import dat_tools as dt\n",
    "from ml_dat import Inst, do"
   ],
   "metadata": {
    "collapsed": false,
    "ExecuteTime": {
     "end_time": "2024-04-25T05:43:50.376781Z",
     "start_time": "2024-04-25T05:43:50.369261Z"
    }
   }
  },
  {
   "cell_type": "markdown",
   "metadata": {
    "collapsed": false,
    "jupyter": {
     "outputs_hidden": false
    }
   },
   "source": [
    "### Some Example Insts\n",
    "These Inst and point_fns are used to build and show DataFrames.\n"
   ]
  },
  {
   "cell_type": "code",
   "execution_count": 11,
   "outputs": [],
   "source": [
    "TMP_PATH1 = \"/tmp/job_test1\"\n",
    "spec1 = {\"main\": {\"my_key1\": \"my_val1\", \"my_key2\": \"my_val2\"}}\n",
    "inst1 = Inst(spec=spec1, path=TMP_PATH1)\n",
    "\n",
    "TMP_PATH2 = \"/tmp/job_test2\"\n",
    "spec2 = {\"main\": {\"my_key1\": \"my_val1\", \"my_key2\": \"my_val2\"}, \"other\": \"key_value\"}\n",
    "inst2 = Inst(spec=spec2, path=TMP_PATH2)\n"
   ],
   "metadata": {
    "collapsed": false,
    "ExecuteTime": {
     "end_time": "2024-04-25T05:44:57.034287Z",
     "start_time": "2024-04-25T05:44:57.025307Z"
    }
   }
  },
  {
   "cell_type": "markdown",
   "source": [
    "### Some example point fns"
   ],
   "metadata": {
    "collapsed": false
   }
  },
  {
   "cell_type": "code",
   "execution_count": 12,
   "outputs": [],
   "source": [
    "def always_17(_inst):\n",
    "    return 17\n",
    "\n",
    "\n",
    "def always_18(_inst):\n",
    "    return 18\n"
   ],
   "metadata": {
    "collapsed": false,
    "ExecuteTime": {
     "end_time": "2024-04-25T05:44:59.605494Z",
     "start_time": "2024-04-25T05:44:59.600826Z"
    }
   }
  },
  {
   "cell_type": "markdown",
   "source": [
    ".\n",
    "\n",
    "## Creating DataFrames from Insts and point_fns"
   ],
   "metadata": {
    "collapsed": false
   }
  },
  {
   "cell_type": "markdown",
   "source": [
    "#### No point_fns applied to no Insts yields an empty DataFrame"
   ],
   "metadata": {
    "collapsed": false
   }
  },
  {
   "cell_type": "code",
   "execution_count": 13,
   "outputs": [
    {
     "data": {
      "text/plain": "Empty DataFrame\nColumns: []\nIndex: []",
      "text/html": "<div>\n<style scoped>\n    .dataframe tbody tr th:only-of-type {\n        vertical-align: middle;\n    }\n\n    .dataframe tbody tr th {\n        vertical-align: top;\n    }\n\n    .dataframe thead th {\n        text-align: right;\n    }\n</style>\n<table border=\"1\" class=\"dataframe\">\n  <thead>\n    <tr style=\"text-align: right;\">\n      <th></th>\n    </tr>\n  </thead>\n  <tbody>\n  </tbody>\n</table>\n</div>"
     },
     "execution_count": 13,
     "metadata": {},
     "output_type": "execute_result"
    }
   ],
   "source": [
    "dt.from_inst([], [])  # Empty lists return empty DataFrames"
   ],
   "metadata": {
    "collapsed": false,
    "ExecuteTime": {
     "end_time": "2024-04-25T05:45:03.830733Z",
     "start_time": "2024-04-25T05:45:03.819424Z"
    }
   }
  },
  {
   "cell_type": "markdown",
   "source": [
    "#### 2 point_fns applied to 2 insts yields a DataFrame w/ 2 rows & 2 cols"
   ],
   "metadata": {
    "collapsed": false
   }
  },
  {
   "cell_type": "code",
   "execution_count": 16,
   "outputs": [
    {
     "data": {
      "text/plain": "   always_17  always_18       list\n0         17         18  job_test1\n1         17         18  job_test2",
      "text/html": "<div>\n<style scoped>\n    .dataframe tbody tr th:only-of-type {\n        vertical-align: middle;\n    }\n\n    .dataframe tbody tr th {\n        vertical-align: top;\n    }\n\n    .dataframe thead th {\n        text-align: right;\n    }\n</style>\n<table border=\"1\" class=\"dataframe\">\n  <thead>\n    <tr style=\"text-align: right;\">\n      <th></th>\n      <th>always_17</th>\n      <th>always_18</th>\n      <th>list</th>\n    </tr>\n  </thead>\n  <tbody>\n    <tr>\n      <th>0</th>\n      <td>17</td>\n      <td>18</td>\n      <td>job_test1</td>\n    </tr>\n    <tr>\n      <th>1</th>\n      <td>17</td>\n      <td>18</td>\n      <td>job_test2</td>\n    </tr>\n  </tbody>\n</table>\n</div>"
     },
     "execution_count": 16,
     "metadata": {},
     "output_type": "execute_result"
    }
   ],
   "source": [
    "dt.from_inst([inst1, inst2], [always_17, always_18])"
   ],
   "metadata": {
    "collapsed": false,
    "ExecuteTime": {
     "end_time": "2024-04-25T05:46:36.371022Z",
     "start_time": "2024-04-25T05:46:36.367751Z"
    }
   }
  },
  {
   "cell_type": "code",
   "execution_count": null,
   "outputs": [],
   "source": [],
   "metadata": {
    "collapsed": false
   }
  }
 ],
 "metadata": {
  "kernelspec": {
   "display_name": "Python 3 (ipykernel)",
   "language": "python",
   "name": "python3"
  },
  "language_info": {
   "codemirror_mode": {
    "name": "ipython",
    "version": 3
   },
   "file_extension": ".py",
   "mimetype": "text/x-python",
   "name": "python",
   "nbconvert_exporter": "python",
   "pygments_lexer": "ipython3",
   "version": "3.12.0"
  }
 },
 "nbformat": 4,
 "nbformat_minor": 4
}
