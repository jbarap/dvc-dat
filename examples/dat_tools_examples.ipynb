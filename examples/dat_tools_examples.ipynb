{
 "cells": [
  {
   "cell_type": "code",
   "execution_count": 3,
   "metadata": {
    "ExecuteTime": {
     "end_time": "2024-04-26T02:26:05.349318Z",
     "start_time": "2024-04-26T02:26:04.799975Z"
    }
   },
   "outputs": [
    {
     "name": "stdout",
     "output_type": "stream",
     "text": [
      "### INSERTION FOLDER        = '/Users/oblinger/ob/proj/ml-dat/examples/example_do_folder/hello/do_examples'\n",
      "### DO FOLDER (in Jupyter)  = /Users/oblinger/ob/proj/ml-dat/examples/example_do_folder\n",
      "## DO FOLDER (in do module) = '/Users/oblinger/ob/proj/ml-dat/examples/example_do_folder'\n",
      "\n",
      "\n",
      "\n",
      "\n",
      "\n"
     ]
    }
   ],
   "source": [
    "import os\n",
    "import sys\n",
    "sys.path.append(os.path.dirname(os.path.dirname(os.getcwd())))\n",
    "\n",
    "# setup stuff.  The cell just supports the workbook, you can ignore it\n",
    "\n",
    "EXAMPLE_DO_FOLDER = os.path.join(os.getcwd(), \"example_do_folder\")\n",
    "INSERTION_FOLDER = os.path.join(EXAMPLE_DO_FOLDER, \"hello/do_examples\")\n",
    "\n",
    "def show_loadable(at):\n",
    "    with open(os.path.join(INSERTION_FOLDER, at)) as file:\n",
    "        contents = file.read()\n",
    "    with_bar = \"\\n  | \".join(contents.split(\"\\n\"))\n",
    "    print(F\"\\n### SHOWING MODULE {'.../'+at!r}\\n  | {with_bar}\\n\\n\")\n",
    "\n",
    "def run_do(*args, **kwargs):\n",
    "    parts = [repr(x) for x in args] + [F\"{k}={v!r}\" for k, v in kwargs.items()]\n",
    "    print(F\"do({', '.join(parts)})\")\n",
    "    result = do(*args, **kwargs)\n",
    "    print(F\"--> {result!r}\")\n",
    "    print()\n",
    "\n",
    "\n",
    "print(F\"### INSERTION FOLDER        = {INSERTION_FOLDER!r}\")\n",
    "print(F\"### DO FOLDER (in Jupyter)  = {EXAMPLE_DO_FOLDER}\")\n",
    "sys.path.append(os.path.dirname(os.path.dirname(EXAMPLE_DO_FOLDER)))\n",
    "from ml_dat import do, DoManager, dat_config   # Add all loadables BEFORE loading this module\n",
    "do.set_do_folder(dat_config.do_folder)\n",
    "print(F\"## DO FOLDER (in do module) = {do.do_folder!r}\")\n",
    "if EXAMPLE_DO_FOLDER != do.do_folder:\n",
    "    print(f\"WARNING: EXAMPLE_DO_FOLDER used by jupyter = {EXAMPLE_DO_FOLDER} does not match {do.do_folder}\")\n",
    "if not os.path.exists(INSERTION_FOLDER):\n",
    "    input(f\"WARNING: INSERTION_FOLDER {INSERTION_FOLDER!r} not found.\")\n",
    "    os.makedirs(INSERTION_FOLDER)\n",
    "print(\"\\n\\n\\n\\n\")\n",
    "\n",
    "\n"
   ]
  },
  {
   "cell_type": "markdown",
   "source": [
    "# Example Data"
   ],
   "metadata": {
    "collapsed": false
   }
  },
  {
   "cell_type": "markdown",
   "source": [
    "### Imports"
   ],
   "metadata": {
    "collapsed": false
   }
  },
  {
   "cell_type": "code",
   "execution_count": 4,
   "outputs": [],
   "source": [
    "from ml_dat import dat_tools as dt\n",
    "from ml_dat import Inst, do"
   ],
   "metadata": {
    "collapsed": false,
    "ExecuteTime": {
     "end_time": "2024-04-26T02:26:07.338101Z",
     "start_time": "2024-04-26T02:26:07.327072Z"
    }
   }
  },
  {
   "cell_type": "markdown",
   "metadata": {
    "collapsed": false,
    "jupyter": {
     "outputs_hidden": false
    }
   },
   "source": [
    "### Some Example Insts\n",
    "These Inst and point_fns are used to build and show DataFrames.\n"
   ]
  },
  {
   "cell_type": "code",
   "execution_count": 5,
   "outputs": [],
   "source": [
    "TMP_PATH1 = \"/tmp/job_test1\"\n",
    "spec1 = {\"main\": {\"my_key1\": \"my_val1\", \"my_key2\": \"my_val2\"}}\n",
    "inst1 = Inst(spec=spec1, path=TMP_PATH1)\n",
    "\n",
    "TMP_PATH2 = \"/tmp/job_test2\"\n",
    "spec2 = {\"main\": {\"my_key1\": \"my_val1\", \"my_key2\": \"my_val2\"}, \"other\": \"key_value\"}\n",
    "inst2 = Inst(spec=spec2, path=TMP_PATH2)\n"
   ],
   "metadata": {
    "collapsed": false,
    "ExecuteTime": {
     "end_time": "2024-04-26T02:26:08.445965Z",
     "start_time": "2024-04-26T02:26:08.440804Z"
    }
   }
  },
  {
   "cell_type": "markdown",
   "source": [
    "### Some example point fns"
   ],
   "metadata": {
    "collapsed": false
   }
  },
  {
   "cell_type": "code",
   "execution_count": 6,
   "outputs": [],
   "source": [
    "def always_17(_inst):\n",
    "    return 17\n",
    "\n",
    "\n",
    "def always_18(_inst):\n",
    "    return 18\n"
   ],
   "metadata": {
    "collapsed": false,
    "ExecuteTime": {
     "end_time": "2024-04-26T02:26:09.762587Z",
     "start_time": "2024-04-26T02:26:09.756993Z"
    }
   }
  },
  {
   "cell_type": "markdown",
   "source": [
    ".\n",
    "\n",
    "## Creating DataFrames from Insts and point_fns"
   ],
   "metadata": {
    "collapsed": false
   }
  },
  {
   "cell_type": "markdown",
   "source": [
    "#### Zero point_fns applied to zero Insts yields an empty DataFrame"
   ],
   "metadata": {
    "collapsed": false
   }
  },
  {
   "cell_type": "code",
   "execution_count": 7,
   "outputs": [
    {
     "data": {
      "text/plain": "Empty DataFrame\nColumns: []\nIndex: []",
      "text/html": "<div>\n<style scoped>\n    .dataframe tbody tr th:only-of-type {\n        vertical-align: middle;\n    }\n\n    .dataframe tbody tr th {\n        vertical-align: top;\n    }\n\n    .dataframe thead th {\n        text-align: right;\n    }\n</style>\n<table border=\"1\" class=\"dataframe\">\n  <thead>\n    <tr style=\"text-align: right;\">\n      <th></th>\n    </tr>\n  </thead>\n  <tbody>\n  </tbody>\n</table>\n</div>"
     },
     "execution_count": 7,
     "metadata": {},
     "output_type": "execute_result"
    }
   ],
   "source": [
    "dt.from_inst([], [])  # Empty lists return empty DataFrames"
   ],
   "metadata": {
    "collapsed": false,
    "ExecuteTime": {
     "end_time": "2024-04-26T02:26:12.349723Z",
     "start_time": "2024-04-26T02:26:12.339245Z"
    }
   }
  },
  {
   "cell_type": "markdown",
   "source": [
    "#### 2 metrics applied to 2 insts yields a DataFrame w/ 2 rows & 2 cols"
   ],
   "metadata": {
    "collapsed": false
   }
  },
  {
   "cell_type": "code",
   "execution_count": 8,
   "outputs": [
    {
     "data": {
      "text/plain": "   always_17  always_18       list\n0         17         18  job_test1\n1         17         18  job_test2",
      "text/html": "<div>\n<style scoped>\n    .dataframe tbody tr th:only-of-type {\n        vertical-align: middle;\n    }\n\n    .dataframe tbody tr th {\n        vertical-align: top;\n    }\n\n    .dataframe thead th {\n        text-align: right;\n    }\n</style>\n<table border=\"1\" class=\"dataframe\">\n  <thead>\n    <tr style=\"text-align: right;\">\n      <th></th>\n      <th>always_17</th>\n      <th>always_18</th>\n      <th>list</th>\n    </tr>\n  </thead>\n  <tbody>\n    <tr>\n      <th>0</th>\n      <td>17</td>\n      <td>18</td>\n      <td>job_test1</td>\n    </tr>\n    <tr>\n      <th>1</th>\n      <td>17</td>\n      <td>18</td>\n      <td>job_test2</td>\n    </tr>\n  </tbody>\n</table>\n</div>"
     },
     "execution_count": 8,
     "metadata": {},
     "output_type": "execute_result"
    }
   ],
   "source": [
    "def always_17(_inst):\n",
    "    return 17\n",
    "\n",
    "\n",
    "def always_18(_inst):\n",
    "    return 18\n",
    "\n",
    "dt.from_inst([inst1, inst2], [always_17, always_18])"
   ],
   "metadata": {
    "collapsed": false,
    "ExecuteTime": {
     "end_time": "2024-04-26T02:26:14.092649Z",
     "start_time": "2024-04-26T02:26:14.090563Z"
    }
   }
  },
  {
   "cell_type": "markdown",
   "source": [
    "#### Metric functions can also be expressed as string and loaded using 'do'"
   ],
   "metadata": {
    "collapsed": false
   }
  },
  {
   "cell_type": "code",
   "execution_count": 12,
   "outputs": [
    {
     "data": {
      "text/plain": "   always_5       list\n0         5  job_test1",
      "text/html": "<div>\n<style scoped>\n    .dataframe tbody tr th:only-of-type {\n        vertical-align: middle;\n    }\n\n    .dataframe tbody tr th {\n        vertical-align: top;\n    }\n\n    .dataframe thead th {\n        text-align: right;\n    }\n</style>\n<table border=\"1\" class=\"dataframe\">\n  <thead>\n    <tr style=\"text-align: right;\">\n      <th></th>\n      <th>always_5</th>\n      <th>list</th>\n    </tr>\n  </thead>\n  <tbody>\n    <tr>\n      <th>0</th>\n      <td>5</td>\n      <td>job_test1</td>\n    </tr>\n  </tbody>\n</table>\n</div>"
     },
     "execution_count": 12,
     "metadata": {},
     "output_type": "execute_result"
    }
   ],
   "source": [
    "do.register_module(\"registered_cube\",\n",
    "                           \"example_do_folder.df_tools_examples.cube_hello\",\n",
    "                   allow_redefine=True)\n",
    "dt.from_inst([inst1], [\"registered_cube.always_5\"])"
   ],
   "metadata": {
    "collapsed": false,
    "ExecuteTime": {
     "end_time": "2024-04-26T02:39:17.482371Z",
     "start_time": "2024-04-26T02:39:17.476816Z"
    }
   }
  },
  {
   "cell_type": "markdown",
   "source": [
    "#### Multi-valued Metric Functions\n",
    "Metric functions (also called point_fns) can return a dict of metric values instead of just returning a single value."
   ],
   "metadata": {
    "collapsed": false
   }
  },
  {
   "cell_type": "code",
   "execution_count": 15,
   "outputs": [
    {
     "data": {
      "text/plain": "   always_17  val1  val2       list\n0         17   111  2222  job_test1\n1         17   111  2222  job_test2",
      "text/html": "<div>\n<style scoped>\n    .dataframe tbody tr th:only-of-type {\n        vertical-align: middle;\n    }\n\n    .dataframe tbody tr th {\n        vertical-align: top;\n    }\n\n    .dataframe thead th {\n        text-align: right;\n    }\n</style>\n<table border=\"1\" class=\"dataframe\">\n  <thead>\n    <tr style=\"text-align: right;\">\n      <th></th>\n      <th>always_17</th>\n      <th>val1</th>\n      <th>val2</th>\n      <th>list</th>\n    </tr>\n  </thead>\n  <tbody>\n    <tr>\n      <th>0</th>\n      <td>17</td>\n      <td>111</td>\n      <td>2222</td>\n      <td>job_test1</td>\n    </tr>\n    <tr>\n      <th>1</th>\n      <td>17</td>\n      <td>111</td>\n      <td>2222</td>\n      <td>job_test2</td>\n    </tr>\n  </tbody>\n</table>\n</div>"
     },
     "execution_count": 15,
     "metadata": {},
     "output_type": "execute_result"
    }
   ],
   "source": [
    "fns = [always_17, lambda inst: {\"val1\": 111, \"val2\": 2222}]\n",
    "dt.from_inst([inst1, inst2], point_fns=fns)"
   ],
   "metadata": {
    "collapsed": false,
    "ExecuteTime": {
     "end_time": "2024-04-26T02:44:14.939596Z",
     "start_time": "2024-04-26T02:44:14.933031Z"
    }
   }
  },
  {
   "cell_type": "markdown",
   "source": [
    "#### Multi-POINT Metric Functions\n",
    "Finally, a point_fn can return a LIST of dicts, each dict represents a row in the DataFrame.  In all cases all point_fns are applied to all insts, and the return values are appended to the DataFrame.  These different kinds of point functions can be combined so scalar values and dict values are all merged into a single row for each inst, and lists of dicts are expanded into multiple rows."
   ],
   "metadata": {
    "collapsed": false
   }
  },
  {
   "cell_type": "code",
   "execution_count": 16,
   "outputs": [
    {
     "data": {
      "text/plain": "   val1  val2       list  val3  always_17  always_18\n0   1.0   2.0  job_test1   NaN        NaN        NaN\n1   NaN   NaN  job_test1   3.0        NaN        NaN\n2   NaN   NaN  job_test1   NaN       17.0       18.0",
      "text/html": "<div>\n<style scoped>\n    .dataframe tbody tr th:only-of-type {\n        vertical-align: middle;\n    }\n\n    .dataframe tbody tr th {\n        vertical-align: top;\n    }\n\n    .dataframe thead th {\n        text-align: right;\n    }\n</style>\n<table border=\"1\" class=\"dataframe\">\n  <thead>\n    <tr style=\"text-align: right;\">\n      <th></th>\n      <th>val1</th>\n      <th>val2</th>\n      <th>list</th>\n      <th>val3</th>\n      <th>always_17</th>\n      <th>always_18</th>\n    </tr>\n  </thead>\n  <tbody>\n    <tr>\n      <th>0</th>\n      <td>1.0</td>\n      <td>2.0</td>\n      <td>job_test1</td>\n      <td>NaN</td>\n      <td>NaN</td>\n      <td>NaN</td>\n    </tr>\n    <tr>\n      <th>1</th>\n      <td>NaN</td>\n      <td>NaN</td>\n      <td>job_test1</td>\n      <td>3.0</td>\n      <td>NaN</td>\n      <td>NaN</td>\n    </tr>\n    <tr>\n      <th>2</th>\n      <td>NaN</td>\n      <td>NaN</td>\n      <td>job_test1</td>\n      <td>NaN</td>\n      <td>17.0</td>\n      <td>18.0</td>\n    </tr>\n  </tbody>\n</table>\n</div>"
     },
     "execution_count": 16,
     "metadata": {},
     "output_type": "execute_result"
    }
   ],
   "source": [
    "point_fns = [always_17, always_18, lambda inst: [{\"val1\": 1, \"val2\": 2}, {\"val3\": 3}]]\n",
    "dt.from_inst([inst1], point_fns)"
   ],
   "metadata": {
    "collapsed": false,
    "ExecuteTime": {
     "end_time": "2024-04-26T02:49:41.029955Z",
     "start_time": "2024-04-26T02:49:41.023349Z"
    }
   }
  },
  {
   "cell_type": "markdown",
   "source": [
    "Above you can see that the results of the always_17 and always_18 functions were merged into an single row as before, and the lambda returned to more data points express as two additional rows in the DataFrame."
   ],
   "metadata": {
    "collapsed": false
   }
  },
  {
   "cell_type": "markdown",
   "source": [
    "# Excel Output\n"
   ],
   "metadata": {
    "collapsed": false
   }
  }
 ],
 "metadata": {
  "kernelspec": {
   "display_name": "Python 3 (ipykernel)",
   "language": "python",
   "name": "python3"
  },
  "language_info": {
   "codemirror_mode": {
    "name": "ipython",
    "version": 3
   },
   "file_extension": ".py",
   "mimetype": "text/x-python",
   "name": "python",
   "nbconvert_exporter": "python",
   "pygments_lexer": "ipython3",
   "version": "3.12.0"
  }
 },
 "nbformat": 4,
 "nbformat_minor": 4
}
