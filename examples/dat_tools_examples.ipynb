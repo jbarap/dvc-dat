{
 "cells": [
  {
   "cell_type": "code",
   "execution_count": 1,
   "metadata": {
    "ExecuteTime": {
     "end_time": "2024-04-28T18:38:12.958197Z",
     "start_time": "2024-04-28T18:38:12.629430Z"
    }
   },
   "outputs": [
    {
     "name": "stdout",
     "output_type": "stream",
     "text": [
      "### INSERTION FOLDER        = '/Users/oblinger/ob/proj/ml-dat/examples/example_do_folder/hello/do_examples'\n",
      "### DO FOLDER (in Jupyter)  = /Users/oblinger/ob/proj/ml-dat/examples/example_do_folder\n",
      "## DO FOLDER (in do module) = '/Users/oblinger/ob/proj/ml-dat/examples/example_do_folder'\n",
      "\n",
      "\n",
      "\n",
      "\n",
      "\n"
     ]
    }
   ],
   "source": [
    "import os\n",
    "import sys\n",
    "import json\n",
    "sys.path.append(os.path.dirname(os.path.dirname(os.getcwd())))\n",
    "\n",
    "# setup stuff.  The cell just supports the workbook, you can ignore it\n",
    "\n",
    "EXAMPLE_DO_FOLDER = os.path.join(os.getcwd(), \"example_do_folder\")\n",
    "INSERTION_FOLDER = os.path.join(EXAMPLE_DO_FOLDER, \"hello/do_examples\")\n",
    "\n",
    "def show_loadable(at):\n",
    "    with open(os.path.join(INSERTION_FOLDER, at)) as file:\n",
    "        contents = file.read()\n",
    "    with_bar = \"\\n  | \".join(contents.split(\"\\n\"))\n",
    "    print(F\"\\n### SHOWING MODULE {'.../'+at!r}\\n  | {with_bar}\\n\\n\")\n",
    "\n",
    "def show(base):\n",
    "    with open(do.get_base_object(base).__file__) as file:\n",
    "        contents = file.read()\n",
    "    with_bar = \"\\n  | \".join(contents.split(\"\\n\"))\n",
    "    print(F\"\\n### SHOWING MODULE {'.../'+base+'.py'!r}\\n  | {with_bar}\\n\\n\")\n",
    "\n",
    "def run_do(*args, **kwargs):\n",
    "    parts = [repr(x) for x in args] + [F\"{k}={v!r}\" for k, v in kwargs.items()]\n",
    "    print(F\"do({', '.join(parts)})\")\n",
    "    result = do(*args, **kwargs)\n",
    "    print(F\"--> {result!r}\")\n",
    "    print()\n",
    "\n",
    "\n",
    "print(F\"### INSERTION FOLDER        = {INSERTION_FOLDER!r}\")\n",
    "print(F\"### DO FOLDER (in Jupyter)  = {EXAMPLE_DO_FOLDER}\")\n",
    "sys.path.append(os.path.dirname(os.path.dirname(EXAMPLE_DO_FOLDER)))\n",
    "from ml_dat import do, dat_config   # Add all loadables BEFORE loading this module\n",
    "# do.set_do_folder(dat_config.do_folder)\n",
    "print(F\"## DO FOLDER (in do module) = {do.do_folder!r}\")\n",
    "if EXAMPLE_DO_FOLDER != do.do_folder:\n",
    "    print(f\"WARNING: EXAMPLE_DO_FOLDER used by jupyter = {EXAMPLE_DO_FOLDER} does not match {do.do_folder}\")\n",
    "if not os.path.exists(INSERTION_FOLDER):\n",
    "    input(f\"WARNING: INSERTION_FOLDER {INSERTION_FOLDER!r} not found.\")\n",
    "    os.makedirs(INSERTION_FOLDER)\n",
    "print(\"\\n\\n\\n\\n\")\n"
   ]
  },
  {
   "cell_type": "markdown",
   "source": [
    "# Example Data"
   ],
   "metadata": {
    "collapsed": false
   }
  },
  {
   "cell_type": "markdown",
   "source": [
    "### Imports"
   ],
   "metadata": {
    "collapsed": false
   }
  },
  {
   "cell_type": "code",
   "execution_count": 2,
   "outputs": [],
   "source": [
    "from ml_dat import dat_tools as dt\n",
    "from ml_dat import Inst, do"
   ],
   "metadata": {
    "collapsed": false,
    "ExecuteTime": {
     "end_time": "2024-04-28T18:38:13.073564Z",
     "start_time": "2024-04-28T18:38:13.069706Z"
    }
   }
  },
  {
   "cell_type": "markdown",
   "metadata": {
    "collapsed": false,
    "jupyter": {
     "outputs_hidden": false
    }
   },
   "source": [
    "### Some Example Insts\n",
    "These Inst and point_fns are used to build and show DataFrames.\n"
   ]
  },
  {
   "cell_type": "code",
   "execution_count": 3,
   "outputs": [],
   "source": [
    "TMP_PATH1 = \"/tmp/job_test1\"\n",
    "spec1 = {\"main\": {\"my_key1\": \"my_val1\", \"my_key2\": \"my_val2\"}}\n",
    "inst1 = Inst(spec=spec1, path=TMP_PATH1)\n",
    "\n",
    "TMP_PATH2 = \"/tmp/job_test2\"\n",
    "spec2 = {\"main\": {\"my_key1\": \"my_val1\", \"my_key2\": \"my_val2\"}, \"other\": \"key_value\"}\n",
    "inst2 = Inst(spec=spec2, path=TMP_PATH2)\n"
   ],
   "metadata": {
    "collapsed": false,
    "ExecuteTime": {
     "end_time": "2024-04-28T18:38:13.353180Z",
     "start_time": "2024-04-28T18:38:13.349472Z"
    }
   }
  },
  {
   "cell_type": "markdown",
   "source": [
    ".\n",
    "\n",
    ".\n",
    "\n",
    "## Creating DataFrames from Insts and point_fns"
   ],
   "metadata": {
    "collapsed": false
   }
  },
  {
   "cell_type": "markdown",
   "source": [
    "#### Zero point_fns applied to zero Insts yields an empty DataFrame"
   ],
   "metadata": {
    "collapsed": false
   }
  },
  {
   "cell_type": "code",
   "execution_count": 4,
   "outputs": [
    {
     "data": {
      "text/plain": "Empty DataFrame\nColumns: []\nIndex: []",
      "text/html": "<div>\n<style scoped>\n    .dataframe tbody tr th:only-of-type {\n        vertical-align: middle;\n    }\n\n    .dataframe tbody tr th {\n        vertical-align: top;\n    }\n\n    .dataframe thead th {\n        text-align: right;\n    }\n</style>\n<table border=\"1\" class=\"dataframe\">\n  <thead>\n    <tr style=\"text-align: right;\">\n      <th></th>\n    </tr>\n  </thead>\n  <tbody>\n  </tbody>\n</table>\n</div>"
     },
     "execution_count": 4,
     "metadata": {},
     "output_type": "execute_result"
    }
   ],
   "source": [
    "dt.from_inst([], [])  # Empty lists return empty DataFrames"
   ],
   "metadata": {
    "collapsed": false,
    "ExecuteTime": {
     "end_time": "2024-04-28T18:38:13.818595Z",
     "start_time": "2024-04-28T18:38:13.814241Z"
    }
   }
  },
  {
   "cell_type": "markdown",
   "source": [
    "#### 2 metrics applied to 2 insts yields a DataFrame w/ 2 rows & 2 cols"
   ],
   "metadata": {
    "collapsed": false
   }
  },
  {
   "cell_type": "code",
   "execution_count": 5,
   "outputs": [
    {
     "data": {
      "text/plain": "   always_17  always_18       list\n0         17         18  job_test1\n1         17         18  job_test2",
      "text/html": "<div>\n<style scoped>\n    .dataframe tbody tr th:only-of-type {\n        vertical-align: middle;\n    }\n\n    .dataframe tbody tr th {\n        vertical-align: top;\n    }\n\n    .dataframe thead th {\n        text-align: right;\n    }\n</style>\n<table border=\"1\" class=\"dataframe\">\n  <thead>\n    <tr style=\"text-align: right;\">\n      <th></th>\n      <th>always_17</th>\n      <th>always_18</th>\n      <th>list</th>\n    </tr>\n  </thead>\n  <tbody>\n    <tr>\n      <th>0</th>\n      <td>17</td>\n      <td>18</td>\n      <td>job_test1</td>\n    </tr>\n    <tr>\n      <th>1</th>\n      <td>17</td>\n      <td>18</td>\n      <td>job_test2</td>\n    </tr>\n  </tbody>\n</table>\n</div>"
     },
     "execution_count": 5,
     "metadata": {},
     "output_type": "execute_result"
    }
   ],
   "source": [
    "def always_17(_inst):\n",
    "    return 17\n",
    "\n",
    "\n",
    "def always_18(_inst):\n",
    "    return 18\n",
    "\n",
    "dt.from_inst([inst1, inst2], [always_17, always_18])"
   ],
   "metadata": {
    "collapsed": false,
    "ExecuteTime": {
     "end_time": "2024-04-28T18:38:14.162108Z",
     "start_time": "2024-04-28T18:38:14.158299Z"
    }
   }
  },
  {
   "cell_type": "markdown",
   "source": [
    "#### Metric functions can also be expressed as string and loaded using 'do'"
   ],
   "metadata": {
    "collapsed": false
   }
  },
  {
   "cell_type": "code",
   "execution_count": 6,
   "outputs": [
    {
     "ename": "Exception",
     "evalue": "DO.LOAD: Could not import module 'example_do_folder.df_tools_examples.cube_hello'",
     "output_type": "error",
     "traceback": [
      "\u001B[0;31m---------------------------------------------------------------------------\u001B[0m",
      "\u001B[0;31mModuleNotFoundError\u001B[0m                       Traceback (most recent call last)",
      "File \u001B[0;32m~/ob/proj/ml-dat/ml_dat/do_fn.py:283\u001B[0m, in \u001B[0;36m_load_module\u001B[0;34m(base, module_spec)\u001B[0m\n\u001B[1;32m    282\u001B[0m \u001B[38;5;28;01mtry\u001B[39;00m:\n\u001B[0;32m--> 283\u001B[0m     \u001B[38;5;28;01mreturn\u001B[39;00m import_module(module_spec)\n\u001B[1;32m    284\u001B[0m \u001B[38;5;28;01mexcept\u001B[39;00m \u001B[38;5;167;01mModuleNotFoundError\u001B[39;00m:\n",
      "File \u001B[0;32m~/miniconda3/envs/latest/lib/python3.12/importlib/__init__.py:90\u001B[0m, in \u001B[0;36mimport_module\u001B[0;34m(name, package)\u001B[0m\n\u001B[1;32m     89\u001B[0m         level \u001B[38;5;241m+\u001B[39m\u001B[38;5;241m=\u001B[39m \u001B[38;5;241m1\u001B[39m\n\u001B[0;32m---> 90\u001B[0m \u001B[38;5;28;01mreturn\u001B[39;00m _bootstrap\u001B[38;5;241m.\u001B[39m_gcd_import(name[level:], package, level)\n",
      "File \u001B[0;32m<frozen importlib._bootstrap>:1381\u001B[0m, in \u001B[0;36m_gcd_import\u001B[0;34m(name, package, level)\u001B[0m\n",
      "File \u001B[0;32m<frozen importlib._bootstrap>:1354\u001B[0m, in \u001B[0;36m_find_and_load\u001B[0;34m(name, import_)\u001B[0m\n",
      "File \u001B[0;32m<frozen importlib._bootstrap>:1304\u001B[0m, in \u001B[0;36m_find_and_load_unlocked\u001B[0;34m(name, import_)\u001B[0m\n",
      "File \u001B[0;32m<frozen importlib._bootstrap>:488\u001B[0m, in \u001B[0;36m_call_with_frames_removed\u001B[0;34m(f, *args, **kwds)\u001B[0m\n",
      "File \u001B[0;32m<frozen importlib._bootstrap>:1381\u001B[0m, in \u001B[0;36m_gcd_import\u001B[0;34m(name, package, level)\u001B[0m\n",
      "File \u001B[0;32m<frozen importlib._bootstrap>:1354\u001B[0m, in \u001B[0;36m_find_and_load\u001B[0;34m(name, import_)\u001B[0m\n",
      "File \u001B[0;32m<frozen importlib._bootstrap>:1318\u001B[0m, in \u001B[0;36m_find_and_load_unlocked\u001B[0;34m(name, import_)\u001B[0m\n",
      "\u001B[0;31mModuleNotFoundError\u001B[0m: No module named 'example_do_folder.df_tools_examples'",
      "\nDuring handling of the above exception, another exception occurred:\n",
      "\u001B[0;31mException\u001B[0m                                 Traceback (most recent call last)",
      "Cell \u001B[0;32mIn[6], line 4\u001B[0m\n\u001B[1;32m      1\u001B[0m do\u001B[38;5;241m.\u001B[39mregister_module(\u001B[38;5;124m\"\u001B[39m\u001B[38;5;124mregistered_cube\u001B[39m\u001B[38;5;124m\"\u001B[39m,\n\u001B[1;32m      2\u001B[0m                            \u001B[38;5;124m\"\u001B[39m\u001B[38;5;124mexample_do_folder.df_tools_examples.cube_hello\u001B[39m\u001B[38;5;124m\"\u001B[39m,\n\u001B[1;32m      3\u001B[0m                    allow_redefine\u001B[38;5;241m=\u001B[39m\u001B[38;5;28;01mTrue\u001B[39;00m)\n\u001B[0;32m----> 4\u001B[0m dt\u001B[38;5;241m.\u001B[39mfrom_inst([inst1], [\u001B[38;5;124m\"\u001B[39m\u001B[38;5;124mregistered_cube.always_5\u001B[39m\u001B[38;5;124m\"\u001B[39m])\n",
      "File \u001B[0;32m~/ob/proj/ml-dat/ml_dat/dat_tools.py:55\u001B[0m, in \u001B[0;36mfrom_inst\u001B[0;34m(source, point_fns)\u001B[0m\n\u001B[1;32m     52\u001B[0m \u001B[38;5;28;01mdef\u001B[39;00m \u001B[38;5;21mfrom_inst\u001B[39m(source: Union[Inst, \u001B[38;5;28mstr\u001B[39m, Iterable],\n\u001B[1;32m     53\u001B[0m               point_fns: Any) \u001B[38;5;241m-\u001B[39m\u001B[38;5;241m>\u001B[39m DataFrame:\n\u001B[1;32m     54\u001B[0m \u001B[38;5;250m    \u001B[39m\u001B[38;5;124;03m\"\"\"Creates a DataFrame from one or more Insts and a list of point_fns.\"\"\"\u001B[39;00m\n\u001B[0;32m---> 55\u001B[0m     cube \u001B[38;5;241m=\u001B[39m Cube(insts\u001B[38;5;241m=\u001B[39msource, point_fns\u001B[38;5;241m=\u001B[39mpoint_fns)\n\u001B[1;32m     56\u001B[0m     df \u001B[38;5;241m=\u001B[39m cube\u001B[38;5;241m.\u001B[39mget_df()\n\u001B[1;32m     57\u001B[0m     \u001B[38;5;28;01mreturn\u001B[39;00m df\n",
      "File \u001B[0;32m~/ob/proj/ml-dat/ml_dat/dat_tools.py:223\u001B[0m, in \u001B[0;36mCube.__init__\u001B[0;34m(self, points, insts, point_fns)\u001B[0m\n\u001B[1;32m    221\u001B[0m \u001B[38;5;28mself\u001B[39m\u001B[38;5;241m.\u001B[39mpoint_fns: List[Callable[[Inst], Any]] \u001B[38;5;241m=\u001B[39m []\n\u001B[1;32m    222\u001B[0m \u001B[38;5;28;01mfor\u001B[39;00m fn_spec \u001B[38;5;129;01min\u001B[39;00m point_fns \u001B[38;5;129;01mor\u001B[39;00m []:\n\u001B[0;32m--> 223\u001B[0m     fn \u001B[38;5;241m=\u001B[39m do\u001B[38;5;241m.\u001B[39mload(fn_spec) \u001B[38;5;28;01mif\u001B[39;00m \u001B[38;5;28misinstance\u001B[39m(fn_spec, \u001B[38;5;28mstr\u001B[39m) \u001B[38;5;28;01melse\u001B[39;00m fn_spec\n\u001B[1;32m    224\u001B[0m     \u001B[38;5;28mself\u001B[39m\u001B[38;5;241m.\u001B[39mpoint_fns\u001B[38;5;241m.\u001B[39mappend(fn)\n\u001B[1;32m    225\u001B[0m \u001B[38;5;28;01mif\u001B[39;00m insts:\n",
      "File \u001B[0;32m~/ob/proj/ml-dat/ml_dat/do_fn.py:220\u001B[0m, in \u001B[0;36mDoManager.load\u001B[0;34m(self, dotted_name, default, kind, context)\u001B[0m\n\u001B[1;32m    218\u001B[0m parts \u001B[38;5;241m=\u001B[39m dotted_name\u001B[38;5;241m.\u001B[39msplit(\u001B[38;5;124m\"\u001B[39m\u001B[38;5;124m.\u001B[39m\u001B[38;5;124m\"\u001B[39m)\n\u001B[1;32m    219\u001B[0m prefix \u001B[38;5;241m=\u001B[39m parts[\u001B[38;5;241m0\u001B[39m]\n\u001B[0;32m--> 220\u001B[0m obj \u001B[38;5;241m=\u001B[39m \u001B[38;5;28mself\u001B[39m\u001B[38;5;241m.\u001B[39mget_base(prefix, default\u001B[38;5;241m=\u001B[39m_DO_NULL \u001B[38;5;28;01mif\u001B[39;00m default \u001B[38;5;241m==\u001B[39m _DO_NULL \u001B[38;5;28;01melse\u001B[39;00m \u001B[38;5;28;01mNone\u001B[39;00m)\n\u001B[1;32m    221\u001B[0m \u001B[38;5;66;03m# obj = self.base_locations.get(prefix)\u001B[39;00m\n\u001B[1;32m    222\u001B[0m \u001B[38;5;66;03m# if isinstance(obj, str):\u001B[39;00m\n\u001B[1;32m    223\u001B[0m \u001B[38;5;66;03m#     self.base_locations[prefix] = obj = _load_base_entity(prefix, obj)\u001B[39;00m\n\u001B[0;32m   (...)\u001B[0m\n\u001B[1;32m    230\u001B[0m \u001B[38;5;66;03m# elif obj is None:\u001B[39;00m\n\u001B[1;32m    231\u001B[0m \u001B[38;5;66;03m#     return default\u001B[39;00m\n\u001B[1;32m    233\u001B[0m \u001B[38;5;28;01mif\u001B[39;00m obj \u001B[38;5;241m==\u001B[39m _DO_ERROR_FLAG:\n",
      "File \u001B[0;32m~/ob/proj/ml-dat/ml_dat/do_fn.py:166\u001B[0m, in \u001B[0;36mDoManager.get_base\u001B[0;34m(self, base, default)\u001B[0m\n\u001B[1;32m    164\u001B[0m     \u001B[38;5;28;01mreturn\u001B[39;00m \u001B[38;5;28mself\u001B[39m\u001B[38;5;241m.\u001B[39mbase_objects[base]\n\u001B[1;32m    165\u001B[0m \u001B[38;5;28;01melif\u001B[39;00m base \u001B[38;5;129;01min\u001B[39;00m \u001B[38;5;28mself\u001B[39m\u001B[38;5;241m.\u001B[39mbase_locations:\n\u001B[0;32m--> 166\u001B[0m     \u001B[38;5;28mself\u001B[39m\u001B[38;5;241m.\u001B[39mbase_objects[base] \u001B[38;5;241m=\u001B[39m _load_base_entity(base, \u001B[38;5;28mself\u001B[39m\u001B[38;5;241m.\u001B[39mbase_locations[base])\n\u001B[1;32m    167\u001B[0m     \u001B[38;5;28;01mreturn\u001B[39;00m \u001B[38;5;28mself\u001B[39m\u001B[38;5;241m.\u001B[39mbase_objects[base]\n\u001B[1;32m    168\u001B[0m \u001B[38;5;28;01melif\u001B[39;00m default \u001B[38;5;129;01mis\u001B[39;00m _DO_NULL:\n",
      "File \u001B[0;32m~/ob/proj/ml-dat/ml_dat/do_fn.py:266\u001B[0m, in \u001B[0;36m_load_base_entity\u001B[0;34m(base, source_spec)\u001B[0m\n\u001B[1;32m    264\u001B[0m ext \u001B[38;5;241m=\u001B[39m os\u001B[38;5;241m.\u001B[39mpath\u001B[38;5;241m.\u001B[39msplitext(source_spec)[\u001B[38;5;241m1\u001B[39m]\n\u001B[1;32m    265\u001B[0m \u001B[38;5;28;01mif\u001B[39;00m ext \u001B[38;5;241m==\u001B[39m \u001B[38;5;124m\"\u001B[39m\u001B[38;5;124m.py\u001B[39m\u001B[38;5;124m\"\u001B[39m \u001B[38;5;129;01mor\u001B[39;00m \u001B[38;5;124m\"\u001B[39m\u001B[38;5;124m/\u001B[39m\u001B[38;5;124m\"\u001B[39m \u001B[38;5;129;01mnot\u001B[39;00m \u001B[38;5;129;01min\u001B[39;00m source_spec:\n\u001B[0;32m--> 266\u001B[0m     \u001B[38;5;28;01mreturn\u001B[39;00m _load_module(base, source_spec)\n\u001B[1;32m    267\u001B[0m \u001B[38;5;28;01melif\u001B[39;00m ext \u001B[38;5;241m==\u001B[39m \u001B[38;5;124m\"\u001B[39m\u001B[38;5;124m.json\u001B[39m\u001B[38;5;124m\"\u001B[39m:    \u001B[38;5;66;03m# os.path.exists(name := F\"{path_base}.json\"):\u001B[39;00m\n\u001B[1;32m    268\u001B[0m     \u001B[38;5;28;01mwith\u001B[39;00m \u001B[38;5;28mopen\u001B[39m(source_spec, \u001B[38;5;124m'\u001B[39m\u001B[38;5;124mr\u001B[39m\u001B[38;5;124m'\u001B[39m) \u001B[38;5;28;01mas\u001B[39;00m f:\n",
      "File \u001B[0;32m~/ob/proj/ml-dat/ml_dat/do_fn.py:285\u001B[0m, in \u001B[0;36m_load_module\u001B[0;34m(base, module_spec)\u001B[0m\n\u001B[1;32m    283\u001B[0m         \u001B[38;5;28;01mreturn\u001B[39;00m import_module(module_spec)\n\u001B[1;32m    284\u001B[0m     \u001B[38;5;28;01mexcept\u001B[39;00m \u001B[38;5;167;01mModuleNotFoundError\u001B[39;00m:\n\u001B[0;32m--> 285\u001B[0m         \u001B[38;5;28;01mraise\u001B[39;00m \u001B[38;5;167;01mException\u001B[39;00m(\u001B[38;5;124mF\u001B[39m\u001B[38;5;124m\"\u001B[39m\u001B[38;5;124mDO.LOAD: Could not import module \u001B[39m\u001B[38;5;132;01m{\u001B[39;00mmodule_spec\u001B[38;5;132;01m!r}\u001B[39;00m\u001B[38;5;124m\"\u001B[39m)\n\u001B[1;32m    286\u001B[0m \u001B[38;5;28;01massert\u001B[39;00m \u001B[38;5;28misinstance\u001B[39m(module_spec, \u001B[38;5;28mobject\u001B[39m)\n\u001B[1;32m    287\u001B[0m \u001B[38;5;28;01mif\u001B[39;00m \u001B[38;5;129;01mnot\u001B[39;00m os\u001B[38;5;241m.\u001B[39mpath\u001B[38;5;241m.\u001B[39mexists(module_spec):\n",
      "\u001B[0;31mException\u001B[0m: DO.LOAD: Could not import module 'example_do_folder.df_tools_examples.cube_hello'"
     ]
    }
   ],
   "source": [
    "do.register_module(\"registered_cube\",\n",
    "                           \"example_do_folder.df_tools_examples.cube_hello\",\n",
    "                   allow_redefine=True)\n",
    "dt.from_inst([inst1], [\"registered_cube.always_5\"])"
   ],
   "metadata": {
    "collapsed": false,
    "ExecuteTime": {
     "end_time": "2024-04-28T18:38:14.775134Z",
     "start_time": "2024-04-28T18:38:14.478955Z"
    }
   }
  },
  {
   "cell_type": "markdown",
   "source": [
    "#### Multi-valued Metric Functions\n",
    "Metric functions (also called point_fns) can return a dict of metric values instead of just returning a single value."
   ],
   "metadata": {
    "collapsed": false
   }
  },
  {
   "cell_type": "code",
   "execution_count": 7,
   "outputs": [
    {
     "data": {
      "text/plain": "   always_17  val1  val2       list\n0         17   111  2222  job_test1\n1         17   111  2222  job_test2",
      "text/html": "<div>\n<style scoped>\n    .dataframe tbody tr th:only-of-type {\n        vertical-align: middle;\n    }\n\n    .dataframe tbody tr th {\n        vertical-align: top;\n    }\n\n    .dataframe thead th {\n        text-align: right;\n    }\n</style>\n<table border=\"1\" class=\"dataframe\">\n  <thead>\n    <tr style=\"text-align: right;\">\n      <th></th>\n      <th>always_17</th>\n      <th>val1</th>\n      <th>val2</th>\n      <th>list</th>\n    </tr>\n  </thead>\n  <tbody>\n    <tr>\n      <th>0</th>\n      <td>17</td>\n      <td>111</td>\n      <td>2222</td>\n      <td>job_test1</td>\n    </tr>\n    <tr>\n      <th>1</th>\n      <td>17</td>\n      <td>111</td>\n      <td>2222</td>\n      <td>job_test2</td>\n    </tr>\n  </tbody>\n</table>\n</div>"
     },
     "execution_count": 7,
     "metadata": {},
     "output_type": "execute_result"
    }
   ],
   "source": [
    "fns = [always_17, lambda inst: {\"val1\": 111, \"val2\": 2222}]\n",
    "dt.from_inst([inst1, inst2], point_fns=fns)"
   ],
   "metadata": {
    "collapsed": false,
    "ExecuteTime": {
     "end_time": "2024-04-28T18:38:14.963154Z",
     "start_time": "2024-04-28T18:38:14.959618Z"
    }
   }
  },
  {
   "cell_type": "markdown",
   "source": [
    "#### Multi-POINT Metric Functions\n",
    "Finally, a point_fn can return a LIST of dicts, each dict represents a row in the DataFrame.  In all cases all point_fns are applied to all insts, and the return values are appended to the DataFrame.  These different kinds of point functions can be combined so scalar values and dict values are all merged into a single row for each inst, and lists of dicts are expanded into multiple rows."
   ],
   "metadata": {
    "collapsed": false
   }
  },
  {
   "cell_type": "code",
   "execution_count": 8,
   "outputs": [
    {
     "data": {
      "text/plain": "   val1  val2       list  always_17  always_18\n0   1.0   2.0  job_test1        NaN        NaN\n1  11.0   NaN  job_test1        NaN        NaN\n2   NaN   NaN  job_test1       17.0       18.0",
      "text/html": "<div>\n<style scoped>\n    .dataframe tbody tr th:only-of-type {\n        vertical-align: middle;\n    }\n\n    .dataframe tbody tr th {\n        vertical-align: top;\n    }\n\n    .dataframe thead th {\n        text-align: right;\n    }\n</style>\n<table border=\"1\" class=\"dataframe\">\n  <thead>\n    <tr style=\"text-align: right;\">\n      <th></th>\n      <th>val1</th>\n      <th>val2</th>\n      <th>list</th>\n      <th>always_17</th>\n      <th>always_18</th>\n    </tr>\n  </thead>\n  <tbody>\n    <tr>\n      <th>0</th>\n      <td>1.0</td>\n      <td>2.0</td>\n      <td>job_test1</td>\n      <td>NaN</td>\n      <td>NaN</td>\n    </tr>\n    <tr>\n      <th>1</th>\n      <td>11.0</td>\n      <td>NaN</td>\n      <td>job_test1</td>\n      <td>NaN</td>\n      <td>NaN</td>\n    </tr>\n    <tr>\n      <th>2</th>\n      <td>NaN</td>\n      <td>NaN</td>\n      <td>job_test1</td>\n      <td>17.0</td>\n      <td>18.0</td>\n    </tr>\n  </tbody>\n</table>\n</div>"
     },
     "execution_count": 8,
     "metadata": {},
     "output_type": "execute_result"
    }
   ],
   "source": [
    "point_fns = [always_17, always_18, lambda inst: [{\"val1\": 1, \"val2\": 2}, {\"val1\": 11}]]\n",
    "dt.from_inst([inst1], point_fns)"
   ],
   "metadata": {
    "collapsed": false,
    "ExecuteTime": {
     "end_time": "2024-04-28T18:38:15.735378Z",
     "start_time": "2024-04-28T18:38:15.724773Z"
    }
   }
  },
  {
   "cell_type": "markdown",
   "source": [
    "Above you can see that the results of the always_17 and always_18 functions were merged into an single row as before, and the lambda returned to more data points express as two additional rows in the DataFrame."
   ],
   "metadata": {
    "collapsed": false
   }
  },
  {
   "cell_type": "markdown",
   "source": [
    "# OUTPUT TO EXCEL\n",
    "The 'to_excel' function writes the DataFrame to an Excel file.\n",
    "To test this we use the points_fn below 'load_points_json' it reads a list of data point from each inst by looking in the inst folder for a file named 'points.json'.  This is used to construct a large DataFrame from three Insts in the \"Retail Data\" InstContainer."
   ],
   "metadata": {
    "collapsed": false
   }
  },
  {
   "cell_type": "code",
   "execution_count": 9,
   "outputs": [],
   "source": [
    "def load_points_json(inst: Inst):\n",
    "    with open(f\"{inst.path}/points.json\") as f:\n",
    "        return json.load(f)\n"
   ],
   "metadata": {
    "collapsed": false,
    "ExecuteTime": {
     "end_time": "2024-04-28T18:38:16.664731Z",
     "start_time": "2024-04-28T18:38:16.650665Z"
    }
   }
  },
  {
   "cell_type": "code",
   "execution_count": 10,
   "outputs": [
    {
     "data": {
      "text/plain": "      Store     Month    Product      Metric  Value           list\n0   Store A   January  Product 1  Units Sold      8       Berkeley\n1   Store A   January  Product 1     Revenue     23       Berkeley\n2   Store A   January  Product 2  Units Sold     80       Berkeley\n3   Store A   January  Product 2     Revenue     88       Berkeley\n4   Store A  February  Product 1  Units Sold     76       Berkeley\n5   Store A  February  Product 1     Revenue     18       Berkeley\n6   Store A  February  Product 2  Units Sold     54       Berkeley\n7   Store A  February  Product 2     Revenue     98       Berkeley\n8   Store B   January  Product 1  Units Sold     51       Berkeley\n9   Store B   January  Product 1     Revenue     25       Berkeley\n10  Store B   January  Product 2  Units Sold     85       Berkeley\n11  Store B   January  Product 2     Revenue     31       Berkeley\n12  Store B  February  Product 1  Units Sold     95       Berkeley\n13  Store B  February  Product 1     Revenue     82       Berkeley\n14  Store B  February  Product 2  Units Sold     55       Berkeley\n15  Store B  February  Product 2     Revenue      4       Berkeley\n16  Store A   January  Product 1  Units Sold      8  San Francisco\n17  Store A   January  Product 1     Revenue     23  San Francisco\n18  Store A   January  Product 2  Units Sold     80  San Francisco\n19  Store A   January  Product 2     Revenue     88  San Francisco\n20  Store A  February  Product 1  Units Sold     76  San Francisco\n21  Store A  February  Product 1     Revenue     18  San Francisco\n22  Store A  February  Product 2  Units Sold     54  San Francisco\n23  Store A  February  Product 2     Revenue     98  San Francisco\n24  Store B   January  Product 1  Units Sold     51  San Francisco\n25  Store B   January  Product 1     Revenue     25  San Francisco\n26  Store B   January  Product 2  Units Sold     85  San Francisco\n27  Store B   January  Product 2     Revenue     31  San Francisco\n28  Store B  February  Product 1  Units Sold     95  San Francisco\n29  Store B  February  Product 1     Revenue     82  San Francisco\n30  Store B  February  Product 2  Units Sold     55  San Francisco\n31  Store B  February  Product 2     Revenue      4  San Francisco\n32  Store A   January  Product 1  Units Sold      8       San Jose\n33  Store A   January  Product 1     Revenue     23       San Jose\n34  Store A   January  Product 2  Units Sold     80       San Jose\n35  Store A   January  Product 2     Revenue     88       San Jose\n36  Store A  February  Product 1  Units Sold     76       San Jose\n37  Store A  February  Product 1     Revenue     18       San Jose\n38  Store A  February  Product 2  Units Sold     54       San Jose\n39  Store A  February  Product 2     Revenue     98       San Jose\n40  Store B   January  Product 1  Units Sold     51       San Jose\n41  Store B   January  Product 1     Revenue     25       San Jose\n42  Store B   January  Product 2  Units Sold     85       San Jose\n43  Store B   January  Product 2     Revenue     31       San Jose\n44  Store B  February  Product 1  Units Sold     95       San Jose\n45  Store B  February  Product 1     Revenue     82       San Jose\n46  Store B  February  Product 2  Units Sold     55       San Jose\n47  Store B  February  Product 2     Revenue      4       San Jose",
      "text/html": "<div>\n<style scoped>\n    .dataframe tbody tr th:only-of-type {\n        vertical-align: middle;\n    }\n\n    .dataframe tbody tr th {\n        vertical-align: top;\n    }\n\n    .dataframe thead th {\n        text-align: right;\n    }\n</style>\n<table border=\"1\" class=\"dataframe\">\n  <thead>\n    <tr style=\"text-align: right;\">\n      <th></th>\n      <th>Store</th>\n      <th>Month</th>\n      <th>Product</th>\n      <th>Metric</th>\n      <th>Value</th>\n      <th>list</th>\n    </tr>\n  </thead>\n  <tbody>\n    <tr>\n      <th>0</th>\n      <td>Store A</td>\n      <td>January</td>\n      <td>Product 1</td>\n      <td>Units Sold</td>\n      <td>8</td>\n      <td>Berkeley</td>\n    </tr>\n    <tr>\n      <th>1</th>\n      <td>Store A</td>\n      <td>January</td>\n      <td>Product 1</td>\n      <td>Revenue</td>\n      <td>23</td>\n      <td>Berkeley</td>\n    </tr>\n    <tr>\n      <th>2</th>\n      <td>Store A</td>\n      <td>January</td>\n      <td>Product 2</td>\n      <td>Units Sold</td>\n      <td>80</td>\n      <td>Berkeley</td>\n    </tr>\n    <tr>\n      <th>3</th>\n      <td>Store A</td>\n      <td>January</td>\n      <td>Product 2</td>\n      <td>Revenue</td>\n      <td>88</td>\n      <td>Berkeley</td>\n    </tr>\n    <tr>\n      <th>4</th>\n      <td>Store A</td>\n      <td>February</td>\n      <td>Product 1</td>\n      <td>Units Sold</td>\n      <td>76</td>\n      <td>Berkeley</td>\n    </tr>\n    <tr>\n      <th>5</th>\n      <td>Store A</td>\n      <td>February</td>\n      <td>Product 1</td>\n      <td>Revenue</td>\n      <td>18</td>\n      <td>Berkeley</td>\n    </tr>\n    <tr>\n      <th>6</th>\n      <td>Store A</td>\n      <td>February</td>\n      <td>Product 2</td>\n      <td>Units Sold</td>\n      <td>54</td>\n      <td>Berkeley</td>\n    </tr>\n    <tr>\n      <th>7</th>\n      <td>Store A</td>\n      <td>February</td>\n      <td>Product 2</td>\n      <td>Revenue</td>\n      <td>98</td>\n      <td>Berkeley</td>\n    </tr>\n    <tr>\n      <th>8</th>\n      <td>Store B</td>\n      <td>January</td>\n      <td>Product 1</td>\n      <td>Units Sold</td>\n      <td>51</td>\n      <td>Berkeley</td>\n    </tr>\n    <tr>\n      <th>9</th>\n      <td>Store B</td>\n      <td>January</td>\n      <td>Product 1</td>\n      <td>Revenue</td>\n      <td>25</td>\n      <td>Berkeley</td>\n    </tr>\n    <tr>\n      <th>10</th>\n      <td>Store B</td>\n      <td>January</td>\n      <td>Product 2</td>\n      <td>Units Sold</td>\n      <td>85</td>\n      <td>Berkeley</td>\n    </tr>\n    <tr>\n      <th>11</th>\n      <td>Store B</td>\n      <td>January</td>\n      <td>Product 2</td>\n      <td>Revenue</td>\n      <td>31</td>\n      <td>Berkeley</td>\n    </tr>\n    <tr>\n      <th>12</th>\n      <td>Store B</td>\n      <td>February</td>\n      <td>Product 1</td>\n      <td>Units Sold</td>\n      <td>95</td>\n      <td>Berkeley</td>\n    </tr>\n    <tr>\n      <th>13</th>\n      <td>Store B</td>\n      <td>February</td>\n      <td>Product 1</td>\n      <td>Revenue</td>\n      <td>82</td>\n      <td>Berkeley</td>\n    </tr>\n    <tr>\n      <th>14</th>\n      <td>Store B</td>\n      <td>February</td>\n      <td>Product 2</td>\n      <td>Units Sold</td>\n      <td>55</td>\n      <td>Berkeley</td>\n    </tr>\n    <tr>\n      <th>15</th>\n      <td>Store B</td>\n      <td>February</td>\n      <td>Product 2</td>\n      <td>Revenue</td>\n      <td>4</td>\n      <td>Berkeley</td>\n    </tr>\n    <tr>\n      <th>16</th>\n      <td>Store A</td>\n      <td>January</td>\n      <td>Product 1</td>\n      <td>Units Sold</td>\n      <td>8</td>\n      <td>San Francisco</td>\n    </tr>\n    <tr>\n      <th>17</th>\n      <td>Store A</td>\n      <td>January</td>\n      <td>Product 1</td>\n      <td>Revenue</td>\n      <td>23</td>\n      <td>San Francisco</td>\n    </tr>\n    <tr>\n      <th>18</th>\n      <td>Store A</td>\n      <td>January</td>\n      <td>Product 2</td>\n      <td>Units Sold</td>\n      <td>80</td>\n      <td>San Francisco</td>\n    </tr>\n    <tr>\n      <th>19</th>\n      <td>Store A</td>\n      <td>January</td>\n      <td>Product 2</td>\n      <td>Revenue</td>\n      <td>88</td>\n      <td>San Francisco</td>\n    </tr>\n    <tr>\n      <th>20</th>\n      <td>Store A</td>\n      <td>February</td>\n      <td>Product 1</td>\n      <td>Units Sold</td>\n      <td>76</td>\n      <td>San Francisco</td>\n    </tr>\n    <tr>\n      <th>21</th>\n      <td>Store A</td>\n      <td>February</td>\n      <td>Product 1</td>\n      <td>Revenue</td>\n      <td>18</td>\n      <td>San Francisco</td>\n    </tr>\n    <tr>\n      <th>22</th>\n      <td>Store A</td>\n      <td>February</td>\n      <td>Product 2</td>\n      <td>Units Sold</td>\n      <td>54</td>\n      <td>San Francisco</td>\n    </tr>\n    <tr>\n      <th>23</th>\n      <td>Store A</td>\n      <td>February</td>\n      <td>Product 2</td>\n      <td>Revenue</td>\n      <td>98</td>\n      <td>San Francisco</td>\n    </tr>\n    <tr>\n      <th>24</th>\n      <td>Store B</td>\n      <td>January</td>\n      <td>Product 1</td>\n      <td>Units Sold</td>\n      <td>51</td>\n      <td>San Francisco</td>\n    </tr>\n    <tr>\n      <th>25</th>\n      <td>Store B</td>\n      <td>January</td>\n      <td>Product 1</td>\n      <td>Revenue</td>\n      <td>25</td>\n      <td>San Francisco</td>\n    </tr>\n    <tr>\n      <th>26</th>\n      <td>Store B</td>\n      <td>January</td>\n      <td>Product 2</td>\n      <td>Units Sold</td>\n      <td>85</td>\n      <td>San Francisco</td>\n    </tr>\n    <tr>\n      <th>27</th>\n      <td>Store B</td>\n      <td>January</td>\n      <td>Product 2</td>\n      <td>Revenue</td>\n      <td>31</td>\n      <td>San Francisco</td>\n    </tr>\n    <tr>\n      <th>28</th>\n      <td>Store B</td>\n      <td>February</td>\n      <td>Product 1</td>\n      <td>Units Sold</td>\n      <td>95</td>\n      <td>San Francisco</td>\n    </tr>\n    <tr>\n      <th>29</th>\n      <td>Store B</td>\n      <td>February</td>\n      <td>Product 1</td>\n      <td>Revenue</td>\n      <td>82</td>\n      <td>San Francisco</td>\n    </tr>\n    <tr>\n      <th>30</th>\n      <td>Store B</td>\n      <td>February</td>\n      <td>Product 2</td>\n      <td>Units Sold</td>\n      <td>55</td>\n      <td>San Francisco</td>\n    </tr>\n    <tr>\n      <th>31</th>\n      <td>Store B</td>\n      <td>February</td>\n      <td>Product 2</td>\n      <td>Revenue</td>\n      <td>4</td>\n      <td>San Francisco</td>\n    </tr>\n    <tr>\n      <th>32</th>\n      <td>Store A</td>\n      <td>January</td>\n      <td>Product 1</td>\n      <td>Units Sold</td>\n      <td>8</td>\n      <td>San Jose</td>\n    </tr>\n    <tr>\n      <th>33</th>\n      <td>Store A</td>\n      <td>January</td>\n      <td>Product 1</td>\n      <td>Revenue</td>\n      <td>23</td>\n      <td>San Jose</td>\n    </tr>\n    <tr>\n      <th>34</th>\n      <td>Store A</td>\n      <td>January</td>\n      <td>Product 2</td>\n      <td>Units Sold</td>\n      <td>80</td>\n      <td>San Jose</td>\n    </tr>\n    <tr>\n      <th>35</th>\n      <td>Store A</td>\n      <td>January</td>\n      <td>Product 2</td>\n      <td>Revenue</td>\n      <td>88</td>\n      <td>San Jose</td>\n    </tr>\n    <tr>\n      <th>36</th>\n      <td>Store A</td>\n      <td>February</td>\n      <td>Product 1</td>\n      <td>Units Sold</td>\n      <td>76</td>\n      <td>San Jose</td>\n    </tr>\n    <tr>\n      <th>37</th>\n      <td>Store A</td>\n      <td>February</td>\n      <td>Product 1</td>\n      <td>Revenue</td>\n      <td>18</td>\n      <td>San Jose</td>\n    </tr>\n    <tr>\n      <th>38</th>\n      <td>Store A</td>\n      <td>February</td>\n      <td>Product 2</td>\n      <td>Units Sold</td>\n      <td>54</td>\n      <td>San Jose</td>\n    </tr>\n    <tr>\n      <th>39</th>\n      <td>Store A</td>\n      <td>February</td>\n      <td>Product 2</td>\n      <td>Revenue</td>\n      <td>98</td>\n      <td>San Jose</td>\n    </tr>\n    <tr>\n      <th>40</th>\n      <td>Store B</td>\n      <td>January</td>\n      <td>Product 1</td>\n      <td>Units Sold</td>\n      <td>51</td>\n      <td>San Jose</td>\n    </tr>\n    <tr>\n      <th>41</th>\n      <td>Store B</td>\n      <td>January</td>\n      <td>Product 1</td>\n      <td>Revenue</td>\n      <td>25</td>\n      <td>San Jose</td>\n    </tr>\n    <tr>\n      <th>42</th>\n      <td>Store B</td>\n      <td>January</td>\n      <td>Product 2</td>\n      <td>Units Sold</td>\n      <td>85</td>\n      <td>San Jose</td>\n    </tr>\n    <tr>\n      <th>43</th>\n      <td>Store B</td>\n      <td>January</td>\n      <td>Product 2</td>\n      <td>Revenue</td>\n      <td>31</td>\n      <td>San Jose</td>\n    </tr>\n    <tr>\n      <th>44</th>\n      <td>Store B</td>\n      <td>February</td>\n      <td>Product 1</td>\n      <td>Units Sold</td>\n      <td>95</td>\n      <td>San Jose</td>\n    </tr>\n    <tr>\n      <th>45</th>\n      <td>Store B</td>\n      <td>February</td>\n      <td>Product 1</td>\n      <td>Revenue</td>\n      <td>82</td>\n      <td>San Jose</td>\n    </tr>\n    <tr>\n      <th>46</th>\n      <td>Store B</td>\n      <td>February</td>\n      <td>Product 2</td>\n      <td>Units Sold</td>\n      <td>55</td>\n      <td>San Jose</td>\n    </tr>\n    <tr>\n      <th>47</th>\n      <td>Store B</td>\n      <td>February</td>\n      <td>Product 2</td>\n      <td>Revenue</td>\n      <td>4</td>\n      <td>San Jose</td>\n    </tr>\n  </tbody>\n</table>\n</div>"
     },
     "execution_count": 10,
     "metadata": {},
     "output_type": "execute_result"
    }
   ],
   "source": [
    "df = dt.from_inst(\"Datasets.Retail Data\", [load_points_json])\n",
    "df"
   ],
   "metadata": {
    "collapsed": false,
    "ExecuteTime": {
     "end_time": "2024-04-28T18:38:17.048587Z",
     "start_time": "2024-04-28T18:38:17.034208Z"
    }
   }
  },
  {
   "cell_type": "code",
   "execution_count": 11,
   "outputs": [
    {
     "name": "stdout",
     "output_type": "stream",
     "text": [
      "# Dataframe written to /Users/oblinger/ob/proj/ml-dat/examples/output.xlsx\n"
     ]
    },
    {
     "data": {
      "text/plain": "'/Users/oblinger/ob/proj/ml-dat/examples/output.xlsx'"
     },
     "execution_count": 11,
     "metadata": {},
     "output_type": "execute_result"
    }
   ],
   "source": [
    "dt.to_excel(df, show=True)"
   ],
   "metadata": {
    "collapsed": false,
    "ExecuteTime": {
     "end_time": "2024-04-28T18:38:17.370666Z",
     "start_time": "2024-04-28T18:38:17.339039Z"
    }
   }
  },
  {
   "cell_type": "markdown",
   "source": [
    "#### The 'sheets' parameter\n",
    "The 'sheets' to_excel parameter can be used to split a data frame into separate excel sheets according to the value of the indicated column.  Here we split the DataFrame so each city is on its own sheet."
   ],
   "metadata": {
    "collapsed": false
   }
  },
  {
   "cell_type": "code",
   "execution_count": 12,
   "outputs": [
    {
     "name": "stdout",
     "output_type": "stream",
     "text": [
      "# Dataframe written to /Users/oblinger/ob/proj/ml-dat/examples/output.xlsx\n"
     ]
    },
    {
     "data": {
      "text/plain": "'/Users/oblinger/ob/proj/ml-dat/examples/output.xlsx'"
     },
     "execution_count": 12,
     "metadata": {},
     "output_type": "execute_result"
    }
   ],
   "source": [
    "dt.to_excel(df, sheets=[\"list\"], show=True)"
   ],
   "metadata": {
    "collapsed": false,
    "ExecuteTime": {
     "end_time": "2024-04-28T18:38:25.320088Z",
     "start_time": "2024-04-28T18:38:25.298650Z"
    }
   }
  },
  {
   "cell_type": "markdown",
   "source": [
    "Providing multiple columns in the 'sheets' parameter will create a sheets for the cross-product of column values as shown here:"
   ],
   "metadata": {
    "collapsed": false
   }
  },
  {
   "cell_type": "code",
   "execution_count": 13,
   "outputs": [
    {
     "name": "stdout",
     "output_type": "stream",
     "text": [
      "# Dataframe written to /Users/oblinger/ob/proj/ml-dat/examples/output.xlsx\n"
     ]
    },
    {
     "data": {
      "text/plain": "'/Users/oblinger/ob/proj/ml-dat/examples/output.xlsx'"
     },
     "execution_count": 13,
     "metadata": {},
     "output_type": "execute_result"
    }
   ],
   "source": [
    "dt.to_excel(df, sheets=[\"list\", \"Store\"], show=True)"
   ],
   "metadata": {
    "collapsed": false,
    "ExecuteTime": {
     "end_time": "2024-04-28T18:38:26.590930Z",
     "start_time": "2024-04-28T18:38:26.551093Z"
    }
   }
  },
  {
   "cell_type": "markdown",
   "source": [
    "#### The 'docs' parameter\n",
    "Another way to slice a DataFrame is into separate excel documents.  Here we split the DataFrame by month:"
   ],
   "metadata": {
    "collapsed": false
   }
  },
  {
   "cell_type": "code",
   "execution_count": 14,
   "outputs": [
    {
     "name": "stdout",
     "output_type": "stream",
     "text": [
      "# Dataframe written to /Users/oblinger/ob/proj/ml-dat/examples/February.xlsx\n",
      "# Dataframe written to /Users/oblinger/ob/proj/ml-dat/examples/January.xlsx\n"
     ]
    },
    {
     "data": {
      "text/plain": "'/Users/oblinger/ob/proj/ml-dat/examples'"
     },
     "execution_count": 14,
     "metadata": {},
     "output_type": "execute_result"
    }
   ],
   "source": [
    "dt.to_excel(df, docs=[\"Month\"], show=True)"
   ],
   "metadata": {
    "collapsed": false,
    "ExecuteTime": {
     "end_time": "2024-04-28T18:38:30.228168Z",
     "start_time": "2024-04-28T18:38:30.198102Z"
    }
   }
  },
  {
   "cell_type": "markdown",
   "source": [
    "#### The 'add_formatted_column' parameter\n",
    "Often a report can be tidied up by combining related columns into single semantically\n",
    "unified ones.   The 'add_formatted_columns' defines a simple formatting syntax based\n",
    "on Python's format fn. Here we combine the 'Metric' and 'Value' columns into the new\n",
    "'Result' column."
   ],
   "metadata": {
    "collapsed": false
   }
  },
  {
   "cell_type": "code",
   "execution_count": 15,
   "outputs": [
    {
     "name": "stdout",
     "output_type": "stream",
     "text": [
      "# Dataframe written to /Users/oblinger/ob/proj/ml-dat/examples/output.xlsx\n"
     ]
    },
    {
     "data": {
      "text/plain": "'/Users/oblinger/ob/proj/ml-dat/examples/output.xlsx'"
     },
     "execution_count": 15,
     "metadata": {},
     "output_type": "execute_result"
    }
   ],
   "source": [
    "dt.to_excel(df, sheets=[\"Store\", \"Month\"], show=True,\n",
    "            formatted_columns=[\"Result <== {0} {1} <==  Value, Metric\"])"
   ],
   "metadata": {
    "collapsed": false,
    "ExecuteTime": {
     "end_time": "2024-04-28T18:38:32.569533Z",
     "start_time": "2024-04-28T18:38:32.549935Z"
    }
   }
  },
  {
   "cell_type": "markdown",
   "source": [
    "#### The 'columns' parameter\n",
    "The 'columns' parameter also can be used to trim the Excel sheet(s) to only include the listed\n",
    "columns.  This can also be used to \"tidy up\" the output."
   ],
   "metadata": {
    "collapsed": false
   }
  },
  {
   "cell_type": "code",
   "execution_count": 16,
   "outputs": [
    {
     "name": "stdout",
     "output_type": "stream",
     "text": [
      "# Dataframe written to /Users/oblinger/ob/proj/ml-dat/examples/output.xlsx\n"
     ]
    },
    {
     "data": {
      "text/plain": "'/Users/oblinger/ob/proj/ml-dat/examples/output.xlsx'"
     },
     "execution_count": 16,
     "metadata": {},
     "output_type": "execute_result"
    }
   ],
   "source": [
    "dt.to_excel(df, sheets=[\"Store\", \"Month\"], show=True,\n",
    "            columns=[\"list\", \"Product\", \"Result\"],\n",
    "            formatted_columns=[\"Result <== {0} {1} <==  Value, Metric\"])"
   ],
   "metadata": {
    "collapsed": false,
    "ExecuteTime": {
     "end_time": "2024-04-28T18:38:37.212418Z",
     "start_time": "2024-04-28T18:38:37.191360Z"
    }
   }
  },
  {
   "cell_type": "markdown",
   "source": [
    "#### The 'transform' parameter\n",
    "The formatted_columns parameter was included as combining columns is a common\n",
    "special case.  More generally, one can use the 'transform' parameter to perform\n",
    "arbitrary transformation of the dataframe before writing it to Excel.  It accepts a\n",
    "transform function that returns a new transformed DataFrame based on its input DF.\n",
    "\n",
    "Here we have a transform fn that computes average revenue and average units sold then\n",
    "conditionally adds respective percentage calculations after dollars or units sold as\n",
    "appropriate."
   ],
   "metadata": {
    "collapsed": false
   }
  },
  {
   "cell_type": "code",
   "execution_count": 21,
   "outputs": [
    {
     "name": "stdout",
     "output_type": "stream",
     "text": [
      "# Dataframe written to /Users/oblinger/ob/proj/ml-dat/examples/output.xlsx\n"
     ]
    },
    {
     "data": {
      "text/plain": "'/Users/oblinger/ob/proj/ml-dat/examples/output.xlsx'"
     },
     "execution_count": 21,
     "metadata": {},
     "output_type": "execute_result"
    }
   ],
   "source": [
    "def my_transform(df):\n",
    "    \"\"\"Adds a 'Result' column to the DataFrame\"\"\"\n",
    "    def my_result(row):\n",
    "        if row['Metric'] == 'Revenue':\n",
    "            percentage = (row['Value'] / average_revenue) * 100\n",
    "            return f\"${row['Value']} ({int(percentage)}%)\"\n",
    "        elif row['Metric'] == 'Units Sold':\n",
    "            percentage = (row['Value'] / average_units) * 100\n",
    "            return f\"{row['Value']} Units ({int(percentage)}%)\"\n",
    "        else:\n",
    "            return \"???\"\n",
    "    average_revenue = df[df['Metric'] == 'Revenue']['Value'].mean()\n",
    "    average_units = df[df['Metric'] == 'Units Sold']['Value'].mean()\n",
    "    df['Result'] = df.apply(my_result, axis=1)\n",
    "    return df\n",
    "\n",
    "dt.to_excel(df, sheets=[\"Store\", \"Month\"], show=True,\n",
    "            columns=[\"list\", \"Product\", \"Result\"],\n",
    "            transform=my_transform)"
   ],
   "metadata": {
    "collapsed": false,
    "ExecuteTime": {
     "end_time": "2024-04-28T18:40:34.472925Z",
     "start_time": "2024-04-28T18:40:34.447026Z"
    }
   }
  },
  {
   "cell_type": "markdown",
   "source": [
    "#### Combining many parameter"
   ],
   "metadata": {
    "collapsed": false
   }
  },
  {
   "cell_type": "markdown",
   "source": [
    "And of course, we can combine these methods to slice the data simultaneously by document and sheet:"
   ],
   "metadata": {
    "collapsed": false
   }
  },
  {
   "cell_type": "code",
   "execution_count": 24,
   "outputs": [
    {
     "name": "stdout",
     "output_type": "stream",
     "text": [
      "# Dataframe written to /tmp/Tidy Retail Report February.xlsx\n",
      "# Dataframe written to /tmp/Tidy Retail Report January.xlsx\n"
     ]
    },
    {
     "data": {
      "text/plain": "'/tmp'"
     },
     "execution_count": 24,
     "metadata": {},
     "output_type": "execute_result"
    }
   ],
   "source": [
    "dt.to_excel(df, show=True,\n",
    "            title=\"Tidy Retail Report\",\n",
    "            folder=\"/tmp\",\n",
    "            docs=[\"Month\"],\n",
    "            sheets=[\"list\", \"Store\"],\n",
    "            columns=[\"Product\", \"Result\"],\n",
    "            transform=my_transform)"
   ],
   "metadata": {
    "collapsed": false,
    "ExecuteTime": {
     "end_time": "2024-04-28T18:48:04.776321Z",
     "start_time": "2024-04-28T18:48:04.754478Z"
    }
   }
  },
  {
   "cell_type": "markdown",
   "source": [
    "# METRICS_MATRIX\n",
    "The 'metrics_matrix' function is used to create a matrix of metrics from a list of\n",
    "Insts and a list of metric functions.  The matrix is a 2D array where each row\n",
    "represents an Inst and each column represents a metric function.  The 'metrics_matrix'\n",
    "function is useful for creating a matrix of metrics for a set of Insts that can be used\n",
    "for further analysis or visualization.\n",
    "\n",
    "The 'metrics_matrix' is designed to be used as a do-method.\n"
   ],
   "metadata": {
    "collapsed": false
   }
  },
  {
   "cell_type": "code",
   "execution_count": 9,
   "outputs": [
    {
     "name": "stdout",
     "output_type": "stream",
     "text": [
      "\n",
      "### SHOWING MODULE '.../mr_sprint23.py'\n",
      "  | \n",
      "  | mr_sprint23 = {\n",
      "  |     \"main\": {\"do\": \"dt.metrics_matrix\"},\n",
      "  |     \"metrics_matrix\": {\n",
      "  |         \"source\": [\"runs.example.hello10\", \"runs.example.hello5\"],\n",
      "  |         \"metrics\": [\"cube_hello.is_prime\", \"cube_hello.data\", \"cube_hello.color_p\"],\n",
      "  |         \"title\": \"The Hello Report\",\n",
      "  |     }\n",
      "  | }\n",
      "  | \n",
      "  | add_col = {\n",
      "  |     \"main\": {\"base\": \"mr_sprint23.mr_sprint23\"},\n",
      "  |     \"metrics_matrix\": {\n",
      "  |         \"formatted_columns\": [\n",
      "  |             \" new_col <== {0}-{1} <== is_prime, color_p\"\n",
      "  |         ]\n",
      "  |     }\n",
      "  | }\n",
      "  | \n",
      "\n",
      "\n"
     ]
    }
   ],
   "source": [
    "show(\"mr_sprint23\")"
   ],
   "metadata": {
    "collapsed": false,
    "ExecuteTime": {
     "end_time": "2024-04-28T06:02:46.532228Z",
     "start_time": "2024-04-28T06:02:46.530057Z"
    }
   }
  },
  {
   "cell_type": "code",
   "execution_count": 5,
   "outputs": [
    {
     "name": "stdout",
     "output_type": "stream",
     "text": [
      "# TOEXCEL docs=None sheets=None verbose=True show=True\n",
      "# Dataframe written to /Users/oblinger/ob/proj/ml-dat/examples/S23.xlsx\n",
      "  $ open \"/Users/oblinger/ob/proj/ml-dat/examples/S23.xlsx\" &\n",
      "/Users/oblinger/ob/proj/ml-dat/examples\n"
     ]
    },
    {
     "data": {
      "text/plain": "    is_prime                           data  color_p list\n0      False          6-11-4-7-5-8-2-11-3-2      0.4    0\n1      False            6-8-2-3-3-3-3-5-3-2      0.4    1\n2       True            0-1-2-1-2-3-0-2-3-3      0.4    2\n3       True          8-7-9-11-7-8-8-9-10-7      0.4    3\n4      False  11-11-11-11-11-11-10-10-10-11      0.4    4\n5       True        9-8-11-14-13-8-7-8-13-6      0.4    5\n6      False            3-4-4-6-3-6-2-8-6-8      0.4    6\n7       True  10-10-10-10-11-10-11-10-10-10      0.4    7\n8      False      9-16-9-6-7-11-11-11-16-11      0.4    8\n9      False           7-10-4-8-8-5-5-8-4-9      0.4    9\n10     False   12-10-12-11-13-14-14-10-14-9      0.4    0\n11     False            1-4-6-4-4-2-6-6-4-8      0.4    1\n12      True  10-10-10-10-10-10-10-10-10-10      0.4    2\n13      True      11-11-13-12-10-9-9-9-13-5      0.4    3\n14     False            5-5-5-5-5-5-4-5-5-5      0.4    4",
      "text/html": "<div>\n<style scoped>\n    .dataframe tbody tr th:only-of-type {\n        vertical-align: middle;\n    }\n\n    .dataframe tbody tr th {\n        vertical-align: top;\n    }\n\n    .dataframe thead th {\n        text-align: right;\n    }\n</style>\n<table border=\"1\" class=\"dataframe\">\n  <thead>\n    <tr style=\"text-align: right;\">\n      <th></th>\n      <th>is_prime</th>\n      <th>data</th>\n      <th>color_p</th>\n      <th>list</th>\n    </tr>\n  </thead>\n  <tbody>\n    <tr>\n      <th>0</th>\n      <td>False</td>\n      <td>6-11-4-7-5-8-2-11-3-2</td>\n      <td>0.4</td>\n      <td>0</td>\n    </tr>\n    <tr>\n      <th>1</th>\n      <td>False</td>\n      <td>6-8-2-3-3-3-3-5-3-2</td>\n      <td>0.4</td>\n      <td>1</td>\n    </tr>\n    <tr>\n      <th>2</th>\n      <td>True</td>\n      <td>0-1-2-1-2-3-0-2-3-3</td>\n      <td>0.4</td>\n      <td>2</td>\n    </tr>\n    <tr>\n      <th>3</th>\n      <td>True</td>\n      <td>8-7-9-11-7-8-8-9-10-7</td>\n      <td>0.4</td>\n      <td>3</td>\n    </tr>\n    <tr>\n      <th>4</th>\n      <td>False</td>\n      <td>11-11-11-11-11-11-10-10-10-11</td>\n      <td>0.4</td>\n      <td>4</td>\n    </tr>\n    <tr>\n      <th>5</th>\n      <td>True</td>\n      <td>9-8-11-14-13-8-7-8-13-6</td>\n      <td>0.4</td>\n      <td>5</td>\n    </tr>\n    <tr>\n      <th>6</th>\n      <td>False</td>\n      <td>3-4-4-6-3-6-2-8-6-8</td>\n      <td>0.4</td>\n      <td>6</td>\n    </tr>\n    <tr>\n      <th>7</th>\n      <td>True</td>\n      <td>10-10-10-10-11-10-11-10-10-10</td>\n      <td>0.4</td>\n      <td>7</td>\n    </tr>\n    <tr>\n      <th>8</th>\n      <td>False</td>\n      <td>9-16-9-6-7-11-11-11-16-11</td>\n      <td>0.4</td>\n      <td>8</td>\n    </tr>\n    <tr>\n      <th>9</th>\n      <td>False</td>\n      <td>7-10-4-8-8-5-5-8-4-9</td>\n      <td>0.4</td>\n      <td>9</td>\n    </tr>\n    <tr>\n      <th>10</th>\n      <td>False</td>\n      <td>12-10-12-11-13-14-14-10-14-9</td>\n      <td>0.4</td>\n      <td>0</td>\n    </tr>\n    <tr>\n      <th>11</th>\n      <td>False</td>\n      <td>1-4-6-4-4-2-6-6-4-8</td>\n      <td>0.4</td>\n      <td>1</td>\n    </tr>\n    <tr>\n      <th>12</th>\n      <td>True</td>\n      <td>10-10-10-10-10-10-10-10-10-10</td>\n      <td>0.4</td>\n      <td>2</td>\n    </tr>\n    <tr>\n      <th>13</th>\n      <td>True</td>\n      <td>11-11-13-12-10-9-9-9-13-5</td>\n      <td>0.4</td>\n      <td>3</td>\n    </tr>\n    <tr>\n      <th>14</th>\n      <td>False</td>\n      <td>5-5-5-5-5-5-4-5-5-5</td>\n      <td>0.4</td>\n      <td>4</td>\n    </tr>\n  </tbody>\n</table>\n</div>"
     },
     "execution_count": 5,
     "metadata": {},
     "output_type": "execute_result"
    }
   ],
   "source": [
    "do(\"mr_sprint23\")"
   ],
   "metadata": {
    "collapsed": false,
    "ExecuteTime": {
     "end_time": "2024-04-28T17:11:49.558237Z",
     "start_time": "2024-04-28T17:11:49.520527Z"
    }
   }
  },
  {
   "cell_type": "code",
   "execution_count": 4,
   "outputs": [
    {
     "name": "stdout",
     "output_type": "stream",
     "text": [
      "# TOEXCEL docs=None sheets=None verbose=True show=True\r\n",
      "# Dataframe written to /Users/oblinger/ob/proj/ml-dat/examples/S23.xlsx\r\n",
      "  $ open \"/Users/oblinger/ob/proj/ml-dat/examples/S23.xlsx\" &\r\n",
      "/Users/oblinger/ob/proj/ml-dat/examples\r\n",
      "    is_prime                           data  color_p list\r\n",
      "0      False          6-11-4-7-5-8-2-11-3-2      0.4    0\r\n",
      "1      False            6-8-2-3-3-3-3-5-3-2      0.4    1\r\n",
      "2       True            0-1-2-1-2-3-0-2-3-3      0.4    2\r\n",
      "3       True          8-7-9-11-7-8-8-9-10-7      0.4    3\r\n",
      "4      False  11-11-11-11-11-11-10-10-10-11      0.4    4\r\n",
      "5       True        9-8-11-14-13-8-7-8-13-6      0.4    5\r\n",
      "6      False            3-4-4-6-3-6-2-8-6-8      0.4    6\r\n",
      "7       True  10-10-10-10-11-10-11-10-10-10      0.4    7\r\n",
      "8      False      9-16-9-6-7-11-11-11-16-11      0.4    8\r\n",
      "9      False           7-10-4-8-8-5-5-8-4-9      0.4    9\r\n",
      "10     False   12-10-12-11-13-14-14-10-14-9      0.4    0\r\n",
      "11     False            1-4-6-4-4-2-6-6-4-8      0.4    1\r\n",
      "12      True  10-10-10-10-10-10-10-10-10-10      0.4    2\r\n",
      "13      True      11-11-13-12-10-9-9-9-13-5      0.4    3\r\n",
      "14     False            5-5-5-5-5-5-4-5-5-5      0.4    4\r\n"
     ]
    }
   ],
   "source": [
    "!./do mr_sprint23"
   ],
   "metadata": {
    "collapsed": false,
    "ExecuteTime": {
     "end_time": "2024-04-28T17:11:35.381974Z",
     "start_time": "2024-04-28T17:11:34.911212Z"
    }
   }
  },
  {
   "cell_type": "code",
   "execution_count": 6,
   "outputs": [
    {
     "name": "stdout",
     "output_type": "stream",
     "text": [
      "# TOEXCEL docs=None sheets=None verbose=True show=True\r\n",
      "# Dataframe written to /Users/oblinger/ob/proj/ml-dat/examples/S23b.xlsx\r\n",
      "  $ open \"/Users/oblinger/ob/proj/ml-dat/examples/S23b.xlsx\" &\r\n",
      "/Users/oblinger/ob/proj/ml-dat/examples\r\n",
      "    is_prime                           data  color_p list    new_col\r\n",
      "0      False          6-11-4-7-5-8-2-11-3-2      0.4    0  False-0.4\r\n",
      "1      False            6-8-2-3-3-3-3-5-3-2      0.4    1  False-0.4\r\n",
      "2       True            0-1-2-1-2-3-0-2-3-3      0.4    2   True-0.4\r\n",
      "3       True          8-7-9-11-7-8-8-9-10-7      0.4    3   True-0.4\r\n",
      "4      False  11-11-11-11-11-11-10-10-10-11      0.4    4  False-0.4\r\n",
      "5       True        9-8-11-14-13-8-7-8-13-6      0.4    5   True-0.4\r\n",
      "6      False            3-4-4-6-3-6-2-8-6-8      0.4    6  False-0.4\r\n",
      "7       True  10-10-10-10-11-10-11-10-10-10      0.4    7   True-0.4\r\n",
      "8      False      9-16-9-6-7-11-11-11-16-11      0.4    8  False-0.4\r\n",
      "9      False           7-10-4-8-8-5-5-8-4-9      0.4    9  False-0.4\r\n",
      "10     False   12-10-12-11-13-14-14-10-14-9      0.4    0  False-0.4\r\n",
      "11     False            1-4-6-4-4-2-6-6-4-8      0.4    1  False-0.4\r\n",
      "12      True  10-10-10-10-10-10-10-10-10-10      0.4    2   True-0.4\r\n",
      "13      True      11-11-13-12-10-9-9-9-13-5      0.4    3   True-0.4\r\n",
      "14     False            5-5-5-5-5-5-4-5-5-5      0.4    4  False-0.4\r\n"
     ]
    }
   ],
   "source": [
    "!./do mr_sprint23.add_col"
   ],
   "metadata": {
    "collapsed": false,
    "ExecuteTime": {
     "end_time": "2024-04-28T17:16:50.137574Z",
     "start_time": "2024-04-28T17:16:49.713339Z"
    }
   }
  },
  {
   "cell_type": "code",
   "execution_count": 5,
   "outputs": [],
   "source": [
    "do.get_base_object(\"dt\")"
   ],
   "metadata": {
    "collapsed": false,
    "ExecuteTime": {
     "end_time": "2024-04-28T15:03:22.904256Z",
     "start_time": "2024-04-28T15:03:22.901034Z"
    }
   }
  },
  {
   "cell_type": "code",
   "execution_count": 30,
   "outputs": [
    {
     "name": "stdout",
     "output_type": "stream",
     "text": [
      "/Users/oblinger/ob/proj/ml-dat/examples\r\n",
      "zsh:1: no matches found: *.xlsx\r\n"
     ]
    }
   ],
   "source": [
    "#### Cleanup\n",
    "!rm *.xlsx"
   ],
   "metadata": {
    "collapsed": false,
    "ExecuteTime": {
     "end_time": "2024-04-28T23:04:58.389977Z",
     "start_time": "2024-04-28T23:04:58.279132Z"
    }
   }
  }
 ],
 "metadata": {
  "kernelspec": {
   "display_name": "Python 3 (ipykernel)",
   "language": "python",
   "name": "python3"
  },
  "language_info": {
   "codemirror_mode": {
    "name": "ipython",
    "version": 3
   },
   "file_extension": ".py",
   "mimetype": "text/x-python",
   "name": "python",
   "nbconvert_exporter": "python",
   "pygments_lexer": "ipython3",
   "version": "3.12.0"
  }
 },
 "nbformat": 4,
 "nbformat_minor": 4
}
