{
 "cells": [
  {
   "cell_type": "code",
   "metadata": {
    "ExecuteTime": {
     "end_time": "2024-05-09T00:02:40.545899Z",
     "start_time": "2024-05-09T00:02:40.312716Z"
    }
   },
   "source": [
    "import os\n",
    "import sys\n",
    "import json\n",
    "sys.path.append(os.path.dirname(os.path.dirname(os.getcwd())))\n",
    "\n",
    "# Setup stuff.  The cell just supports the workbook, you can ignore it\n",
    "\n",
    "EXAMPLE_DO_FOLDER = os.path.join(os.getcwd(), \"example_do_folder\")\n",
    "INSERTION_FOLDER = os.path.join(EXAMPLE_DO_FOLDER, \"hello/do_examples\")\n",
    "\n",
    "# def show_loadable(at):\n",
    "#     with open(os.path.join(INSERTION_FOLDER, at)) as file:\n",
    "#         contents = file.read()\n",
    "#     with_bar = \"\\n  | \".join(contents.split(\"\\n\"))\n",
    "#     print(F\"\\n### SHOWING MODULE {'.../'+at!r}\\n  | {with_bar}\\n\\n\")\n",
    "\n",
    "def show(base):\n",
    "    with open(do.get_base(base).__file__) as file:\n",
    "        contents = file.read()\n",
    "    with_bar = \"\\n  | \".join(contents.split(\"\\n\"))\n",
    "    print(F\"\\n### SHOWING MODULE {'.../'+base+'.py'!r}\\n  | {with_bar}\\n\\n\")\n",
    "\n",
    "def run_do(*args, **kwargs):\n",
    "    parts = [repr(x) for x in args] + [F\"{k}={v!r}\" for k, v in kwargs.items()]\n",
    "    print(F\"do({', '.join(parts)})\")\n",
    "    result = do(*args, **kwargs)\n",
    "    print(F\"--> {result!r}\")\n",
    "    print()\n",
    "\n",
    "\n",
    "print(F\"### INSERTION FOLDER        = {INSERTION_FOLDER!r}\")\n",
    "print(F\"### DO FOLDER (in Jupyter)  = {EXAMPLE_DO_FOLDER}\")\n",
    "sys.path.append(os.path.dirname(os.path.dirname(EXAMPLE_DO_FOLDER)))\n",
    "from dvc_dat import do   # Add all loadables BEFORE loading this module\n",
    "# do.set_do_folder(dat_config.do_folder)\n",
    "print(F\"## DO FOLDER (in do module) = {do.do_folder!r}\")\n",
    "if EXAMPLE_DO_FOLDER != do.do_folder:\n",
    "    print(f\"WARNING: EXAMPLE_DO_FOLDER used by jupyter = {EXAMPLE_DO_FOLDER} does not match {do.do_folder}\")\n",
    "if not os.path.exists(INSERTION_FOLDER):\n",
    "    input(f\"WARNING: INSERTION_FOLDER {INSERTION_FOLDER!r} not found.\")\n",
    "    os.makedirs(INSERTION_FOLDER)\n",
    "print(\"\\n\\n\\n\\n\")\n"
   ],
   "execution_count": 1,
   "outputs": []
  },
  {
   "cell_type": "markdown",
   "source": [
    "# Example Data"
   ],
   "metadata": {
    "collapsed": false
   }
  },
  {
   "cell_type": "markdown",
   "source": [
    "### Imports"
   ],
   "metadata": {
    "collapsed": false
   }
  },
  {
   "cell_type": "code",
   "source": [
    "from dvc_dat import dat_tools as dt\n",
    "from dvc_dat import Dat, do"
   ],
   "metadata": {
    "collapsed": false,
    "ExecuteTime": {
     "end_time": "2024-05-09T00:02:42.706663Z",
     "start_time": "2024-05-09T00:02:42.704114Z"
    }
   },
   "execution_count": 2,
   "outputs": []
  },
  {
   "cell_type": "markdown",
   "metadata": {
    "collapsed": false,
    "jupyter": {
     "outputs_hidden": false
    }
   },
   "source": [
    "### Some Example Dats\n",
    "These Dat and point_fns are used to build and show DataFrames.\n"
   ]
  },
  {
   "cell_type": "code",
   "source": [
    "TMP_PATH1 = \"/tmp/job_test1\"\n",
    "spec1 = {\"main\": {\"my_key1\": \"my_val1\", \"my_key2\": \"my_val2\"}}\n",
    "dat1 = Dat.create(spec=spec1, path=TMP_PATH1)\n",
    "\n",
    "TMP_PATH2 = \"/tmp/job_test2\"\n",
    "spec2 = {\"main\": {\"my_key1\": \"my_val1\", \"my_key2\": \"my_val2\"}, \"other\": \"key_value\"}\n",
    "dat2 = Dat.create(spec=spec2, path=TMP_PATH2)\n"
   ],
   "metadata": {
    "collapsed": false,
    "ExecuteTime": {
     "end_time": "2024-05-09T00:02:43.830395Z",
     "start_time": "2024-05-09T00:02:43.827511Z"
    }
   },
   "execution_count": 3,
   "outputs": []
  },
  {
   "cell_type": "markdown",
   "source": [
    ".\n",
    "\n",
    ".\n",
    "\n",
    "## Creating DataFrames from Dats and point_fns"
   ],
   "metadata": {
    "collapsed": false
   }
  },
  {
   "cell_type": "markdown",
   "source": [
    "#### Zero point_fns applied to zero Dats yields an empty DataFrame"
   ],
   "metadata": {
    "collapsed": false
   }
  },
  {
   "cell_type": "code",
   "source": [
    "dt.from_dat([], [])  # Empty lists return empty DataFrames"
   ],
   "metadata": {
    "collapsed": false,
    "ExecuteTime": {
     "end_time": "2024-05-09T00:02:45.840571Z",
     "start_time": "2024-05-09T00:02:45.830792Z"
    }
   },
   "execution_count": 4,
   "outputs": []
  },
  {
   "cell_type": "markdown",
   "source": [
    "#### Two metrics applied to two dats yields a DataFrame w/ two rows & 2 cols"
   ],
   "metadata": {
    "collapsed": false
   }
  },
  {
   "cell_type": "code",
   "source": [
    "def always_17(_dat):\n",
    "    return 17\n",
    "\n",
    "\n",
    "def always_18(_dat):\n",
    "    return 18\n",
    "\n",
    "dt.from_dat([dat1, dat2], [always_17, always_18])"
   ],
   "metadata": {
    "collapsed": false,
    "ExecuteTime": {
     "end_time": "2024-05-09T00:02:47.243562Z",
     "start_time": "2024-05-09T00:02:47.236748Z"
    }
   },
   "execution_count": 5,
   "outputs": []
  },
  {
   "cell_type": "markdown",
   "source": [
    "#### Metric functions can also be expressed as string and loaded using 'do'"
   ],
   "metadata": {
    "collapsed": false
   }
  },
  {
   "cell_type": "code",
   "source": [
    "do.register_module(\"registered_cube\",\n",
    "                           \"example_do_folder.dat_tools_examples.cube_hello\",\n",
    "                   allow_redefine=True)\n",
    "dt.from_dat([dat1], [\"registered_cube.always_5\"])"
   ],
   "metadata": {
    "collapsed": false,
    "ExecuteTime": {
     "end_time": "2024-05-09T00:02:48.775653Z",
     "start_time": "2024-05-09T00:02:48.768036Z"
    }
   },
   "execution_count": 6,
   "outputs": []
  },
  {
   "cell_type": "markdown",
   "source": [
    "#### Multi-valued Metric Functions\n",
    "Metric functions (also called point_fns) can return a dict of metric values instead of just returning a single value."
   ],
   "metadata": {
    "collapsed": false
   }
  },
  {
   "cell_type": "code",
   "source": [
    "fns = [always_17, lambda dat: {\"val1\": 111, \"val2\": 2222}]\n",
    "dt.from_dat([dat1, dat2], point_fns=fns)"
   ],
   "metadata": {
    "collapsed": false,
    "ExecuteTime": {
     "end_time": "2024-05-09T00:02:50.161629Z",
     "start_time": "2024-05-09T00:02:50.155866Z"
    }
   },
   "execution_count": 7,
   "outputs": []
  },
  {
   "cell_type": "markdown",
   "source": [
    "#### Multi-POINT Metric Functions\n",
    "Finally, a point_fn can return a LIST of dicts, each dict represents a row in the DataFrame.  In all cases, all point_fns are applied to all dats, and the return values are appended to the DataFrame.  These different kinds of point functions can be combined, so scalar values and dict values are all merged into a single row for each dat, and lists of dicts are expanded into multiple rows."
   ],
   "metadata": {
    "collapsed": false
   }
  },
  {
   "cell_type": "code",
   "source": [
    "point_fns = [always_17, always_18, lambda dat: [{\"val1\": 1, \"val2\": 2}, {\"val1\": 11}]]\n",
    "dt.from_dat([dat1], point_fns)"
   ],
   "metadata": {
    "collapsed": false,
    "ExecuteTime": {
     "end_time": "2024-05-09T00:02:51.574313Z",
     "start_time": "2024-05-09T00:02:51.566854Z"
    }
   },
   "execution_count": 8,
   "outputs": []
  },
  {
   "cell_type": "markdown",
   "source": [
    "Above, you can see that the results of the always_17 and always_18 functions were merged into a single row as before, and the lambda returned to more data points expressed as two additional rows in the DataFrame."
   ],
   "metadata": {
    "collapsed": false
   }
  },
  {
   "cell_type": "markdown",
   "source": [
    "# OUTPUT TO EXCEL\n",
    "The 'to_excel' function writes the DataFrame to an Excel file.\n",
    "To test this, we use the points_fn below 'load_points_json' it reads a list of data points from each dat by looking in the dat folder for a file named 'points.json'.  This is used to construct a large DataFrame from three Dats in the \"Retail Data\" DatContainer."
   ],
   "metadata": {
    "collapsed": false
   }
  },
  {
   "cell_type": "code",
   "source": [
    "def load_points_json(dat: Dat):\n",
    "    with open(f\"{dat.get_path()}/points.json\") as f:\n",
    "        return json.load(f)\n"
   ],
   "metadata": {
    "collapsed": false,
    "ExecuteTime": {
     "end_time": "2024-05-09T00:02:53.593510Z",
     "start_time": "2024-05-09T00:02:53.590828Z"
    }
   },
   "execution_count": 9,
   "outputs": []
  },
  {
   "cell_type": "code",
   "source": [
    "df = dt.from_dat(\"Datasets/Retail Data\", [load_points_json])\n",
    "df"
   ],
   "metadata": {
    "collapsed": false,
    "ExecuteTime": {
     "end_time": "2024-05-09T00:02:54.221757Z",
     "start_time": "2024-05-09T00:02:54.210287Z"
    }
   },
   "execution_count": 10,
   "outputs": []
  },
  {
   "cell_type": "code",
   "source": [
    "dt.to_excel(df, show=True)"
   ],
   "metadata": {
    "collapsed": false,
    "ExecuteTime": {
     "end_time": "2024-05-09T00:02:55.183006Z",
     "start_time": "2024-05-09T00:02:55.157196Z"
    }
   },
   "execution_count": 11,
   "outputs": []
  },
  {
   "cell_type": "markdown",
   "source": [
    "#### The 'sheets' parameter\n",
    "The 'sheets' to_excel parameter can be used to split a data frame into separate Excel sheets according to the value of the indicated column.  Here we split the DataFrame so each city is on its own sheet."
   ],
   "metadata": {
    "collapsed": false
   }
  },
  {
   "cell_type": "code",
   "source": [
    "dt.to_excel(df, sheets=[\"list\"], show=True)"
   ],
   "metadata": {
    "collapsed": false,
    "ExecuteTime": {
     "end_time": "2024-05-09T00:02:56.702473Z",
     "start_time": "2024-05-09T00:02:56.681527Z"
    }
   },
   "execution_count": 12,
   "outputs": []
  },
  {
   "cell_type": "markdown",
   "source": [
    "Providing multiple columns in the 'sheets' parameter will create a sheets for the cross-product of column values as shown here:"
   ],
   "metadata": {
    "collapsed": false
   }
  },
  {
   "cell_type": "code",
   "source": [
    "dt.to_excel(df, sheets=[\"list\", \"Store\"], show=True)"
   ],
   "metadata": {
    "collapsed": false,
    "ExecuteTime": {
     "end_time": "2024-05-09T00:03:02.609168Z",
     "start_time": "2024-05-09T00:03:02.594802Z"
    }
   },
   "execution_count": 13,
   "outputs": []
  },
  {
   "cell_type": "markdown",
   "source": [
    "#### The 'docs' parameter\n",
    "Another way to slice a DataFrame is into separate Excel documents.  Here we split the DataFrame by month:"
   ],
   "metadata": {
    "collapsed": false
   }
  },
  {
   "cell_type": "code",
   "source": [
    "dt.to_excel(df, docs=[\"Month\"], show=True)"
   ],
   "metadata": {
    "collapsed": false,
    "ExecuteTime": {
     "end_time": "2024-05-09T00:03:08.398733Z",
     "start_time": "2024-05-09T00:03:08.374467Z"
    }
   },
   "execution_count": 14,
   "outputs": []
  },
  {
   "cell_type": "markdown",
   "source": [
    "#### The 'add_formatted_column' parameter\n",
    "Often a report can be tidied up by combining related columns into single semantically\n",
    "unified ones.   The 'add_formatted_columns' defines a simple formatting syntax based\n",
    "on Python's format fn. Here we combine the 'Metric' and 'Value' columns into the new\n",
    "'Result' column."
   ],
   "metadata": {
    "collapsed": false
   }
  },
  {
   "cell_type": "code",
   "source": [
    "dt.to_excel(df, sheets=[\"Store\", \"Month\"], show=True,\n",
    "            formatted_columns=[\"Result <== {0} {1} <==  Value, Metric\"])"
   ],
   "metadata": {
    "collapsed": false,
    "ExecuteTime": {
     "end_time": "2024-05-09T00:03:10.449198Z",
     "start_time": "2024-05-09T00:03:10.430071Z"
    }
   },
   "execution_count": 15,
   "outputs": []
  },
  {
   "cell_type": "markdown",
   "source": [
    "#### The 'columns' parameter\n",
    "The 'columns' parameter also can be used to trim the Excel sheet(s) to only include the listed\n",
    "columns.  This can also be used to \"tidy up\" the output."
   ],
   "metadata": {
    "collapsed": false
   }
  },
  {
   "cell_type": "code",
   "source": [
    "dt.to_excel(df, sheets=[\"Store\", \"Month\"], show=True,\n",
    "            columns=[\"list\", \"Product\", \"Result\"],\n",
    "            formatted_columns=[\"Result <== {0} {1} <==  Value, Metric\"])"
   ],
   "metadata": {
    "collapsed": false,
    "ExecuteTime": {
     "end_time": "2024-05-09T00:03:14.918699Z",
     "start_time": "2024-05-09T00:03:14.899157Z"
    }
   },
   "execution_count": 16,
   "outputs": []
  },
  {
   "cell_type": "markdown",
   "source": [
    "#### The 'transform' parameter\n",
    "The formatted_columns parameter was included as combining columns is a common\n",
    "special case.  More generally, one can use the 'transform' parameter to perform\n",
    "arbitrary transformation of the dataframe before writing it to Excel.  It accepts a\n",
    "transform function that returns a new transformed DataFrame based on its input DF.\n",
    "\n",
    "Here we have a transform fn that computes average revenue and average units sold then\n",
    "conditionally adds respective percentage calculations after dollars or units sold as\n",
    "appropriate."
   ],
   "metadata": {
    "collapsed": false
   }
  },
  {
   "cell_type": "code",
   "source": [
    "def my_transform(df_):\n",
    "    \"\"\"Adds a 'Result' column to the DataFrame\"\"\"\n",
    "    def my_result(row):\n",
    "        if row['Metric'] == 'Revenue':\n",
    "            percentage = (row['Value'] / average_revenue) * 100\n",
    "            return f\"${row['Value']} ({int(percentage)}%)\"\n",
    "        elif row['Metric'] == 'Units Sold':\n",
    "            percentage = (row['Value'] / average_units) * 100\n",
    "            return f\"{row['Value']} Units ({int(percentage)}%)\"\n",
    "        else:\n",
    "            return \"???\"\n",
    "    average_revenue = df_[df_['Metric'] == 'Revenue']['Value'].mean()\n",
    "    average_units = df_[df_['Metric'] == 'Units Sold']['Value'].mean()\n",
    "    df_['Result'] = df_.apply(my_result, axis=1)\n",
    "    return df_\n",
    "\n",
    "dt.to_excel(df, sheets=[\"Store\", \"Month\"], show=True,\n",
    "            columns=[\"list\", \"Product\", \"Result\"],\n",
    "            transform=my_transform)"
   ],
   "metadata": {
    "collapsed": false,
    "ExecuteTime": {
     "end_time": "2024-05-09T00:03:17.039558Z",
     "start_time": "2024-05-09T00:03:17.019345Z"
    }
   },
   "execution_count": 17,
   "outputs": []
  },
  {
   "cell_type": "markdown",
   "source": [
    "#### Combining many parameter"
   ],
   "metadata": {
    "collapsed": false
   }
  },
  {
   "cell_type": "markdown",
   "source": [
    "And we can combine these methods to slice the data simultaneously by document and sheet:"
   ],
   "metadata": {
    "collapsed": false
   }
  },
  {
   "cell_type": "code",
   "source": [
    "dt.to_excel(df, show=True,\n",
    "            title=\"Tidy Retail Report\",\n",
    "            folder=\"/tmp\",\n",
    "            docs=[\"Month\"],\n",
    "            sheets=[\"list\", \"Store\"],\n",
    "            columns=[\"Product\", \"Result\"],\n",
    "            transform=my_transform)"
   ],
   "metadata": {
    "collapsed": false,
    "ExecuteTime": {
     "end_time": "2024-05-09T00:03:20.950939Z",
     "start_time": "2024-05-09T00:03:20.918377Z"
    }
   },
   "execution_count": 18,
   "outputs": []
  },
  {
   "cell_type": "markdown",
   "source": [
    "# METRICS_MATRIX\n",
    "The 'metrics_matrix' function is used to create a matrix of metrics from a list of\n",
    "Dats and a list of metric functions.  The matrix is a 2D array where each row\n",
    "represents a Dat and each column represents a metric function.  The 'metrics_matrix'\n",
    "function is useful for creating a matrix of metrics for a set of Dats that can be used\n",
    "for further analysis or visualization.\n",
    "\n",
    "The 'metrics_matrix' is designed to be used as a do-method.\n"
   ],
   "metadata": {
    "collapsed": false
   }
  },
  {
   "cell_type": "code",
   "source": [
    "show(\"mr_sprint23\")"
   ],
   "metadata": {
    "collapsed": false,
    "ExecuteTime": {
     "end_time": "2024-05-09T00:03:25.833794Z",
     "start_time": "2024-05-09T00:03:25.830033Z"
    }
   },
   "execution_count": 19,
   "outputs": []
  },
  {
   "cell_type": "code",
   "source": [
    "do(\"mr_sprint23\")"
   ],
   "metadata": {
    "collapsed": false,
    "ExecuteTime": {
     "end_time": "2024-05-09T00:03:26.859636Z",
     "start_time": "2024-05-09T00:03:26.840536Z"
    }
   },
   "execution_count": 20,
   "outputs": []
  },
  {
   "cell_type": "markdown",
   "source": [
    "#### Do commands all exported to command line\n",
    "All do commands can also be run from the command line.  The 'do' launcher script:"
   ],
   "metadata": {
    "collapsed": false
   }
  },
  {
   "cell_type": "code",
   "source": [
    "!./do mr_sprint23"
   ],
   "metadata": {
    "collapsed": false,
    "ExecuteTime": {
     "end_time": "2024-05-09T00:03:29.479384Z",
     "start_time": "2024-05-09T00:03:29.004778Z"
    }
   },
   "execution_count": 21,
   "outputs": []
  },
  {
   "cell_type": "markdown",
   "source": [
    "#### Configuration inheritance\n",
    "Configuration shadowing inheritance eases testing of special cases.  Here we add a column to the 'mr_sprint23' configuration."
   ],
   "metadata": {
    "collapsed": false
   }
  },
  {
   "cell_type": "code",
   "source": [
    "!./do mr_sprint23.add_col"
   ],
   "metadata": {
    "collapsed": false,
    "ExecuteTime": {
     "end_time": "2024-05-09T00:03:33.866022Z",
     "start_time": "2024-05-09T00:03:33.408087Z"
    }
   },
   "execution_count": 22,
   "outputs": []
  },
  {
   "cell_type": "markdown",
   "source": [
    "#### Combining configuration and code\n",
    "Allowing configuration structures to be defined directly in python allows configuration\n",
    "to be combined with code in the same file.  Combining code and configuration in this\n",
    "way is powerful, natural, and simple."
   ],
   "metadata": {
    "collapsed": false
   }
  },
  {
   "cell_type": "code",
   "source": [],
   "metadata": {
    "collapsed": false,
    "ExecuteTime": {
     "end_time": "2024-05-09T00:03:35.710225Z",
     "start_time": "2024-05-09T00:03:35.708147Z"
    }
   },
   "execution_count": 22,
   "outputs": []
  },
  {
   "cell_type": "code",
   "source": [
    "#### Cleanup\n",
    "!rm *.xlsx"
   ],
   "metadata": {
    "collapsed": false,
    "ExecuteTime": {
     "end_time": "2024-05-09T00:03:36.568452Z",
     "start_time": "2024-05-09T00:03:36.445776Z"
    }
   },
   "execution_count": 23,
   "outputs": []
  },
  {
   "metadata": {},
   "cell_type": "code",
   "execution_count": null,
   "source": "",
   "outputs": []
  }
 ],
 "metadata": {
  "kernelspec": {
   "display_name": "Python 3 (ipykernel)",
   "language": "python",
   "name": "python3"
  },
  "language_info": {
   "codemirror_mode": {
    "name": "ipython",
    "version": 3
   },
   "file_extension": ".py",
   "mimetype": "text/x-python",
   "name": "python",
   "nbconvert_exporter": "python",
   "pygments_lexer": "ipython3",
   "version": "3.12.0"
  }
 },
 "nbformat": 4,
 "nbformat_minor": 4
}
